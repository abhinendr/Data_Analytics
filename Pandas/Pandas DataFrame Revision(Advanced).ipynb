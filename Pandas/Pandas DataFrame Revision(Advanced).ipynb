{
 "cells": [
  {
   "cell_type": "code",
   "execution_count": 1,
   "metadata": {},
   "outputs": [],
   "source": [
    "import pandas as pd\n",
    "import numpy as np"
   ]
  },
  {
   "cell_type": "code",
   "execution_count": 2,
   "metadata": {},
   "outputs": [],
   "source": [
    "array_a=np.array([[3,2,1],[6,3,2]])"
   ]
  },
  {
   "cell_type": "code",
   "execution_count": 3,
   "metadata": {},
   "outputs": [
    {
     "data": {
      "text/plain": [
       "array([[3, 2, 1],\n",
       "       [6, 3, 2]])"
      ]
     },
     "execution_count": 3,
     "metadata": {},
     "output_type": "execute_result"
    }
   ],
   "source": [
    "array_a"
   ]
  },
  {
   "cell_type": "code",
   "execution_count": 4,
   "metadata": {},
   "outputs": [
    {
     "data": {
      "text/plain": [
       "pandas.core.frame.DataFrame"
      ]
     },
     "execution_count": 4,
     "metadata": {},
     "output_type": "execute_result"
    }
   ],
   "source": [
    "type(pd.DataFrame(array_a))"
   ]
  },
  {
   "cell_type": "code",
   "execution_count": 5,
   "metadata": {},
   "outputs": [
    {
     "data": {
      "text/html": [
       "<div>\n",
       "<style scoped>\n",
       "    .dataframe tbody tr th:only-of-type {\n",
       "        vertical-align: middle;\n",
       "    }\n",
       "\n",
       "    .dataframe tbody tr th {\n",
       "        vertical-align: top;\n",
       "    }\n",
       "\n",
       "    .dataframe thead th {\n",
       "        text-align: right;\n",
       "    }\n",
       "</style>\n",
       "<table border=\"1\" class=\"dataframe\">\n",
       "  <thead>\n",
       "    <tr style=\"text-align: right;\">\n",
       "      <th></th>\n",
       "      <th>Column 1</th>\n",
       "      <th>Column 2</th>\n",
       "      <th>Column 3</th>\n",
       "    </tr>\n",
       "  </thead>\n",
       "  <tbody>\n",
       "    <tr>\n",
       "      <th>0</th>\n",
       "      <td>3</td>\n",
       "      <td>2</td>\n",
       "      <td>1</td>\n",
       "    </tr>\n",
       "    <tr>\n",
       "      <th>1</th>\n",
       "      <td>6</td>\n",
       "      <td>3</td>\n",
       "      <td>2</td>\n",
       "    </tr>\n",
       "  </tbody>\n",
       "</table>\n",
       "</div>"
      ],
      "text/plain": [
       "   Column 1  Column 2  Column 3\n",
       "0         3         2         1\n",
       "1         6         3         2"
      ]
     },
     "execution_count": 5,
     "metadata": {},
     "output_type": "execute_result"
    }
   ],
   "source": [
    "df=pd.DataFrame(array_a,columns=['Column 1','Column 2', 'Column 3'])\n",
    "df"
   ]
  },
  {
   "cell_type": "code",
   "execution_count": 12,
   "metadata": {},
   "outputs": [
    {
     "data": {
      "text/html": [
       "<div>\n",
       "<style scoped>\n",
       "    .dataframe tbody tr th:only-of-type {\n",
       "        vertical-align: middle;\n",
       "    }\n",
       "\n",
       "    .dataframe tbody tr th {\n",
       "        vertical-align: top;\n",
       "    }\n",
       "\n",
       "    .dataframe thead th {\n",
       "        text-align: right;\n",
       "    }\n",
       "</style>\n",
       "<table border=\"1\" class=\"dataframe\">\n",
       "  <thead>\n",
       "    <tr style=\"text-align: right;\">\n",
       "      <th></th>\n",
       "      <th>Description</th>\n",
       "      <th>Account</th>\n",
       "      <th>Amount</th>\n",
       "    </tr>\n",
       "    <tr>\n",
       "      <th>Date</th>\n",
       "      <th></th>\n",
       "      <th></th>\n",
       "      <th></th>\n",
       "    </tr>\n",
       "  </thead>\n",
       "  <tbody>\n",
       "    <tr>\n",
       "      <th>24-09-2013</th>\n",
       "      <td>Initial deposit for goal creation from SBA-9978</td>\n",
       "      <td>savings for me and Bro</td>\n",
       "      <td>5000.0</td>\n",
       "    </tr>\n",
       "    <tr>\n",
       "      <th>30-09-2013</th>\n",
       "      <td>Interest Deposit</td>\n",
       "      <td>savings for me and Bro</td>\n",
       "      <td>7.0</td>\n",
       "    </tr>\n",
       "    <tr>\n",
       "      <th>10-10-2013</th>\n",
       "      <td>Miscellaneous Deposit</td>\n",
       "      <td>savings for me and Bro</td>\n",
       "      <td>30000.0</td>\n",
       "    </tr>\n",
       "    <tr>\n",
       "      <th>10-10-2013</th>\n",
       "      <td>Miscellaneous Deposit</td>\n",
       "      <td>savings for me and Bro</td>\n",
       "      <td>2500.0</td>\n",
       "    </tr>\n",
       "    <tr>\n",
       "      <th>15-10-2013</th>\n",
       "      <td>Miscellaneous Deposit</td>\n",
       "      <td>savings for me and Bro</td>\n",
       "      <td>1.0</td>\n",
       "    </tr>\n",
       "    <tr>\n",
       "      <th>30-11-2013</th>\n",
       "      <td>User added funds from SBA-9978</td>\n",
       "      <td>savings for me and Bro</td>\n",
       "      <td>10000.0</td>\n",
       "    </tr>\n",
       "    <tr>\n",
       "      <th>05-12-2013</th>\n",
       "      <td>User added funds from SBA-9978</td>\n",
       "      <td>savings for me and Bro</td>\n",
       "      <td>100.0</td>\n",
       "    </tr>\n",
       "    <tr>\n",
       "      <th>31-12-2013</th>\n",
       "      <td>Interest Deposit</td>\n",
       "      <td>savings for me and Bro</td>\n",
       "      <td>739.0</td>\n",
       "    </tr>\n",
       "    <tr>\n",
       "      <th>01-01-2014</th>\n",
       "      <td>User added funds from SBA-9978</td>\n",
       "      <td>savings for me and Bro</td>\n",
       "      <td>1000.0</td>\n",
       "    </tr>\n",
       "    <tr>\n",
       "      <th>05-01-2014</th>\n",
       "      <td>User added funds from SBA-9978</td>\n",
       "      <td>savings for me and Bro</td>\n",
       "      <td>1000.0</td>\n",
       "    </tr>\n",
       "    <tr>\n",
       "      <th>04-02-2014</th>\n",
       "      <td>User added funds from SBA-9978</td>\n",
       "      <td>savings for me and Bro</td>\n",
       "      <td>5000.0</td>\n",
       "    </tr>\n",
       "    <tr>\n",
       "      <th>27-02-2014</th>\n",
       "      <td>User added funds from SBA-9978</td>\n",
       "      <td>savings for me and Bro</td>\n",
       "      <td>4653.0</td>\n",
       "    </tr>\n",
       "  </tbody>\n",
       "</table>\n",
       "</div>"
      ],
      "text/plain": [
       "                                                Description  \\\n",
       "Date                                                          \n",
       "24-09-2013  Initial deposit for goal creation from SBA-9978   \n",
       "30-09-2013                                 Interest Deposit   \n",
       "10-10-2013                            Miscellaneous Deposit   \n",
       "10-10-2013                            Miscellaneous Deposit   \n",
       "15-10-2013                            Miscellaneous Deposit   \n",
       "30-11-2013                   User added funds from SBA-9978   \n",
       "05-12-2013                   User added funds from SBA-9978   \n",
       "31-12-2013                                 Interest Deposit   \n",
       "01-01-2014                   User added funds from SBA-9978   \n",
       "05-01-2014                   User added funds from SBA-9978   \n",
       "04-02-2014                   User added funds from SBA-9978   \n",
       "27-02-2014                   User added funds from SBA-9978   \n",
       "\n",
       "                           Account   Amount  \n",
       "Date                                         \n",
       "24-09-2013  savings for me and Bro   5000.0  \n",
       "30-09-2013  savings for me and Bro      7.0  \n",
       "10-10-2013  savings for me and Bro  30000.0  \n",
       "10-10-2013  savings for me and Bro   2500.0  \n",
       "15-10-2013  savings for me and Bro      1.0  \n",
       "30-11-2013  savings for me and Bro  10000.0  \n",
       "05-12-2013  savings for me and Bro    100.0  \n",
       "31-12-2013  savings for me and Bro    739.0  \n",
       "01-01-2014  savings for me and Bro   1000.0  \n",
       "05-01-2014  savings for me and Bro   1000.0  \n",
       "04-02-2014  savings for me and Bro   5000.0  \n",
       "27-02-2014  savings for me and Bro   4653.0  "
      ]
     },
     "execution_count": 12,
     "metadata": {},
     "output_type": "execute_result"
    }
   ],
   "source": [
    "data=pd.read_csv(\"Sample-Val.csv\", index_col=\"Date\")\n",
    "lead_co_data=data.copy()\n",
    "lead_co_data"
   ]
  },
  {
   "cell_type": "code",
   "execution_count": 13,
   "metadata": {},
   "outputs": [
    {
     "data": {
      "text/plain": [
       "pandas.core.frame.DataFrame"
      ]
     },
     "execution_count": 13,
     "metadata": {},
     "output_type": "execute_result"
    }
   ],
   "source": [
    "type(lead_co_data)"
   ]
  },
  {
   "cell_type": "markdown",
   "metadata": {},
   "source": [
    "<b>Common Attributes for Working with Data Frames"
   ]
  },
  {
   "cell_type": "code",
   "execution_count": 14,
   "metadata": {},
   "outputs": [
    {
     "data": {
      "text/html": [
       "<div>\n",
       "<style scoped>\n",
       "    .dataframe tbody tr th:only-of-type {\n",
       "        vertical-align: middle;\n",
       "    }\n",
       "\n",
       "    .dataframe tbody tr th {\n",
       "        vertical-align: top;\n",
       "    }\n",
       "\n",
       "    .dataframe thead th {\n",
       "        text-align: right;\n",
       "    }\n",
       "</style>\n",
       "<table border=\"1\" class=\"dataframe\">\n",
       "  <thead>\n",
       "    <tr style=\"text-align: right;\">\n",
       "      <th></th>\n",
       "      <th>Description</th>\n",
       "      <th>Account</th>\n",
       "      <th>Amount</th>\n",
       "    </tr>\n",
       "    <tr>\n",
       "      <th>Date</th>\n",
       "      <th></th>\n",
       "      <th></th>\n",
       "      <th></th>\n",
       "    </tr>\n",
       "  </thead>\n",
       "  <tbody>\n",
       "    <tr>\n",
       "      <th>24-09-2013</th>\n",
       "      <td>Initial deposit for goal creation from SBA-9978</td>\n",
       "      <td>savings for me and Bro</td>\n",
       "      <td>5000.0</td>\n",
       "    </tr>\n",
       "    <tr>\n",
       "      <th>30-09-2013</th>\n",
       "      <td>Interest Deposit</td>\n",
       "      <td>savings for me and Bro</td>\n",
       "      <td>7.0</td>\n",
       "    </tr>\n",
       "    <tr>\n",
       "      <th>10-10-2013</th>\n",
       "      <td>Miscellaneous Deposit</td>\n",
       "      <td>savings for me and Bro</td>\n",
       "      <td>30000.0</td>\n",
       "    </tr>\n",
       "    <tr>\n",
       "      <th>10-10-2013</th>\n",
       "      <td>Miscellaneous Deposit</td>\n",
       "      <td>savings for me and Bro</td>\n",
       "      <td>2500.0</td>\n",
       "    </tr>\n",
       "    <tr>\n",
       "      <th>15-10-2013</th>\n",
       "      <td>Miscellaneous Deposit</td>\n",
       "      <td>savings for me and Bro</td>\n",
       "      <td>1.0</td>\n",
       "    </tr>\n",
       "  </tbody>\n",
       "</table>\n",
       "</div>"
      ],
      "text/plain": [
       "                                                Description  \\\n",
       "Date                                                          \n",
       "24-09-2013  Initial deposit for goal creation from SBA-9978   \n",
       "30-09-2013                                 Interest Deposit   \n",
       "10-10-2013                            Miscellaneous Deposit   \n",
       "10-10-2013                            Miscellaneous Deposit   \n",
       "15-10-2013                            Miscellaneous Deposit   \n",
       "\n",
       "                           Account   Amount  \n",
       "Date                                         \n",
       "24-09-2013  savings for me and Bro   5000.0  \n",
       "30-09-2013  savings for me and Bro      7.0  \n",
       "10-10-2013  savings for me and Bro  30000.0  \n",
       "10-10-2013  savings for me and Bro   2500.0  \n",
       "15-10-2013  savings for me and Bro      1.0  "
      ]
     },
     "execution_count": 14,
     "metadata": {},
     "output_type": "execute_result"
    }
   ],
   "source": [
    "lead_co_data.head()"
   ]
  },
  {
   "cell_type": "code",
   "execution_count": 15,
   "metadata": {},
   "outputs": [
    {
     "data": {
      "text/plain": [
       "Index([' Description', ' Account', ' Amount'], dtype='object')"
      ]
     },
     "execution_count": 15,
     "metadata": {},
     "output_type": "execute_result"
    }
   ],
   "source": [
    "lead_co_data.columns"
   ]
  },
  {
   "cell_type": "code",
   "execution_count": 16,
   "metadata": {},
   "outputs": [
    {
     "data": {
      "text/plain": [
       "pandas.core.frame.DataFrame"
      ]
     },
     "execution_count": 16,
     "metadata": {},
     "output_type": "execute_result"
    }
   ],
   "source": [
    "type(lead_co_data)"
   ]
  },
  {
   "cell_type": "code",
   "execution_count": 17,
   "metadata": {},
   "outputs": [
    {
     "data": {
      "text/plain": [
       "[Index(['24-09-2013', '30-09-2013', '10-10-2013', '10-10-2013', '15-10-2013',\n",
       "        '30-11-2013', '05-12-2013', '31-12-2013', '01-01-2014', '05-01-2014',\n",
       "        '04-02-2014', '27-02-2014'],\n",
       "       dtype='object', name='Date'),\n",
       " Index([' Description', ' Account', ' Amount'], dtype='object')]"
      ]
     },
     "execution_count": 17,
     "metadata": {},
     "output_type": "execute_result"
    }
   ],
   "source": [
    "lead_co_data.axes"
   ]
  },
  {
   "cell_type": "code",
   "execution_count": 18,
   "metadata": {},
   "outputs": [
    {
     "data": {
      "text/plain": [
       " Description     object\n",
       " Account         object\n",
       " Amount         float64\n",
       "dtype: object"
      ]
     },
     "execution_count": 18,
     "metadata": {},
     "output_type": "execute_result"
    }
   ],
   "source": [
    "lead_co_data.dtypes"
   ]
  },
  {
   "cell_type": "code",
   "execution_count": 19,
   "metadata": {},
   "outputs": [
    {
     "data": {
      "text/plain": [
       "array([['Initial deposit for goal creation from SBA-9978',\n",
       "        'savings for me and Bro', 5000.0],\n",
       "       ['Interest Deposit', 'savings for me and Bro', 7.0],\n",
       "       ['Miscellaneous Deposit', 'savings for me and Bro', 30000.0],\n",
       "       ['Miscellaneous Deposit', 'savings for me and Bro', 2500.0],\n",
       "       ['Miscellaneous Deposit', 'savings for me and Bro', 1.0],\n",
       "       ['User added funds from SBA-9978', 'savings for me and Bro',\n",
       "        10000.0],\n",
       "       ['User added funds from SBA-9978', 'savings for me and Bro',\n",
       "        100.0],\n",
       "       ['Interest Deposit', 'savings for me and Bro', 739.0],\n",
       "       ['User added funds from SBA-9978', 'savings for me and Bro',\n",
       "        1000.0],\n",
       "       ['User added funds from SBA-9978', 'savings for me and Bro',\n",
       "        1000.0],\n",
       "       ['User added funds from SBA-9978', 'savings for me and Bro',\n",
       "        5000.0],\n",
       "       ['User added funds from SBA-9978', 'savings for me and Bro',\n",
       "        4653.0]], dtype=object)"
      ]
     },
     "execution_count": 19,
     "metadata": {},
     "output_type": "execute_result"
    }
   ],
   "source": [
    "lead_co_data.values"
   ]
  },
  {
   "cell_type": "code",
   "execution_count": 20,
   "metadata": {},
   "outputs": [
    {
     "data": {
      "text/plain": [
       "array([['Initial deposit for goal creation from SBA-9978',\n",
       "        'savings for me and Bro', 5000.0],\n",
       "       ['Interest Deposit', 'savings for me and Bro', 7.0],\n",
       "       ['Miscellaneous Deposit', 'savings for me and Bro', 30000.0],\n",
       "       ['Miscellaneous Deposit', 'savings for me and Bro', 2500.0],\n",
       "       ['Miscellaneous Deposit', 'savings for me and Bro', 1.0],\n",
       "       ['User added funds from SBA-9978', 'savings for me and Bro',\n",
       "        10000.0],\n",
       "       ['User added funds from SBA-9978', 'savings for me and Bro',\n",
       "        100.0],\n",
       "       ['Interest Deposit', 'savings for me and Bro', 739.0],\n",
       "       ['User added funds from SBA-9978', 'savings for me and Bro',\n",
       "        1000.0],\n",
       "       ['User added funds from SBA-9978', 'savings for me and Bro',\n",
       "        1000.0],\n",
       "       ['User added funds from SBA-9978', 'savings for me and Bro',\n",
       "        5000.0],\n",
       "       ['User added funds from SBA-9978', 'savings for me and Bro',\n",
       "        4653.0]], dtype=object)"
      ]
     },
     "execution_count": 20,
     "metadata": {},
     "output_type": "execute_result"
    }
   ],
   "source": [
    "lead_co_data.to_numpy()"
   ]
  },
  {
   "cell_type": "code",
   "execution_count": 21,
   "metadata": {},
   "outputs": [
    {
     "data": {
      "text/plain": [
       "(12, 3)"
      ]
     },
     "execution_count": 21,
     "metadata": {},
     "output_type": "execute_result"
    }
   ],
   "source": [
    "lead_co_data.shape"
   ]
  },
  {
   "cell_type": "markdown",
   "metadata": {},
   "source": [
    "<h4><b>Data Selection in Pandas Data Frames</b></h4>\n"
   ]
  },
  {
   "cell_type": "code",
   "execution_count": 24,
   "metadata": {},
   "outputs": [
    {
     "data": {
      "text/html": [
       "<div>\n",
       "<style scoped>\n",
       "    .dataframe tbody tr th:only-of-type {\n",
       "        vertical-align: middle;\n",
       "    }\n",
       "\n",
       "    .dataframe tbody tr th {\n",
       "        vertical-align: top;\n",
       "    }\n",
       "\n",
       "    .dataframe thead th {\n",
       "        text-align: right;\n",
       "    }\n",
       "</style>\n",
       "<table border=\"1\" class=\"dataframe\">\n",
       "  <thead>\n",
       "    <tr style=\"text-align: right;\">\n",
       "      <th></th>\n",
       "      <th>Description</th>\n",
       "      <th>Account</th>\n",
       "      <th>Amount</th>\n",
       "    </tr>\n",
       "    <tr>\n",
       "      <th>Date</th>\n",
       "      <th></th>\n",
       "      <th></th>\n",
       "      <th></th>\n",
       "    </tr>\n",
       "  </thead>\n",
       "  <tbody>\n",
       "    <tr>\n",
       "      <th>24-09-2013</th>\n",
       "      <td>Initial deposit for goal creation from SBA-9978</td>\n",
       "      <td>savings for me and Bro</td>\n",
       "      <td>5000.0</td>\n",
       "    </tr>\n",
       "    <tr>\n",
       "      <th>30-09-2013</th>\n",
       "      <td>Interest Deposit</td>\n",
       "      <td>savings for me and Bro</td>\n",
       "      <td>7.0</td>\n",
       "    </tr>\n",
       "    <tr>\n",
       "      <th>10-10-2013</th>\n",
       "      <td>Miscellaneous Deposit</td>\n",
       "      <td>savings for me and Bro</td>\n",
       "      <td>30000.0</td>\n",
       "    </tr>\n",
       "  </tbody>\n",
       "</table>\n",
       "</div>"
      ],
      "text/plain": [
       "                                                Description  \\\n",
       "Date                                                          \n",
       "24-09-2013  Initial deposit for goal creation from SBA-9978   \n",
       "30-09-2013                                 Interest Deposit   \n",
       "10-10-2013                            Miscellaneous Deposit   \n",
       "\n",
       "                           Account   Amount  \n",
       "Date                                         \n",
       "24-09-2013  savings for me and Bro   5000.0  \n",
       "30-09-2013  savings for me and Bro      7.0  \n",
       "10-10-2013  savings for me and Bro  30000.0  "
      ]
     },
     "execution_count": 24,
     "metadata": {},
     "output_type": "execute_result"
    }
   ],
   "source": [
    " lead_co_data.head()"
   ]
  },
  {
   "cell_type": "code",
   "execution_count": 43,
   "metadata": {},
   "outputs": [
    {
     "data": {
      "text/html": [
       "<div>\n",
       "<style scoped>\n",
       "    .dataframe tbody tr th:only-of-type {\n",
       "        vertical-align: middle;\n",
       "    }\n",
       "\n",
       "    .dataframe tbody tr th {\n",
       "        vertical-align: top;\n",
       "    }\n",
       "\n",
       "    .dataframe thead th {\n",
       "        text-align: right;\n",
       "    }\n",
       "</style>\n",
       "<table border=\"1\" class=\"dataframe\">\n",
       "  <thead>\n",
       "    <tr style=\"text-align: right;\">\n",
       "      <th></th>\n",
       "      <th>Date</th>\n",
       "      <th>Description</th>\n",
       "      <th>Account</th>\n",
       "      <th>Amount</th>\n",
       "      <th>Maturity</th>\n",
       "    </tr>\n",
       "  </thead>\n",
       "  <tbody>\n",
       "    <tr>\n",
       "      <th>0</th>\n",
       "      <td>24-09-2013</td>\n",
       "      <td>Initial deposit for goal creation from SBA-9978</td>\n",
       "      <td>savings for me and Bro</td>\n",
       "      <td>5000</td>\n",
       "      <td>25</td>\n",
       "    </tr>\n",
       "    <tr>\n",
       "      <th>1</th>\n",
       "      <td>30-09-2013</td>\n",
       "      <td>Interest Deposit</td>\n",
       "      <td>savings for me and Bro</td>\n",
       "      <td>7</td>\n",
       "      <td>15</td>\n",
       "    </tr>\n",
       "    <tr>\n",
       "      <th>2</th>\n",
       "      <td>10/10/2013</td>\n",
       "      <td>Miscellaneous Deposit</td>\n",
       "      <td>savings for me and Bro</td>\n",
       "      <td>30000</td>\n",
       "      <td>33</td>\n",
       "    </tr>\n",
       "    <tr>\n",
       "      <th>3</th>\n",
       "      <td>10/10/2013</td>\n",
       "      <td>Miscellaneous Deposit</td>\n",
       "      <td>savings for me and Bro</td>\n",
       "      <td>2500</td>\n",
       "      <td>10</td>\n",
       "    </tr>\n",
       "    <tr>\n",
       "      <th>4</th>\n",
       "      <td>15-10-2013</td>\n",
       "      <td>Miscellaneous Deposit</td>\n",
       "      <td>savings for me and Bro</td>\n",
       "      <td>1</td>\n",
       "      <td>15</td>\n",
       "    </tr>\n",
       "    <tr>\n",
       "      <th>5</th>\n",
       "      <td>30-11-2013</td>\n",
       "      <td>User added funds from SBA-9978</td>\n",
       "      <td>savings for me and Bro</td>\n",
       "      <td>10000</td>\n",
       "      <td>17</td>\n",
       "    </tr>\n",
       "    <tr>\n",
       "      <th>6</th>\n",
       "      <td>5/12/2013</td>\n",
       "      <td>User added funds from SBA-9978</td>\n",
       "      <td>savings for me and Bro</td>\n",
       "      <td>100</td>\n",
       "      <td>19</td>\n",
       "    </tr>\n",
       "    <tr>\n",
       "      <th>7</th>\n",
       "      <td>31-12-2013</td>\n",
       "      <td>Interest Deposit</td>\n",
       "      <td>savings for me and Bro</td>\n",
       "      <td>739</td>\n",
       "      <td>24</td>\n",
       "    </tr>\n",
       "    <tr>\n",
       "      <th>8</th>\n",
       "      <td>1/1/2014</td>\n",
       "      <td>User added funds from SBA-9978</td>\n",
       "      <td>savings for me and Bro</td>\n",
       "      <td>1000</td>\n",
       "      <td>12</td>\n",
       "    </tr>\n",
       "    <tr>\n",
       "      <th>9</th>\n",
       "      <td>5/1/2014</td>\n",
       "      <td>User added funds from SBA-9978</td>\n",
       "      <td>savings for me and Bro</td>\n",
       "      <td>1000</td>\n",
       "      <td>13</td>\n",
       "    </tr>\n",
       "    <tr>\n",
       "      <th>10</th>\n",
       "      <td>4/2/2014</td>\n",
       "      <td>User added funds from SBA-9978</td>\n",
       "      <td>savings for me and Bro</td>\n",
       "      <td>5000</td>\n",
       "      <td>14</td>\n",
       "    </tr>\n",
       "    <tr>\n",
       "      <th>11</th>\n",
       "      <td>27-02-2014</td>\n",
       "      <td>User added funds from SBA-9978</td>\n",
       "      <td>savings for me and Bro</td>\n",
       "      <td>4653</td>\n",
       "      <td>18</td>\n",
       "    </tr>\n",
       "  </tbody>\n",
       "</table>\n",
       "</div>"
      ],
      "text/plain": [
       "          Date                                      Description  \\\n",
       "0   24-09-2013  Initial deposit for goal creation from SBA-9978   \n",
       "1   30-09-2013                                 Interest Deposit   \n",
       "2   10/10/2013                            Miscellaneous Deposit   \n",
       "3   10/10/2013                            Miscellaneous Deposit   \n",
       "4   15-10-2013                            Miscellaneous Deposit   \n",
       "5   30-11-2013                   User added funds from SBA-9978   \n",
       "6    5/12/2013                   User added funds from SBA-9978   \n",
       "7   31-12-2013                                 Interest Deposit   \n",
       "8     1/1/2014                   User added funds from SBA-9978   \n",
       "9     5/1/2014                   User added funds from SBA-9978   \n",
       "10    4/2/2014                   User added funds from SBA-9978   \n",
       "11  27-02-2014                   User added funds from SBA-9978   \n",
       "\n",
       "                   Account   Amount  Maturity  \n",
       "0   savings for me and Bro     5000        25  \n",
       "1   savings for me and Bro        7        15  \n",
       "2   savings for me and Bro    30000        33  \n",
       "3   savings for me and Bro     2500        10  \n",
       "4   savings for me and Bro        1        15  \n",
       "5   savings for me and Bro    10000        17  \n",
       "6   savings for me and Bro      100        19  \n",
       "7   savings for me and Bro      739        24  \n",
       "8   savings for me and Bro     1000        12  \n",
       "9   savings for me and Bro     1000        13  \n",
       "10  savings for me and Bro     5000        14  \n",
       "11  savings for me and Bro     4653        18  "
      ]
     },
     "execution_count": 43,
     "metadata": {},
     "output_type": "execute_result"
    }
   ],
   "source": [
    "data=pd.read_csv(\"Sample-Val.csv\")\n",
    "lead_co_data=data.copy()\n",
    "lead_co_data"
   ]
  },
  {
   "cell_type": "code",
   "execution_count": 44,
   "metadata": {},
   "outputs": [
    {
     "data": {
      "text/plain": [
       "0     24-09-2013\n",
       "1     30-09-2013\n",
       "2     10/10/2013\n",
       "3     10/10/2013\n",
       "4     15-10-2013\n",
       "5     30-11-2013\n",
       "6      5/12/2013\n",
       "7     31-12-2013\n",
       "8       1/1/2014\n",
       "9       5/1/2014\n",
       "10      4/2/2014\n",
       "11    27-02-2014\n",
       "Name: Date, dtype: object"
      ]
     },
     "execution_count": 44,
     "metadata": {},
     "output_type": "execute_result"
    }
   ],
   "source": [
    "lead_co_data.Date"
   ]
  },
  {
   "cell_type": "code",
   "execution_count": 39,
   "metadata": {},
   "outputs": [
    {
     "data": {
      "text/plain": [
       "0    24-09-2013\n",
       "1    30-09-2013\n",
       "2    10-10-2013\n",
       "Name: Date, dtype: object"
      ]
     },
     "execution_count": 39,
     "metadata": {},
     "output_type": "execute_result"
    }
   ],
   "source": [
    "lead_co_data['Date'].head(3) #Only Date is working here, Not Sure"
   ]
  },
  {
   "cell_type": "code",
   "execution_count": 42,
   "metadata": {},
   "outputs": [
    {
     "data": {
      "text/plain": [
       "pandas.core.series.Series"
      ]
     },
     "execution_count": 42,
     "metadata": {},
     "output_type": "execute_result"
    }
   ],
   "source": [
    "type(lead_co_data['Date'])"
   ]
  },
  {
   "cell_type": "code",
   "execution_count": 47,
   "metadata": {},
   "outputs": [
    {
     "data": {
      "text/html": [
       "<div>\n",
       "<style scoped>\n",
       "    .dataframe tbody tr th:only-of-type {\n",
       "        vertical-align: middle;\n",
       "    }\n",
       "\n",
       "    .dataframe tbody tr th {\n",
       "        vertical-align: top;\n",
       "    }\n",
       "\n",
       "    .dataframe thead th {\n",
       "        text-align: right;\n",
       "    }\n",
       "</style>\n",
       "<table border=\"1\" class=\"dataframe\">\n",
       "  <thead>\n",
       "    <tr style=\"text-align: right;\">\n",
       "      <th></th>\n",
       "      <th>Maturity</th>\n",
       "      <th>Date</th>\n",
       "    </tr>\n",
       "  </thead>\n",
       "  <tbody>\n",
       "    <tr>\n",
       "      <th>0</th>\n",
       "      <td>25</td>\n",
       "      <td>24-09-2013</td>\n",
       "    </tr>\n",
       "    <tr>\n",
       "      <th>1</th>\n",
       "      <td>15</td>\n",
       "      <td>30-09-2013</td>\n",
       "    </tr>\n",
       "    <tr>\n",
       "      <th>2</th>\n",
       "      <td>33</td>\n",
       "      <td>10/10/2013</td>\n",
       "    </tr>\n",
       "    <tr>\n",
       "      <th>3</th>\n",
       "      <td>10</td>\n",
       "      <td>10/10/2013</td>\n",
       "    </tr>\n",
       "    <tr>\n",
       "      <th>4</th>\n",
       "      <td>15</td>\n",
       "      <td>15-10-2013</td>\n",
       "    </tr>\n",
       "  </tbody>\n",
       "</table>\n",
       "</div>"
      ],
      "text/plain": [
       "   Maturity        Date\n",
       "0        25  24-09-2013\n",
       "1        15  30-09-2013\n",
       "2        33  10/10/2013\n",
       "3        10  10/10/2013\n",
       "4        15  15-10-2013"
      ]
     },
     "execution_count": 47,
     "metadata": {},
     "output_type": "execute_result"
    }
   ],
   "source": [
    "lead_co_data[['Maturity', 'Date']].head()"
   ]
  },
  {
   "cell_type": "markdown",
   "metadata": {},
   "source": [
    "<b>Indexing with ILOC</b>"
   ]
  },
  {
   "cell_type": "code",
   "execution_count": 48,
   "metadata": {},
   "outputs": [
    {
     "data": {
      "text/plain": [
       "Date                                                 24-09-2013\n",
       " Description    Initial deposit for goal creation from SBA-9978\n",
       " Account                                 savings for me and Bro\n",
       " Amount                                                    5000\n",
       "Maturity                                                     25\n",
       "Name: 0, dtype: object"
      ]
     },
     "execution_count": 48,
     "metadata": {},
     "output_type": "execute_result"
    }
   ],
   "source": [
    "lead_co_data.iloc[0]"
   ]
  },
  {
   "cell_type": "code",
   "execution_count": 49,
   "metadata": {},
   "outputs": [
    {
     "data": {
      "text/plain": [
       "Date                        30-09-2013\n",
       " Description          Interest Deposit\n",
       " Account        savings for me and Bro\n",
       " Amount                              7\n",
       "Maturity                            15\n",
       "Name: 1, dtype: object"
      ]
     },
     "execution_count": 49,
     "metadata": {},
     "output_type": "execute_result"
    }
   ],
   "source": [
    "lead_co_data.iloc[1]"
   ]
  },
  {
   "cell_type": "code",
   "execution_count": 50,
   "metadata": {},
   "outputs": [
    {
     "data": {
      "text/plain": [
       "7"
      ]
     },
     "execution_count": 50,
     "metadata": {},
     "output_type": "execute_result"
    }
   ],
   "source": [
    "lead_co_data.iloc[1,3] #AMount here printed for 1st Index"
   ]
  },
  {
   "cell_type": "code",
   "execution_count": 55,
   "metadata": {},
   "outputs": [
    {
     "data": {
      "text/plain": [
       "Date                        30-09-2013\n",
       " Description          Interest Deposit\n",
       " Account        savings for me and Bro\n",
       " Amount                              7\n",
       "Maturity                            15\n",
       "Name: 1, dtype: object"
      ]
     },
     "execution_count": 55,
     "metadata": {},
     "output_type": "execute_result"
    }
   ],
   "source": [
    "lead_co_data.iloc[1,:]"
   ]
  },
  {
   "cell_type": "code",
   "execution_count": 56,
   "metadata": {},
   "outputs": [
    {
     "data": {
      "text/plain": [
       "0      5000\n",
       "1         7\n",
       "2     30000\n",
       "3      2500\n",
       "4         1\n",
       "5     10000\n",
       "6       100\n",
       "7       739\n",
       "8      1000\n",
       "9      1000\n",
       "10     5000\n",
       "11     4653\n",
       "Name:  Amount, dtype: int64"
      ]
     },
     "execution_count": 56,
     "metadata": {},
     "output_type": "execute_result"
    }
   ],
   "source": [
    "lead_co_data.iloc[:,3]"
   ]
  },
  {
   "cell_type": "code",
   "execution_count": 57,
   "metadata": {},
   "outputs": [
    {
     "data": {
      "text/plain": [
       "pandas.core.series.Series"
      ]
     },
     "execution_count": 57,
     "metadata": {},
     "output_type": "execute_result"
    }
   ],
   "source": [
    "type(lead_co_data.iloc[:,3])"
   ]
  },
  {
   "cell_type": "code",
   "execution_count": 58,
   "metadata": {},
   "outputs": [
    {
     "data": {
      "text/plain": [
       "numpy.int64"
      ]
     },
     "execution_count": 58,
     "metadata": {},
     "output_type": "execute_result"
    }
   ],
   "source": [
    "type(lead_co_data.iloc[1,3])"
   ]
  },
  {
   "cell_type": "code",
   "execution_count": 59,
   "metadata": {},
   "outputs": [
    {
     "data": {
      "text/html": [
       "<div>\n",
       "<style scoped>\n",
       "    .dataframe tbody tr th:only-of-type {\n",
       "        vertical-align: middle;\n",
       "    }\n",
       "\n",
       "    .dataframe tbody tr th {\n",
       "        vertical-align: top;\n",
       "    }\n",
       "\n",
       "    .dataframe thead th {\n",
       "        text-align: right;\n",
       "    }\n",
       "</style>\n",
       "<table border=\"1\" class=\"dataframe\">\n",
       "  <thead>\n",
       "    <tr style=\"text-align: right;\">\n",
       "      <th></th>\n",
       "      <th>Date</th>\n",
       "      <th>Description</th>\n",
       "      <th>Account</th>\n",
       "      <th>Amount</th>\n",
       "      <th>Maturity</th>\n",
       "    </tr>\n",
       "  </thead>\n",
       "  <tbody>\n",
       "    <tr>\n",
       "      <th>1</th>\n",
       "      <td>30-09-2013</td>\n",
       "      <td>Interest Deposit</td>\n",
       "      <td>savings for me and Bro</td>\n",
       "      <td>7</td>\n",
       "      <td>15</td>\n",
       "    </tr>\n",
       "    <tr>\n",
       "      <th>3</th>\n",
       "      <td>10/10/2013</td>\n",
       "      <td>Miscellaneous Deposit</td>\n",
       "      <td>savings for me and Bro</td>\n",
       "      <td>2500</td>\n",
       "      <td>10</td>\n",
       "    </tr>\n",
       "  </tbody>\n",
       "</table>\n",
       "</div>"
      ],
      "text/plain": [
       "         Date            Description                 Account   Amount  \\\n",
       "1  30-09-2013       Interest Deposit  savings for me and Bro        7   \n",
       "3  10/10/2013  Miscellaneous Deposit  savings for me and Bro     2500   \n",
       "\n",
       "   Maturity  \n",
       "1        15  \n",
       "3        10  "
      ]
     },
     "execution_count": 59,
     "metadata": {},
     "output_type": "execute_result"
    }
   ],
   "source": [
    "lead_co_data.iloc[[1,3],:]"
   ]
  },
  {
   "cell_type": "code",
   "execution_count": 60,
   "metadata": {},
   "outputs": [
    {
     "data": {
      "text/html": [
       "<div>\n",
       "<style scoped>\n",
       "    .dataframe tbody tr th:only-of-type {\n",
       "        vertical-align: middle;\n",
       "    }\n",
       "\n",
       "    .dataframe tbody tr th {\n",
       "        vertical-align: top;\n",
       "    }\n",
       "\n",
       "    .dataframe thead th {\n",
       "        text-align: right;\n",
       "    }\n",
       "</style>\n",
       "<table border=\"1\" class=\"dataframe\">\n",
       "  <thead>\n",
       "    <tr style=\"text-align: right;\">\n",
       "      <th></th>\n",
       "      <th>Amount</th>\n",
       "      <th>Description</th>\n",
       "    </tr>\n",
       "  </thead>\n",
       "  <tbody>\n",
       "    <tr>\n",
       "      <th>0</th>\n",
       "      <td>5000</td>\n",
       "      <td>Initial deposit for goal creation from SBA-9978</td>\n",
       "    </tr>\n",
       "    <tr>\n",
       "      <th>1</th>\n",
       "      <td>7</td>\n",
       "      <td>Interest Deposit</td>\n",
       "    </tr>\n",
       "    <tr>\n",
       "      <th>2</th>\n",
       "      <td>30000</td>\n",
       "      <td>Miscellaneous Deposit</td>\n",
       "    </tr>\n",
       "    <tr>\n",
       "      <th>3</th>\n",
       "      <td>2500</td>\n",
       "      <td>Miscellaneous Deposit</td>\n",
       "    </tr>\n",
       "    <tr>\n",
       "      <th>4</th>\n",
       "      <td>1</td>\n",
       "      <td>Miscellaneous Deposit</td>\n",
       "    </tr>\n",
       "    <tr>\n",
       "      <th>5</th>\n",
       "      <td>10000</td>\n",
       "      <td>User added funds from SBA-9978</td>\n",
       "    </tr>\n",
       "    <tr>\n",
       "      <th>6</th>\n",
       "      <td>100</td>\n",
       "      <td>User added funds from SBA-9978</td>\n",
       "    </tr>\n",
       "    <tr>\n",
       "      <th>7</th>\n",
       "      <td>739</td>\n",
       "      <td>Interest Deposit</td>\n",
       "    </tr>\n",
       "    <tr>\n",
       "      <th>8</th>\n",
       "      <td>1000</td>\n",
       "      <td>User added funds from SBA-9978</td>\n",
       "    </tr>\n",
       "    <tr>\n",
       "      <th>9</th>\n",
       "      <td>1000</td>\n",
       "      <td>User added funds from SBA-9978</td>\n",
       "    </tr>\n",
       "    <tr>\n",
       "      <th>10</th>\n",
       "      <td>5000</td>\n",
       "      <td>User added funds from SBA-9978</td>\n",
       "    </tr>\n",
       "    <tr>\n",
       "      <th>11</th>\n",
       "      <td>4653</td>\n",
       "      <td>User added funds from SBA-9978</td>\n",
       "    </tr>\n",
       "  </tbody>\n",
       "</table>\n",
       "</div>"
      ],
      "text/plain": [
       "     Amount                                      Description\n",
       "0      5000  Initial deposit for goal creation from SBA-9978\n",
       "1         7                                 Interest Deposit\n",
       "2     30000                            Miscellaneous Deposit\n",
       "3      2500                            Miscellaneous Deposit\n",
       "4         1                            Miscellaneous Deposit\n",
       "5     10000                   User added funds from SBA-9978\n",
       "6       100                   User added funds from SBA-9978\n",
       "7       739                                 Interest Deposit\n",
       "8      1000                   User added funds from SBA-9978\n",
       "9      1000                   User added funds from SBA-9978\n",
       "10     5000                   User added funds from SBA-9978\n",
       "11     4653                   User added funds from SBA-9978"
      ]
     },
     "execution_count": 60,
     "metadata": {},
     "output_type": "execute_result"
    }
   ],
   "source": [
    "lead_co_data.iloc[:,[3,1]]"
   ]
  },
  {
   "cell_type": "markdown",
   "metadata": {},
   "source": [
    "<b>Indexing with LOC</b>"
   ]
  },
  {
   "cell_type": "code",
   "execution_count": 61,
   "metadata": {},
   "outputs": [],
   "source": [
    "data=pd.read_csv(\"Sample-Val.csv\",index_col=\"Maturity\")\n",
    "lead_co_data=data.copy()"
   ]
  },
  {
   "cell_type": "code",
   "execution_count": 64,
   "metadata": {},
   "outputs": [
    {
     "data": {
      "text/html": [
       "<div>\n",
       "<style scoped>\n",
       "    .dataframe tbody tr th:only-of-type {\n",
       "        vertical-align: middle;\n",
       "    }\n",
       "\n",
       "    .dataframe tbody tr th {\n",
       "        vertical-align: top;\n",
       "    }\n",
       "\n",
       "    .dataframe thead th {\n",
       "        text-align: right;\n",
       "    }\n",
       "</style>\n",
       "<table border=\"1\" class=\"dataframe\">\n",
       "  <thead>\n",
       "    <tr style=\"text-align: right;\">\n",
       "      <th></th>\n",
       "      <th>Date</th>\n",
       "      <th>Description</th>\n",
       "      <th>Account</th>\n",
       "      <th>Amount</th>\n",
       "    </tr>\n",
       "    <tr>\n",
       "      <th>Maturity</th>\n",
       "      <th></th>\n",
       "      <th></th>\n",
       "      <th></th>\n",
       "      <th></th>\n",
       "    </tr>\n",
       "  </thead>\n",
       "  <tbody>\n",
       "    <tr>\n",
       "      <th>10</th>\n",
       "      <td>10/10/2013</td>\n",
       "      <td>Miscellaneous Deposit</td>\n",
       "      <td>savings for me and Bro</td>\n",
       "      <td>2500</td>\n",
       "    </tr>\n",
       "    <tr>\n",
       "      <th>12</th>\n",
       "      <td>1/1/2014</td>\n",
       "      <td>User added funds from SBA-9978</td>\n",
       "      <td>savings for me and Bro</td>\n",
       "      <td>1000</td>\n",
       "    </tr>\n",
       "    <tr>\n",
       "      <th>13</th>\n",
       "      <td>5/1/2014</td>\n",
       "      <td>User added funds from SBA-9978</td>\n",
       "      <td>savings for me and Bro</td>\n",
       "      <td>1000</td>\n",
       "    </tr>\n",
       "    <tr>\n",
       "      <th>14</th>\n",
       "      <td>4/2/2014</td>\n",
       "      <td>User added funds from SBA-9978</td>\n",
       "      <td>savings for me and Bro</td>\n",
       "      <td>5000</td>\n",
       "    </tr>\n",
       "    <tr>\n",
       "      <th>15</th>\n",
       "      <td>30-09-2013</td>\n",
       "      <td>Interest Deposit</td>\n",
       "      <td>savings for me and Bro</td>\n",
       "      <td>7</td>\n",
       "    </tr>\n",
       "    <tr>\n",
       "      <th>15</th>\n",
       "      <td>15-10-2013</td>\n",
       "      <td>Miscellaneous Deposit</td>\n",
       "      <td>savings for me and Bro</td>\n",
       "      <td>1</td>\n",
       "    </tr>\n",
       "    <tr>\n",
       "      <th>17</th>\n",
       "      <td>30-11-2013</td>\n",
       "      <td>User added funds from SBA-9978</td>\n",
       "      <td>savings for me and Bro</td>\n",
       "      <td>10000</td>\n",
       "    </tr>\n",
       "    <tr>\n",
       "      <th>18</th>\n",
       "      <td>27-02-2014</td>\n",
       "      <td>User added funds from SBA-9978</td>\n",
       "      <td>savings for me and Bro</td>\n",
       "      <td>4653</td>\n",
       "    </tr>\n",
       "    <tr>\n",
       "      <th>19</th>\n",
       "      <td>5/12/2013</td>\n",
       "      <td>User added funds from SBA-9978</td>\n",
       "      <td>savings for me and Bro</td>\n",
       "      <td>100</td>\n",
       "    </tr>\n",
       "    <tr>\n",
       "      <th>24</th>\n",
       "      <td>31-12-2013</td>\n",
       "      <td>Interest Deposit</td>\n",
       "      <td>savings for me and Bro</td>\n",
       "      <td>739</td>\n",
       "    </tr>\n",
       "    <tr>\n",
       "      <th>25</th>\n",
       "      <td>24-09-2013</td>\n",
       "      <td>Initial deposit for goal creation from SBA-9978</td>\n",
       "      <td>savings for me and Bro</td>\n",
       "      <td>5000</td>\n",
       "    </tr>\n",
       "    <tr>\n",
       "      <th>33</th>\n",
       "      <td>10/10/2013</td>\n",
       "      <td>Miscellaneous Deposit</td>\n",
       "      <td>savings for me and Bro</td>\n",
       "      <td>30000</td>\n",
       "    </tr>\n",
       "  </tbody>\n",
       "</table>\n",
       "</div>"
      ],
      "text/plain": [
       "                Date                                      Description  \\\n",
       "Maturity                                                                \n",
       "10        10/10/2013                            Miscellaneous Deposit   \n",
       "12          1/1/2014                   User added funds from SBA-9978   \n",
       "13          5/1/2014                   User added funds from SBA-9978   \n",
       "14          4/2/2014                   User added funds from SBA-9978   \n",
       "15        30-09-2013                                 Interest Deposit   \n",
       "15        15-10-2013                            Miscellaneous Deposit   \n",
       "17        30-11-2013                   User added funds from SBA-9978   \n",
       "18        27-02-2014                   User added funds from SBA-9978   \n",
       "19         5/12/2013                   User added funds from SBA-9978   \n",
       "24        31-12-2013                                 Interest Deposit   \n",
       "25        24-09-2013  Initial deposit for goal creation from SBA-9978   \n",
       "33        10/10/2013                            Miscellaneous Deposit   \n",
       "\n",
       "                         Account   Amount  \n",
       "Maturity                                   \n",
       "10        savings for me and Bro     2500  \n",
       "12        savings for me and Bro     1000  \n",
       "13        savings for me and Bro     1000  \n",
       "14        savings for me and Bro     5000  \n",
       "15        savings for me and Bro        7  \n",
       "15        savings for me and Bro        1  \n",
       "17        savings for me and Bro    10000  \n",
       "18        savings for me and Bro     4653  \n",
       "19        savings for me and Bro      100  \n",
       "24        savings for me and Bro      739  \n",
       "25        savings for me and Bro     5000  \n",
       "33        savings for me and Bro    30000  "
      ]
     },
     "execution_count": 64,
     "metadata": {},
     "output_type": "execute_result"
    }
   ],
   "source": [
    "lead_co_data.sort_index()"
   ]
  },
  {
   "cell_type": "code",
   "execution_count": 74,
   "metadata": {},
   "outputs": [
    {
     "data": {
      "text/plain": [
       "Date                                30-11-2013\n",
       " Description    User added funds from SBA-9978\n",
       " Account                savings for me and Bro\n",
       " Amount                                  10000\n",
       "Name: 17, dtype: object"
      ]
     },
     "execution_count": 74,
     "metadata": {},
     "output_type": "execute_result"
    }
   ],
   "source": [
    "lead_co_data.loc[17]"
   ]
  },
  {
   "cell_type": "code",
   "execution_count": 81,
   "metadata": {},
   "outputs": [
    {
     "data": {
      "text/plain": [
       "'30-11-2013'"
      ]
     },
     "execution_count": 81,
     "metadata": {},
     "output_type": "execute_result"
    }
   ],
   "source": [
    "lead_co_data.loc[17,'Date']"
   ]
  },
  {
   "cell_type": "code",
   "execution_count": 82,
   "metadata": {},
   "outputs": [
    {
     "data": {
      "text/plain": [
       "Maturity\n",
       "25    24-09-2013\n",
       "15    30-09-2013\n",
       "33    10/10/2013\n",
       "10    10/10/2013\n",
       "15    15-10-2013\n",
       "17    30-11-2013\n",
       "19     5/12/2013\n",
       "24    31-12-2013\n",
       "12      1/1/2014\n",
       "13      5/1/2014\n",
       "14      4/2/2014\n",
       "18    27-02-2014\n",
       "Name: Date, dtype: object"
      ]
     },
     "execution_count": 82,
     "metadata": {},
     "output_type": "execute_result"
    }
   ],
   "source": [
    "lead_co_data.loc[:,'Date']"
   ]
  },
  {
   "cell_type": "markdown",
   "metadata": {},
   "source": [
    "<b>A few COmments on Loc and Iloc</b>"
   ]
  },
  {
   "cell_type": "code",
   "execution_count": 83,
   "metadata": {},
   "outputs": [
    {
     "data": {
      "text/plain": [
       "(12, 4)"
      ]
     },
     "execution_count": 83,
     "metadata": {},
     "output_type": "execute_result"
    }
   ],
   "source": [
    "lead_co_data.shape"
   ]
  },
  {
   "cell_type": "code",
   "execution_count": 89,
   "metadata": {},
   "outputs": [
    {
     "data": {
      "text/html": [
       "<div>\n",
       "<style scoped>\n",
       "    .dataframe tbody tr th:only-of-type {\n",
       "        vertical-align: middle;\n",
       "    }\n",
       "\n",
       "    .dataframe tbody tr th {\n",
       "        vertical-align: top;\n",
       "    }\n",
       "\n",
       "    .dataframe thead th {\n",
       "        text-align: right;\n",
       "    }\n",
       "</style>\n",
       "<table border=\"1\" class=\"dataframe\">\n",
       "  <thead>\n",
       "    <tr style=\"text-align: right;\">\n",
       "      <th></th>\n",
       "      <th>Date</th>\n",
       "      <th>Description</th>\n",
       "      <th>Account</th>\n",
       "      <th>Amount</th>\n",
       "    </tr>\n",
       "    <tr>\n",
       "      <th>Maturity</th>\n",
       "      <th></th>\n",
       "      <th></th>\n",
       "      <th></th>\n",
       "      <th></th>\n",
       "    </tr>\n",
       "  </thead>\n",
       "  <tbody>\n",
       "    <tr>\n",
       "      <th>10</th>\n",
       "      <td>10/10/2013</td>\n",
       "      <td>Miscellaneous Deposit</td>\n",
       "      <td>savings for me and Bro</td>\n",
       "      <td>2500</td>\n",
       "    </tr>\n",
       "    <tr>\n",
       "      <th>12</th>\n",
       "      <td>1/1/2014</td>\n",
       "      <td>User added funds from SBA-9978</td>\n",
       "      <td>savings for me and Bro</td>\n",
       "      <td>1000</td>\n",
       "    </tr>\n",
       "    <tr>\n",
       "      <th>13</th>\n",
       "      <td>5/1/2014</td>\n",
       "      <td>User added funds from SBA-9978</td>\n",
       "      <td>savings for me and Bro</td>\n",
       "      <td>1000</td>\n",
       "    </tr>\n",
       "    <tr>\n",
       "      <th>14</th>\n",
       "      <td>4/2/2014</td>\n",
       "      <td>User added funds from SBA-9978</td>\n",
       "      <td>savings for me and Bro</td>\n",
       "      <td>5000</td>\n",
       "    </tr>\n",
       "    <tr>\n",
       "      <th>15</th>\n",
       "      <td>30-09-2013</td>\n",
       "      <td>Interest Deposit</td>\n",
       "      <td>savings for me and Bro</td>\n",
       "      <td>7</td>\n",
       "    </tr>\n",
       "    <tr>\n",
       "      <th>15</th>\n",
       "      <td>15-10-2013</td>\n",
       "      <td>Miscellaneous Deposit</td>\n",
       "      <td>savings for me and Bro</td>\n",
       "      <td>1</td>\n",
       "    </tr>\n",
       "    <tr>\n",
       "      <th>17</th>\n",
       "      <td>30-11-2013</td>\n",
       "      <td>User added funds from SBA-9978</td>\n",
       "      <td>savings for me and Bro</td>\n",
       "      <td>10000</td>\n",
       "    </tr>\n",
       "    <tr>\n",
       "      <th>18</th>\n",
       "      <td>27-02-2014</td>\n",
       "      <td>User added funds from SBA-9978</td>\n",
       "      <td>savings for me and Bro</td>\n",
       "      <td>4653</td>\n",
       "    </tr>\n",
       "    <tr>\n",
       "      <th>19</th>\n",
       "      <td>5/12/2013</td>\n",
       "      <td>User added funds from SBA-9978</td>\n",
       "      <td>savings for me and Bro</td>\n",
       "      <td>100</td>\n",
       "    </tr>\n",
       "    <tr>\n",
       "      <th>24</th>\n",
       "      <td>31-12-2013</td>\n",
       "      <td>Interest Deposit</td>\n",
       "      <td>savings for me and Bro</td>\n",
       "      <td>739</td>\n",
       "    </tr>\n",
       "    <tr>\n",
       "      <th>25</th>\n",
       "      <td>24-09-2013</td>\n",
       "      <td>Initial deposit for goal creation from SBA-9978</td>\n",
       "      <td>savings for me and Bro</td>\n",
       "      <td>5000</td>\n",
       "    </tr>\n",
       "    <tr>\n",
       "      <th>33</th>\n",
       "      <td>10/10/2013</td>\n",
       "      <td>Miscellaneous Deposit</td>\n",
       "      <td>savings for me and Bro</td>\n",
       "      <td>30000</td>\n",
       "    </tr>\n",
       "  </tbody>\n",
       "</table>\n",
       "</div>"
      ],
      "text/plain": [
       "                Date                                      Description  \\\n",
       "Maturity                                                                \n",
       "10        10/10/2013                            Miscellaneous Deposit   \n",
       "12          1/1/2014                   User added funds from SBA-9978   \n",
       "13          5/1/2014                   User added funds from SBA-9978   \n",
       "14          4/2/2014                   User added funds from SBA-9978   \n",
       "15        30-09-2013                                 Interest Deposit   \n",
       "15        15-10-2013                            Miscellaneous Deposit   \n",
       "17        30-11-2013                   User added funds from SBA-9978   \n",
       "18        27-02-2014                   User added funds from SBA-9978   \n",
       "19         5/12/2013                   User added funds from SBA-9978   \n",
       "24        31-12-2013                                 Interest Deposit   \n",
       "25        24-09-2013  Initial deposit for goal creation from SBA-9978   \n",
       "33        10/10/2013                            Miscellaneous Deposit   \n",
       "\n",
       "                         Account   Amount  \n",
       "Maturity                                   \n",
       "10        savings for me and Bro     2500  \n",
       "12        savings for me and Bro     1000  \n",
       "13        savings for me and Bro     1000  \n",
       "14        savings for me and Bro     5000  \n",
       "15        savings for me and Bro        7  \n",
       "15        savings for me and Bro        1  \n",
       "17        savings for me and Bro    10000  \n",
       "18        savings for me and Bro     4653  \n",
       "19        savings for me and Bro      100  \n",
       "24        savings for me and Bro      739  \n",
       "25        savings for me and Bro     5000  \n",
       "33        savings for me and Bro    30000  "
      ]
     },
     "execution_count": 89,
     "metadata": {},
     "output_type": "execute_result"
    }
   ],
   "source": [
    "lead_co_data_sorted=lead_co_data.sort_index().copy()\n",
    "lead_co_data_sorted"
   ]
  },
  {
   "cell_type": "code",
   "execution_count": 90,
   "metadata": {},
   "outputs": [
    {
     "data": {
      "text/plain": [
       "Maturity\n",
       "10     2500\n",
       "12     1000\n",
       "13     1000\n",
       "14     5000\n",
       "15        7\n",
       "15        1\n",
       "17    10000\n",
       "18     4653\n",
       "19      100\n",
       "24      739\n",
       "25     5000\n",
       "33    30000\n",
       "Name:  Amount, dtype: int64"
      ]
     },
     "execution_count": 90,
     "metadata": {},
     "output_type": "execute_result"
    }
   ],
   "source": [
    "lead_co_data_sorted.iloc[:,-1]"
   ]
  },
  {
   "cell_type": "code",
   "execution_count": 91,
   "metadata": {},
   "outputs": [
    {
     "data": {
      "text/plain": [
       "Date                        10/10/2013\n",
       " Description     Miscellaneous Deposit\n",
       " Account        savings for me and Bro\n",
       " Amount                          30000\n",
       "Name: 33, dtype: object"
      ]
     },
     "execution_count": 91,
     "metadata": {},
     "output_type": "execute_result"
    }
   ],
   "source": [
    "lead_co_data_sorted.iloc[-1,:]"
   ]
  },
  {
   "cell_type": "code",
   "execution_count": 92,
   "metadata": {},
   "outputs": [
    {
     "data": {
      "text/plain": [
       "'10/10/2013'"
      ]
     },
     "execution_count": 92,
     "metadata": {},
     "output_type": "execute_result"
    }
   ],
   "source": [
    "lead_co_data_sorted['Date'].iloc[0]"
   ]
  },
  {
   "cell_type": "code",
   "execution_count": 95,
   "metadata": {},
   "outputs": [
    {
     "data": {
      "text/plain": [
       "'24-09-2013'"
      ]
     },
     "execution_count": 95,
     "metadata": {},
     "output_type": "execute_result"
    }
   ],
   "source": [
    "lead_co_data_sorted['Date'][25]"
   ]
  },
  {
   "cell_type": "code",
   "execution_count": 97,
   "metadata": {},
   "outputs": [
    {
     "data": {
      "text/plain": [
       "Maturity\n",
       "10    10/10/2013\n",
       "15    15-10-2013\n",
       "Name: Date, dtype: object"
      ]
     },
     "execution_count": 97,
     "metadata": {},
     "output_type": "execute_result"
    }
   ],
   "source": [
    "lead_co_data_sorted.loc[:,'Date'].iloc[[0,5]]"
   ]
  },
  {
   "cell_type": "code",
   "execution_count": null,
   "metadata": {},
   "outputs": [],
   "source": []
  }
 ],
 "metadata": {
  "kernelspec": {
   "display_name": "Python 3",
   "language": "python",
   "name": "python3"
  },
  "language_info": {
   "codemirror_mode": {
    "name": "ipython",
    "version": 3
   },
   "file_extension": ".py",
   "mimetype": "text/x-python",
   "name": "python",
   "nbconvert_exporter": "python",
   "pygments_lexer": "ipython3",
   "version": "3.7.6"
  }
 },
 "nbformat": 4,
 "nbformat_minor": 4
}
