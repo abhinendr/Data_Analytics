{
 "cells": [
  {
   "cell_type": "markdown",
   "id": "d41c0925",
   "metadata": {},
   "source": [
    "<b><h2><center>SQLServer DB Creation"
   ]
  },
  {
   "cell_type": "code",
   "execution_count": 1,
   "id": "59ee2799",
   "metadata": {},
   "outputs": [],
   "source": [
    "import pyodbc #for sql Server"
   ]
  },
  {
   "cell_type": "code",
   "execution_count": 9,
   "id": "8c38b4ce",
   "metadata": {},
   "outputs": [
    {
     "name": "stdout",
     "output_type": "stream",
     "text": [
      "<pyodbc.Connection object at 0x000001FC515B0D30>\n"
     ]
    }
   ],
   "source": [
    "dbsql = pyodbc.connect ( #Connection Creation\n",
    "    Driver=\"{SQL Server}\",\n",
    "    Server=\"NGHTFOX27\",\n",
    "    Database=\"DemoDB\",\n",
    "    Trusted_Connection=\"yes\"\n",
    "    )\n",
    "\n",
    "print(dbsql)\n",
    "s\n",
    "cur = dbsql.cursor() #Cursor Class to Session"
   ]
  },
  {
   "cell_type": "markdown",
   "id": "9ae4e582",
   "metadata": {},
   "source": [
    "<b>Creating Database"
   ]
  },
  {
   "cell_type": "code",
   "execution_count": 8,
   "id": "f1fd2e4b",
   "metadata": {},
   "outputs": [
    {
     "data": {
      "text/plain": [
       "<pyodbc.Cursor at 0x1fc517f5ab0>"
      ]
     },
     "execution_count": 8,
     "metadata": {},
     "output_type": "execute_result"
    }
   ],
   "source": [
    "sqlcursor = dbsql.cursor()\n",
    "sqlcursor.execute(\"CREATE DATABASE sql_demo\")"
   ]
  },
  {
   "cell_type": "markdown",
   "id": "7e8dca0a",
   "metadata": {},
   "source": [
    "<b>ShowDatabase"
   ]
  },
  {
   "cell_type": "code",
   "execution_count": 15,
   "id": "c0fa2718",
   "metadata": {},
   "outputs": [
    {
     "name": "stdout",
     "output_type": "stream",
     "text": [
      "('master', )\n",
      "('tempdb', )\n",
      "('model', )\n",
      "('msdb', )\n",
      "('SQLTutorial', )\n",
      "('DemoDB', )\n",
      "('sql_demo', )\n"
     ]
    }
   ],
   "source": [
    "cur.execute(\"SELECT name FROM SYS.DATABASES\")\n",
    "\n",
    "for i in cur:\n",
    "    print(i)"
   ]
  },
  {
   "cell_type": "markdown",
   "id": "bdf3306d",
   "metadata": {},
   "source": [
    "<b>Connecing to Database"
   ]
  },
  {
   "cell_type": "code",
   "execution_count": 16,
   "id": "762aa928",
   "metadata": {},
   "outputs": [],
   "source": [
    "dbsql = pyodbc.connect(\n",
    "    Driver=\"{SQL Server}\",\n",
    "    Server=\"NGHTFOX27\",\n",
    "    Database=\"sql_demo\",\n",
    "    Trusted_Connection=\"yes\"\n",
    ")"
   ]
  },
  {
   "cell_type": "code",
   "execution_count": 17,
   "id": "e5089003",
   "metadata": {},
   "outputs": [
    {
     "data": {
      "text/plain": [
       "<pyodbc.Cursor at 0x1fc51a670b0>"
      ]
     },
     "execution_count": 17,
     "metadata": {},
     "output_type": "execute_result"
    }
   ],
   "source": [
    "democur = dbsql.cursor()\n",
    "democur.execute(\"CREATE TABLE Employee (EmployeeId INT, EmployeeName VARCHAR(25))\")"
   ]
  },
  {
   "cell_type": "markdown",
   "id": "a16ff701",
   "metadata": {},
   "source": [
    "<b>Inserting Value"
   ]
  },
  {
   "cell_type": "code",
   "execution_count": 20,
   "id": "4c7e9f7f",
   "metadata": {},
   "outputs": [
    {
     "data": {
      "text/plain": [
       "<pyodbc.Cursor at 0x1fc51a670b0>"
      ]
     },
     "execution_count": 20,
     "metadata": {},
     "output_type": "execute_result"
    }
   ],
   "source": [
    "insertsql = \"Insert into Employee (EmployeeId, EmployeeName) Values (?,?)\"\n",
    "valsql = (12231, \"Abhinendr Sharma\")\n",
    "democur.execute(insertsql,valsql)"
   ]
  },
  {
   "cell_type": "code",
   "execution_count": 24,
   "id": "c5a8bdcf",
   "metadata": {},
   "outputs": [
    {
     "data": {
      "text/plain": [
       "<pyodbc.Cursor at 0x1fc51a670b0>"
      ]
     },
     "execution_count": 24,
     "metadata": {},
     "output_type": "execute_result"
    }
   ],
   "source": [
    "democur.execute(''' INSERT INTO Employee (EmployeeId, EmployeeName)\n",
    "              VALUES \n",
    "                (12281, 'Sarvottam Singh'),\n",
    "                (13212, 'Gomathi MunuSamy'),\n",
    "                (11221, 'Rajat Singh Bahadur'),\n",
    "                (12312, 'Kshitij Singh')\n",
    "                ''')"
   ]
  },
  {
   "cell_type": "code",
   "execution_count": 25,
   "id": "fc0f0023",
   "metadata": {},
   "outputs": [],
   "source": [
    "democur.commit()"
   ]
  },
  {
   "cell_type": "markdown",
   "id": "1df0553c",
   "metadata": {},
   "source": [
    "<b>Select Query"
   ]
  },
  {
   "cell_type": "code",
   "execution_count": 27,
   "id": "90a788e7",
   "metadata": {},
   "outputs": [
    {
     "name": "stdout",
     "output_type": "stream",
     "text": [
      "(12231, 'Abhinendr Sharma')\n",
      "(12281, 'Sarvottam Singh')\n",
      "(13212, 'Gomathi MunuSamy')\n",
      "(11221, 'Rajat Singh Bahadur')\n",
      "(12312, 'Kshitij Singh')\n"
     ]
    }
   ],
   "source": [
    "democur.execute(''' SELECT * FROM EMPLOYEE ''') #Use ''' ''' for query \n",
    "\n",
    "results = democur.fetchall()\n",
    "\n",
    "for x in results:\n",
    "    print(x)"
   ]
  },
  {
   "cell_type": "code",
   "execution_count": 28,
   "id": "348c7a08",
   "metadata": {},
   "outputs": [],
   "source": [
    "democur.close()"
   ]
  },
  {
   "cell_type": "code",
   "execution_count": null,
   "id": "7f6b9cdc",
   "metadata": {},
   "outputs": [],
   "source": []
  }
 ],
 "metadata": {
  "kernelspec": {
   "display_name": "Python 3",
   "language": "python",
   "name": "python3"
  },
  "language_info": {
   "codemirror_mode": {
    "name": "ipython",
    "version": 3
   },
   "file_extension": ".py",
   "mimetype": "text/x-python",
   "name": "python",
   "nbconvert_exporter": "python",
   "pygments_lexer": "ipython3",
   "version": "3.8.8"
  }
 },
 "nbformat": 4,
 "nbformat_minor": 5
}
