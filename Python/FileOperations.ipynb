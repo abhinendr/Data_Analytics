{
 "cells": [
  {
   "cell_type": "markdown",
   "metadata": {},
   "source": [
    "<b>Opening and CLosing of File</b>"
   ]
  },
  {
   "cell_type": "code",
   "execution_count": 2,
   "metadata": {},
   "outputs": [
    {
     "data": {
      "text/plain": [
       "'source.txt'"
      ]
     },
     "execution_count": 2,
     "metadata": {},
     "output_type": "execute_result"
    }
   ],
   "source": [
    "filename = \"source.txt\"\n",
    "filename"
   ]
  },
  {
   "cell_type": "code",
   "execution_count": 3,
   "metadata": {},
   "outputs": [
    {
     "data": {
      "text/plain": [
       "'This is a simple illustration'"
      ]
     },
     "execution_count": 3,
     "metadata": {},
     "output_type": "execute_result"
    }
   ],
   "source": [
    "file=open(filename,mode='r')\n",
    "file.read()"
   ]
  },
  {
   "cell_type": "code",
   "execution_count": 4,
   "metadata": {},
   "outputs": [
    {
     "data": {
      "text/plain": [
       "''"
      ]
     },
     "execution_count": 4,
     "metadata": {},
     "output_type": "execute_result"
    }
   ],
   "source": [
    "file.read()"
   ]
  },
  {
   "cell_type": "code",
   "execution_count": 5,
   "metadata": {},
   "outputs": [
    {
     "data": {
      "text/plain": [
       "'This is a simple illustration'"
      ]
     },
     "execution_count": 5,
     "metadata": {},
     "output_type": "execute_result"
    }
   ],
   "source": [
    "file=open(filename,mode='r')\n",
    "text=file.read() #Storing the values of file in Text\n",
    "text"
   ]
  },
  {
   "cell_type": "code",
   "execution_count": 6,
   "metadata": {},
   "outputs": [
    {
     "data": {
      "text/plain": [
       "'This is a simple illustration'"
      ]
     },
     "execution_count": 6,
     "metadata": {},
     "output_type": "execute_result"
    }
   ],
   "source": [
    "text"
   ]
  },
  {
   "cell_type": "code",
   "execution_count": 7,
   "metadata": {},
   "outputs": [
    {
     "data": {
      "text/plain": [
       "False"
      ]
     },
     "execution_count": 7,
     "metadata": {},
     "output_type": "execute_result"
    }
   ],
   "source": [
    "file.closed"
   ]
  },
  {
   "cell_type": "code",
   "execution_count": 8,
   "metadata": {},
   "outputs": [],
   "source": [
    "file.close()"
   ]
  },
  {
   "cell_type": "code",
   "execution_count": 9,
   "metadata": {},
   "outputs": [
    {
     "data": {
      "text/plain": [
       "True"
      ]
     },
     "execution_count": 9,
     "metadata": {},
     "output_type": "execute_result"
    }
   ],
   "source": [
    "file.closed"
   ]
  },
  {
   "cell_type": "markdown",
   "metadata": {},
   "source": [
    "<b> Importing with 'OPEN WITH'</b>"
   ]
  },
  {
   "cell_type": "code",
   "execution_count": 10,
   "metadata": {},
   "outputs": [],
   "source": [
    "filename = \"source.txt\""
   ]
  },
  {
   "cell_type": "code",
   "execution_count": 11,
   "metadata": {},
   "outputs": [],
   "source": [
    "file=open(filename,mode='r')\n",
    "text=file.read()\n",
    "file.close()"
   ]
  },
  {
   "cell_type": "code",
   "execution_count": 12,
   "metadata": {},
   "outputs": [],
   "source": [
    "#The file system automaticallyclosed\n",
    "with open(filename,mode='r') as out_file:\n",
    "    out_file.read()"
   ]
  },
  {
   "cell_type": "code",
   "execution_count": 13,
   "metadata": {},
   "outputs": [
    {
     "name": "stdout",
     "output_type": "stream",
     "text": [
      "This is a simple illustration\n"
     ]
    }
   ],
   "source": [
    "print(text)"
   ]
  },
  {
   "cell_type": "code",
   "execution_count": 14,
   "metadata": {},
   "outputs": [
    {
     "name": "stdout",
     "output_type": "stream",
     "text": [
      "<_io.TextIOWrapper name='source.txt' mode='r' encoding='cp1252'>\n"
     ]
    }
   ],
   "source": [
    "print(out_file)"
   ]
  },
  {
   "cell_type": "code",
   "execution_count": 15,
   "metadata": {},
   "outputs": [],
   "source": [
    "with open(filename,mode='w') as out_file:\n",
    "    out_file.write(\"This is a simple illustration\")"
   ]
  },
  {
   "cell_type": "code",
   "execution_count": 17,
   "metadata": {},
   "outputs": [],
   "source": [
    "file=open(filename,mode='r') #Again we have to open and call to see the new text Writted\n",
    "text=file.read()\n",
    "file.close()"
   ]
  },
  {
   "cell_type": "code",
   "execution_count": 18,
   "metadata": {},
   "outputs": [
    {
     "name": "stdout",
     "output_type": "stream",
     "text": [
      "This is a simple illustration\n"
     ]
    }
   ],
   "source": [
    "print(text)"
   ]
  },
  {
   "cell_type": "markdown",
   "metadata": {},
   "source": [
    "<b>Importing csv`s using Pandas</b>"
   ]
  },
  {
   "cell_type": "code",
   "execution_count": 19,
   "metadata": {},
   "outputs": [],
   "source": [
    "filename=\"Sample-Val.csv\"\n",
    "file=open(filename,mode='r')\n",
    "text=file.read()"
   ]
  },
  {
   "cell_type": "code",
   "execution_count": 20,
   "metadata": {},
   "outputs": [
    {
     "name": "stdout",
     "output_type": "stream",
     "text": [
      "Date, Description, Account, Amount,Maturity\n",
      "24-09-2013,Initial deposit for goal creation from SBA-9978,savings for me and Bro,5000,25\n",
      "30-09-2013,Interest Deposit,savings for me and Bro,7,15\n",
      "10/10/2013,Miscellaneous Deposit,savings for me and Bro,30000,33\n",
      "10/10/2013,Miscellaneous Deposit,savings for me and Bro,2500,10\n",
      "15-10-2013,Miscellaneous Deposit,savings for me and Bro,1,15\n",
      "30-11-2013,User added funds from SBA-9978,savings for me and Bro,10000,17\n",
      "5/12/2013,User added funds from SBA-9978,savings for me and Bro,100,19\n",
      "31-12-2013,Interest Deposit,savings for me and Bro,739,24\n",
      "1/1/2014,User added funds from SBA-9978,savings for me and Bro,1000,12\n",
      "5/1/2014,User added funds from SBA-9978,savings for me and Bro,1000,13\n",
      "4/2/2014,User added funds from SBA-9978,savings for me and Bro,5000,14\n",
      "27-02-2014,User added funds from SBA-9978,savings for me and Bro,4653,18\n",
      "\n"
     ]
    }
   ],
   "source": [
    "print(text)"
   ]
  },
  {
   "cell_type": "code",
   "execution_count": 21,
   "metadata": {},
   "outputs": [],
   "source": [
    "import pandas as pd"
   ]
  },
  {
   "cell_type": "code",
   "execution_count": 22,
   "metadata": {},
   "outputs": [
    {
     "data": {
      "text/plain": [
       "str"
      ]
     },
     "execution_count": 22,
     "metadata": {},
     "output_type": "execute_result"
    }
   ],
   "source": [
    " type(text)"
   ]
  },
  {
   "cell_type": "code",
   "execution_count": 23,
   "metadata": {},
   "outputs": [
    {
     "data": {
      "text/html": [
       "<div>\n",
       "<style scoped>\n",
       "    .dataframe tbody tr th:only-of-type {\n",
       "        vertical-align: middle;\n",
       "    }\n",
       "\n",
       "    .dataframe tbody tr th {\n",
       "        vertical-align: top;\n",
       "    }\n",
       "\n",
       "    .dataframe thead th {\n",
       "        text-align: right;\n",
       "    }\n",
       "</style>\n",
       "<table border=\"1\" class=\"dataframe\">\n",
       "  <thead>\n",
       "    <tr style=\"text-align: right;\">\n",
       "      <th></th>\n",
       "      <th>Date</th>\n",
       "      <th>Description</th>\n",
       "      <th>Account</th>\n",
       "      <th>Amount</th>\n",
       "      <th>Maturity</th>\n",
       "    </tr>\n",
       "  </thead>\n",
       "  <tbody>\n",
       "    <tr>\n",
       "      <th>0</th>\n",
       "      <td>24-09-2013</td>\n",
       "      <td>Initial deposit for goal creation from SBA-9978</td>\n",
       "      <td>savings for me and Bro</td>\n",
       "      <td>5000</td>\n",
       "      <td>25</td>\n",
       "    </tr>\n",
       "    <tr>\n",
       "      <th>1</th>\n",
       "      <td>30-09-2013</td>\n",
       "      <td>Interest Deposit</td>\n",
       "      <td>savings for me and Bro</td>\n",
       "      <td>7</td>\n",
       "      <td>15</td>\n",
       "    </tr>\n",
       "    <tr>\n",
       "      <th>2</th>\n",
       "      <td>10/10/2013</td>\n",
       "      <td>Miscellaneous Deposit</td>\n",
       "      <td>savings for me and Bro</td>\n",
       "      <td>30000</td>\n",
       "      <td>33</td>\n",
       "    </tr>\n",
       "    <tr>\n",
       "      <th>3</th>\n",
       "      <td>10/10/2013</td>\n",
       "      <td>Miscellaneous Deposit</td>\n",
       "      <td>savings for me and Bro</td>\n",
       "      <td>2500</td>\n",
       "      <td>10</td>\n",
       "    </tr>\n",
       "    <tr>\n",
       "      <th>4</th>\n",
       "      <td>15-10-2013</td>\n",
       "      <td>Miscellaneous Deposit</td>\n",
       "      <td>savings for me and Bro</td>\n",
       "      <td>1</td>\n",
       "      <td>15</td>\n",
       "    </tr>\n",
       "    <tr>\n",
       "      <th>5</th>\n",
       "      <td>30-11-2013</td>\n",
       "      <td>User added funds from SBA-9978</td>\n",
       "      <td>savings for me and Bro</td>\n",
       "      <td>10000</td>\n",
       "      <td>17</td>\n",
       "    </tr>\n",
       "    <tr>\n",
       "      <th>6</th>\n",
       "      <td>5/12/2013</td>\n",
       "      <td>User added funds from SBA-9978</td>\n",
       "      <td>savings for me and Bro</td>\n",
       "      <td>100</td>\n",
       "      <td>19</td>\n",
       "    </tr>\n",
       "    <tr>\n",
       "      <th>7</th>\n",
       "      <td>31-12-2013</td>\n",
       "      <td>Interest Deposit</td>\n",
       "      <td>savings for me and Bro</td>\n",
       "      <td>739</td>\n",
       "      <td>24</td>\n",
       "    </tr>\n",
       "    <tr>\n",
       "      <th>8</th>\n",
       "      <td>1/1/2014</td>\n",
       "      <td>User added funds from SBA-9978</td>\n",
       "      <td>savings for me and Bro</td>\n",
       "      <td>1000</td>\n",
       "      <td>12</td>\n",
       "    </tr>\n",
       "    <tr>\n",
       "      <th>9</th>\n",
       "      <td>5/1/2014</td>\n",
       "      <td>User added funds from SBA-9978</td>\n",
       "      <td>savings for me and Bro</td>\n",
       "      <td>1000</td>\n",
       "      <td>13</td>\n",
       "    </tr>\n",
       "    <tr>\n",
       "      <th>10</th>\n",
       "      <td>4/2/2014</td>\n",
       "      <td>User added funds from SBA-9978</td>\n",
       "      <td>savings for me and Bro</td>\n",
       "      <td>5000</td>\n",
       "      <td>14</td>\n",
       "    </tr>\n",
       "    <tr>\n",
       "      <th>11</th>\n",
       "      <td>27-02-2014</td>\n",
       "      <td>User added funds from SBA-9978</td>\n",
       "      <td>savings for me and Bro</td>\n",
       "      <td>4653</td>\n",
       "      <td>18</td>\n",
       "    </tr>\n",
       "  </tbody>\n",
       "</table>\n",
       "</div>"
      ],
      "text/plain": [
       "          Date                                      Description  \\\n",
       "0   24-09-2013  Initial deposit for goal creation from SBA-9978   \n",
       "1   30-09-2013                                 Interest Deposit   \n",
       "2   10/10/2013                            Miscellaneous Deposit   \n",
       "3   10/10/2013                            Miscellaneous Deposit   \n",
       "4   15-10-2013                            Miscellaneous Deposit   \n",
       "5   30-11-2013                   User added funds from SBA-9978   \n",
       "6    5/12/2013                   User added funds from SBA-9978   \n",
       "7   31-12-2013                                 Interest Deposit   \n",
       "8     1/1/2014                   User added funds from SBA-9978   \n",
       "9     5/1/2014                   User added funds from SBA-9978   \n",
       "10    4/2/2014                   User added funds from SBA-9978   \n",
       "11  27-02-2014                   User added funds from SBA-9978   \n",
       "\n",
       "                   Account   Amount  Maturity  \n",
       "0   savings for me and Bro     5000        25  \n",
       "1   savings for me and Bro        7        15  \n",
       "2   savings for me and Bro    30000        33  \n",
       "3   savings for me and Bro     2500        10  \n",
       "4   savings for me and Bro        1        15  \n",
       "5   savings for me and Bro    10000        17  \n",
       "6   savings for me and Bro      100        19  \n",
       "7   savings for me and Bro      739        24  \n",
       "8   savings for me and Bro     1000        12  \n",
       "9   savings for me and Bro     1000        13  \n",
       "10  savings for me and Bro     5000        14  \n",
       "11  savings for me and Bro     4653        18  "
      ]
     },
     "execution_count": 23,
     "metadata": {},
     "output_type": "execute_result"
    }
   ],
   "source": [
    "pd.read_csv('Sample-Val.csv') #It will create a Data Frame for us"
   ]
  },
  {
   "cell_type": "code",
   "execution_count": 24,
   "metadata": {},
   "outputs": [
    {
     "data": {
      "text/plain": [
       "pandas.core.frame.DataFrame"
      ]
     },
     "execution_count": 24,
     "metadata": {},
     "output_type": "execute_result"
    }
   ],
   "source": [
    "type(pd.read_csv(filename)) #Read_csv can read txt files as well"
   ]
  },
  {
   "cell_type": "code",
   "execution_count": 25,
   "metadata": {},
   "outputs": [
    {
     "data": {
      "text/html": [
       "<div>\n",
       "<style scoped>\n",
       "    .dataframe tbody tr th:only-of-type {\n",
       "        vertical-align: middle;\n",
       "    }\n",
       "\n",
       "    .dataframe tbody tr th {\n",
       "        vertical-align: top;\n",
       "    }\n",
       "\n",
       "    .dataframe thead th {\n",
       "        text-align: right;\n",
       "    }\n",
       "</style>\n",
       "<table border=\"1\" class=\"dataframe\">\n",
       "  <thead>\n",
       "    <tr style=\"text-align: right;\">\n",
       "      <th></th>\n",
       "      <th>15-10-2013</th>\n",
       "      <th>Miscellaneous Deposit</th>\n",
       "      <th>savings for me and Bro</th>\n",
       "      <th>1</th>\n",
       "      <th>15</th>\n",
       "    </tr>\n",
       "  </thead>\n",
       "  <tbody>\n",
       "    <tr>\n",
       "      <th>0</th>\n",
       "      <td>30-11-2013</td>\n",
       "      <td>User added funds from SBA-9978</td>\n",
       "      <td>savings for me and Bro</td>\n",
       "      <td>10000</td>\n",
       "      <td>17</td>\n",
       "    </tr>\n",
       "    <tr>\n",
       "      <th>1</th>\n",
       "      <td>5/12/2013</td>\n",
       "      <td>User added funds from SBA-9978</td>\n",
       "      <td>savings for me and Bro</td>\n",
       "      <td>100</td>\n",
       "      <td>19</td>\n",
       "    </tr>\n",
       "    <tr>\n",
       "      <th>2</th>\n",
       "      <td>31-12-2013</td>\n",
       "      <td>Interest Deposit</td>\n",
       "      <td>savings for me and Bro</td>\n",
       "      <td>739</td>\n",
       "      <td>24</td>\n",
       "    </tr>\n",
       "    <tr>\n",
       "      <th>3</th>\n",
       "      <td>1/1/2014</td>\n",
       "      <td>User added funds from SBA-9978</td>\n",
       "      <td>savings for me and Bro</td>\n",
       "      <td>1000</td>\n",
       "      <td>12</td>\n",
       "    </tr>\n",
       "    <tr>\n",
       "      <th>4</th>\n",
       "      <td>5/1/2014</td>\n",
       "      <td>User added funds from SBA-9978</td>\n",
       "      <td>savings for me and Bro</td>\n",
       "      <td>1000</td>\n",
       "      <td>13</td>\n",
       "    </tr>\n",
       "    <tr>\n",
       "      <th>5</th>\n",
       "      <td>4/2/2014</td>\n",
       "      <td>User added funds from SBA-9978</td>\n",
       "      <td>savings for me and Bro</td>\n",
       "      <td>5000</td>\n",
       "      <td>14</td>\n",
       "    </tr>\n",
       "    <tr>\n",
       "      <th>6</th>\n",
       "      <td>27-02-2014</td>\n",
       "      <td>User added funds from SBA-9978</td>\n",
       "      <td>savings for me and Bro</td>\n",
       "      <td>4653</td>\n",
       "      <td>18</td>\n",
       "    </tr>\n",
       "  </tbody>\n",
       "</table>\n",
       "</div>"
      ],
      "text/plain": [
       "   15-10-2013           Miscellaneous Deposit  savings for me and Bro      1  \\\n",
       "0  30-11-2013  User added funds from SBA-9978  savings for me and Bro  10000   \n",
       "1   5/12/2013  User added funds from SBA-9978  savings for me and Bro    100   \n",
       "2  31-12-2013                Interest Deposit  savings for me and Bro    739   \n",
       "3    1/1/2014  User added funds from SBA-9978  savings for me and Bro   1000   \n",
       "4    5/1/2014  User added funds from SBA-9978  savings for me and Bro   1000   \n",
       "5    4/2/2014  User added funds from SBA-9978  savings for me and Bro   5000   \n",
       "6  27-02-2014  User added funds from SBA-9978  savings for me and Bro   4653   \n",
       "\n",
       "   15  \n",
       "0  17  \n",
       "1  19  \n",
       "2  24  \n",
       "3  12  \n",
       "4  13  \n",
       "5  14  \n",
       "6  18  "
      ]
     },
     "execution_count": 25,
     "metadata": {},
     "output_type": "execute_result"
    }
   ],
   "source": [
    "pd.read_csv('Sample-Val.csv',header=5) #Missing out 5 Top Rows,marking 5 as Header & Header is counted as a row too"
   ]
  },
  {
   "cell_type": "code",
   "execution_count": 26,
   "metadata": {},
   "outputs": [
    {
     "data": {
      "text/html": [
       "<div>\n",
       "<style scoped>\n",
       "    .dataframe tbody tr th:only-of-type {\n",
       "        vertical-align: middle;\n",
       "    }\n",
       "\n",
       "    .dataframe tbody tr th {\n",
       "        vertical-align: top;\n",
       "    }\n",
       "\n",
       "    .dataframe thead th {\n",
       "        text-align: right;\n",
       "    }\n",
       "</style>\n",
       "<table border=\"1\" class=\"dataframe\">\n",
       "  <thead>\n",
       "    <tr style=\"text-align: right;\">\n",
       "      <th></th>\n",
       "      <th>Date</th>\n",
       "      <th>Description</th>\n",
       "      <th>Account</th>\n",
       "      <th>Amount</th>\n",
       "      <th>Maturity</th>\n",
       "    </tr>\n",
       "  </thead>\n",
       "  <tbody>\n",
       "    <tr>\n",
       "      <th>0</th>\n",
       "      <td>24-09-2013</td>\n",
       "      <td>Initial deposit for goal creation from SBA-9978</td>\n",
       "      <td>savings for me and Bro</td>\n",
       "      <td>5000</td>\n",
       "      <td>25</td>\n",
       "    </tr>\n",
       "    <tr>\n",
       "      <th>1</th>\n",
       "      <td>30-09-2013</td>\n",
       "      <td>Interest Deposit</td>\n",
       "      <td>savings for me and Bro</td>\n",
       "      <td>7</td>\n",
       "      <td>15</td>\n",
       "    </tr>\n",
       "    <tr>\n",
       "      <th>2</th>\n",
       "      <td>10/10/2013</td>\n",
       "      <td>Miscellaneous Deposit</td>\n",
       "      <td>savings for me and Bro</td>\n",
       "      <td>30000</td>\n",
       "      <td>33</td>\n",
       "    </tr>\n",
       "    <tr>\n",
       "      <th>3</th>\n",
       "      <td>10/10/2013</td>\n",
       "      <td>Miscellaneous Deposit</td>\n",
       "      <td>savings for me and Bro</td>\n",
       "      <td>2500</td>\n",
       "      <td>10</td>\n",
       "    </tr>\n",
       "    <tr>\n",
       "      <th>4</th>\n",
       "      <td>15-10-2013</td>\n",
       "      <td>Miscellaneous Deposit</td>\n",
       "      <td>savings for me and Bro</td>\n",
       "      <td>1</td>\n",
       "      <td>15</td>\n",
       "    </tr>\n",
       "    <tr>\n",
       "      <th>5</th>\n",
       "      <td>30-11-2013</td>\n",
       "      <td>User added funds from SBA-9978</td>\n",
       "      <td>savings for me and Bro</td>\n",
       "      <td>10000</td>\n",
       "      <td>17</td>\n",
       "    </tr>\n",
       "    <tr>\n",
       "      <th>6</th>\n",
       "      <td>5/12/2013</td>\n",
       "      <td>User added funds from SBA-9978</td>\n",
       "      <td>savings for me and Bro</td>\n",
       "      <td>100</td>\n",
       "      <td>19</td>\n",
       "    </tr>\n",
       "    <tr>\n",
       "      <th>7</th>\n",
       "      <td>31-12-2013</td>\n",
       "      <td>Interest Deposit</td>\n",
       "      <td>savings for me and Bro</td>\n",
       "      <td>739</td>\n",
       "      <td>24</td>\n",
       "    </tr>\n",
       "    <tr>\n",
       "      <th>8</th>\n",
       "      <td>1/1/2014</td>\n",
       "      <td>User added funds from SBA-9978</td>\n",
       "      <td>savings for me and Bro</td>\n",
       "      <td>1000</td>\n",
       "      <td>12</td>\n",
       "    </tr>\n",
       "    <tr>\n",
       "      <th>9</th>\n",
       "      <td>5/1/2014</td>\n",
       "      <td>User added funds from SBA-9978</td>\n",
       "      <td>savings for me and Bro</td>\n",
       "      <td>1000</td>\n",
       "      <td>13</td>\n",
       "    </tr>\n",
       "    <tr>\n",
       "      <th>10</th>\n",
       "      <td>4/2/2014</td>\n",
       "      <td>User added funds from SBA-9978</td>\n",
       "      <td>savings for me and Bro</td>\n",
       "      <td>5000</td>\n",
       "      <td>14</td>\n",
       "    </tr>\n",
       "    <tr>\n",
       "      <th>11</th>\n",
       "      <td>27-02-2014</td>\n",
       "      <td>User added funds from SBA-9978</td>\n",
       "      <td>savings for me and Bro</td>\n",
       "      <td>4653</td>\n",
       "      <td>18</td>\n",
       "    </tr>\n",
       "  </tbody>\n",
       "</table>\n",
       "</div>"
      ],
      "text/plain": [
       "          Date                                      Description  \\\n",
       "0   24-09-2013  Initial deposit for goal creation from SBA-9978   \n",
       "1   30-09-2013                                 Interest Deposit   \n",
       "2   10/10/2013                            Miscellaneous Deposit   \n",
       "3   10/10/2013                            Miscellaneous Deposit   \n",
       "4   15-10-2013                            Miscellaneous Deposit   \n",
       "5   30-11-2013                   User added funds from SBA-9978   \n",
       "6    5/12/2013                   User added funds from SBA-9978   \n",
       "7   31-12-2013                                 Interest Deposit   \n",
       "8     1/1/2014                   User added funds from SBA-9978   \n",
       "9     5/1/2014                   User added funds from SBA-9978   \n",
       "10    4/2/2014                   User added funds from SBA-9978   \n",
       "11  27-02-2014                   User added funds from SBA-9978   \n",
       "\n",
       "                   Account   Amount  Maturity  \n",
       "0   savings for me and Bro     5000        25  \n",
       "1   savings for me and Bro        7        15  \n",
       "2   savings for me and Bro    30000        33  \n",
       "3   savings for me and Bro     2500        10  \n",
       "4   savings for me and Bro        1        15  \n",
       "5   savings for me and Bro    10000        17  \n",
       "6   savings for me and Bro      100        19  \n",
       "7   savings for me and Bro      739        24  \n",
       "8   savings for me and Bro     1000        12  \n",
       "9   savings for me and Bro     1000        13  \n",
       "10  savings for me and Bro     5000        14  \n",
       "11  savings for me and Bro     4653        18  "
      ]
     },
     "execution_count": 26,
     "metadata": {},
     "output_type": "execute_result"
    }
   ],
   "source": [
    "filename_1=\"Sample-Val.csv\"\n",
    "file_1=pd.read_csv(filename_1)\n",
    "file_1"
   ]
  },
  {
   "cell_type": "code",
   "execution_count": 27,
   "metadata": {},
   "outputs": [
    {
     "name": "stdout",
     "output_type": "stream",
     "text": [
      "          Date                                      Description  \\\n",
      "0   24-09-2013  Initial deposit for goal creation from SBA-9978   \n",
      "1   30-09-2013                                 Interest Deposit   \n",
      "2   10/10/2013                            Miscellaneous Deposit   \n",
      "3   10/10/2013                            Miscellaneous Deposit   \n",
      "4   15-10-2013                            Miscellaneous Deposit   \n",
      "5   30-11-2013                   User added funds from SBA-9978   \n",
      "6    5/12/2013                   User added funds from SBA-9978   \n",
      "7   31-12-2013                                 Interest Deposit   \n",
      "8     1/1/2014                   User added funds from SBA-9978   \n",
      "9     5/1/2014                   User added funds from SBA-9978   \n",
      "10    4/2/2014                   User added funds from SBA-9978   \n",
      "11  27-02-2014                   User added funds from SBA-9978   \n",
      "\n",
      "                   Account   Amount  Maturity  \n",
      "0   savings for me and Bro     5000        25  \n",
      "1   savings for me and Bro        7        15  \n",
      "2   savings for me and Bro    30000        33  \n",
      "3   savings for me and Bro     2500        10  \n",
      "4   savings for me and Bro        1        15  \n",
      "5   savings for me and Bro    10000        17  \n",
      "6   savings for me and Bro      100        19  \n",
      "7   savings for me and Bro      739        24  \n",
      "8   savings for me and Bro     1000        12  \n",
      "9   savings for me and Bro     1000        13  \n",
      "10  savings for me and Bro     5000        14  \n",
      "11  savings for me and Bro     4653        18  \n"
     ]
    }
   ],
   "source": [
    "print(file_1)"
   ]
  },
  {
   "cell_type": "code",
   "execution_count": 28,
   "metadata": {
    "scrolled": true
   },
   "outputs": [
    {
     "data": {
      "text/html": [
       "<div>\n",
       "<style scoped>\n",
       "    .dataframe tbody tr th:only-of-type {\n",
       "        vertical-align: middle;\n",
       "    }\n",
       "\n",
       "    .dataframe tbody tr th {\n",
       "        vertical-align: top;\n",
       "    }\n",
       "\n",
       "    .dataframe thead th {\n",
       "        text-align: right;\n",
       "    }\n",
       "</style>\n",
       "<table border=\"1\" class=\"dataframe\">\n",
       "  <thead>\n",
       "    <tr style=\"text-align: right;\">\n",
       "      <th></th>\n",
       "      <th>Date</th>\n",
       "      <th>Description</th>\n",
       "      <th>Account</th>\n",
       "      <th>Amount</th>\n",
       "      <th>Maturity</th>\n",
       "    </tr>\n",
       "  </thead>\n",
       "  <tbody>\n",
       "    <tr>\n",
       "      <th>0</th>\n",
       "      <td>24-09-2013</td>\n",
       "      <td>Initial deposit for goal creation from SBA-9978</td>\n",
       "      <td>savings for me and Bro</td>\n",
       "      <td>5000</td>\n",
       "      <td>25</td>\n",
       "    </tr>\n",
       "    <tr>\n",
       "      <th>1</th>\n",
       "      <td>30-09-2013</td>\n",
       "      <td>Interest Deposit</td>\n",
       "      <td>savings for me and Bro</td>\n",
       "      <td>7</td>\n",
       "      <td>15</td>\n",
       "    </tr>\n",
       "    <tr>\n",
       "      <th>2</th>\n",
       "      <td>10/10/2013</td>\n",
       "      <td>Miscellaneous Deposit</td>\n",
       "      <td>savings for me and Bro</td>\n",
       "      <td>30000</td>\n",
       "      <td>33</td>\n",
       "    </tr>\n",
       "    <tr>\n",
       "      <th>3</th>\n",
       "      <td>10/10/2013</td>\n",
       "      <td>Miscellaneous Deposit</td>\n",
       "      <td>savings for me and Bro</td>\n",
       "      <td>2500</td>\n",
       "      <td>10</td>\n",
       "    </tr>\n",
       "    <tr>\n",
       "      <th>4</th>\n",
       "      <td>15-10-2013</td>\n",
       "      <td>Miscellaneous Deposit</td>\n",
       "      <td>savings for me and Bro</td>\n",
       "      <td>1</td>\n",
       "      <td>15</td>\n",
       "    </tr>\n",
       "    <tr>\n",
       "      <th>5</th>\n",
       "      <td>30-11-2013</td>\n",
       "      <td>User added funds from SBA-9978</td>\n",
       "      <td>savings for me and Bro</td>\n",
       "      <td>10000</td>\n",
       "      <td>17</td>\n",
       "    </tr>\n",
       "    <tr>\n",
       "      <th>6</th>\n",
       "      <td>5/12/2013</td>\n",
       "      <td>User added funds from SBA-9978</td>\n",
       "      <td>savings for me and Bro</td>\n",
       "      <td>100</td>\n",
       "      <td>19</td>\n",
       "    </tr>\n",
       "    <tr>\n",
       "      <th>7</th>\n",
       "      <td>31-12-2013</td>\n",
       "      <td>Interest Deposit</td>\n",
       "      <td>savings for me and Bro</td>\n",
       "      <td>739</td>\n",
       "      <td>24</td>\n",
       "    </tr>\n",
       "    <tr>\n",
       "      <th>8</th>\n",
       "      <td>1/1/2014</td>\n",
       "      <td>User added funds from SBA-9978</td>\n",
       "      <td>savings for me and Bro</td>\n",
       "      <td>1000</td>\n",
       "      <td>12</td>\n",
       "    </tr>\n",
       "    <tr>\n",
       "      <th>9</th>\n",
       "      <td>5/1/2014</td>\n",
       "      <td>User added funds from SBA-9978</td>\n",
       "      <td>savings for me and Bro</td>\n",
       "      <td>1000</td>\n",
       "      <td>13</td>\n",
       "    </tr>\n",
       "    <tr>\n",
       "      <th>10</th>\n",
       "      <td>4/2/2014</td>\n",
       "      <td>User added funds from SBA-9978</td>\n",
       "      <td>savings for me and Bro</td>\n",
       "      <td>5000</td>\n",
       "      <td>14</td>\n",
       "    </tr>\n",
       "    <tr>\n",
       "      <th>11</th>\n",
       "      <td>27-02-2014</td>\n",
       "      <td>User added funds from SBA-9978</td>\n",
       "      <td>savings for me and Bro</td>\n",
       "      <td>4653</td>\n",
       "      <td>18</td>\n",
       "    </tr>\n",
       "  </tbody>\n",
       "</table>\n",
       "</div>"
      ],
      "text/plain": [
       "          Date                                      Description  \\\n",
       "0   24-09-2013  Initial deposit for goal creation from SBA-9978   \n",
       "1   30-09-2013                                 Interest Deposit   \n",
       "2   10/10/2013                            Miscellaneous Deposit   \n",
       "3   10/10/2013                            Miscellaneous Deposit   \n",
       "4   15-10-2013                            Miscellaneous Deposit   \n",
       "5   30-11-2013                   User added funds from SBA-9978   \n",
       "6    5/12/2013                   User added funds from SBA-9978   \n",
       "7   31-12-2013                                 Interest Deposit   \n",
       "8     1/1/2014                   User added funds from SBA-9978   \n",
       "9     5/1/2014                   User added funds from SBA-9978   \n",
       "10    4/2/2014                   User added funds from SBA-9978   \n",
       "11  27-02-2014                   User added funds from SBA-9978   \n",
       "\n",
       "                   Account   Amount  Maturity  \n",
       "0   savings for me and Bro     5000        25  \n",
       "1   savings for me and Bro        7        15  \n",
       "2   savings for me and Bro    30000        33  \n",
       "3   savings for me and Bro     2500        10  \n",
       "4   savings for me and Bro        1        15  \n",
       "5   savings for me and Bro    10000        17  \n",
       "6   savings for me and Bro      100        19  \n",
       "7   savings for me and Bro      739        24  \n",
       "8   savings for me and Bro     1000        12  \n",
       "9   savings for me and Bro     1000        13  \n",
       "10  savings for me and Bro     5000        14  \n",
       "11  savings for me and Bro     4653        18  "
      ]
     },
     "execution_count": 28,
     "metadata": {},
     "output_type": "execute_result"
    }
   ],
   "source": [
    "file_2=pd.read_csv(filename_1)\n",
    "file_2"
   ]
  },
  {
   "cell_type": "markdown",
   "metadata": {},
   "source": [
    "<b>Importing using Numpy</b>"
   ]
  },
  {
   "cell_type": "code",
   "execution_count": 29,
   "metadata": {},
   "outputs": [],
   "source": [
    "import numpy as np"
   ]
  },
  {
   "cell_type": "code",
   "execution_count": 30,
   "metadata": {},
   "outputs": [
    {
     "data": {
      "text/plain": [
       "array([[      nan,       nan,       nan,       nan,       nan],\n",
       "       [      nan,       nan,       nan, 5.000e+03, 2.500e+01],\n",
       "       [      nan,       nan,       nan, 7.000e+00, 1.500e+01],\n",
       "       [      nan,       nan,       nan, 3.000e+04, 3.300e+01],\n",
       "       [      nan,       nan,       nan, 2.500e+03, 1.000e+01],\n",
       "       [      nan,       nan,       nan, 1.000e+00, 1.500e+01],\n",
       "       [      nan,       nan,       nan, 1.000e+04, 1.700e+01],\n",
       "       [      nan,       nan,       nan, 1.000e+02, 1.900e+01],\n",
       "       [      nan,       nan,       nan, 7.390e+02, 2.400e+01],\n",
       "       [      nan,       nan,       nan, 1.000e+03, 1.200e+01],\n",
       "       [      nan,       nan,       nan, 1.000e+03, 1.300e+01],\n",
       "       [      nan,       nan,       nan, 5.000e+03, 1.400e+01],\n",
       "       [      nan,       nan,       nan, 4.653e+03, 1.800e+01]])"
      ]
     },
     "execution_count": 30,
     "metadata": {},
     "output_type": "execute_result"
    }
   ],
   "source": [
    "filename=\"Sample-Val.csv\"\n",
    "file_numpy_load=np.genfromtxt(filename,delimiter=',') #Need of Defining Delimiters\n",
    "file_numpy_load"
   ]
  },
  {
   "cell_type": "code",
   "execution_count": 31,
   "metadata": {},
   "outputs": [
    {
     "ename": "ValueError",
     "evalue": "could not convert string to float: 'Date'",
     "output_type": "error",
     "traceback": [
      "\u001b[1;31m---------------------------------------------------------------------------\u001b[0m",
      "\u001b[1;31mValueError\u001b[0m                                Traceback (most recent call last)",
      "\u001b[1;32m<ipython-input-31-0efddb630044>\u001b[0m in \u001b[0;36m<module>\u001b[1;34m\u001b[0m\n\u001b[1;32m----> 1\u001b[1;33m \u001b[0mfile_numpy_load\u001b[0m\u001b[1;33m=\u001b[0m\u001b[0mnp\u001b[0m\u001b[1;33m.\u001b[0m\u001b[0mloadtxt\u001b[0m\u001b[1;33m(\u001b[0m\u001b[0mfilename\u001b[0m\u001b[1;33m,\u001b[0m\u001b[0mdelimiter\u001b[0m\u001b[1;33m=\u001b[0m\u001b[1;34m','\u001b[0m\u001b[1;33m)\u001b[0m \u001b[1;31m#NAN-Not a Number\u001b[0m\u001b[1;33m\u001b[0m\u001b[1;33m\u001b[0m\u001b[0m\n\u001b[0m\u001b[0;32m      2\u001b[0m \u001b[0mfile_numpy_load\u001b[0m\u001b[1;33m\u001b[0m\u001b[1;33m\u001b[0m\u001b[0m\n",
      "\u001b[1;32mC:\\ProgramData\\Anaconda3\\lib\\site-packages\\numpy\\lib\\npyio.py\u001b[0m in \u001b[0;36mloadtxt\u001b[1;34m(fname, dtype, comments, delimiter, converters, skiprows, usecols, unpack, ndmin, encoding, max_rows)\u001b[0m\n\u001b[0;32m   1157\u001b[0m         \u001b[1;31m# converting the data\u001b[0m\u001b[1;33m\u001b[0m\u001b[1;33m\u001b[0m\u001b[1;33m\u001b[0m\u001b[0m\n\u001b[0;32m   1158\u001b[0m         \u001b[0mX\u001b[0m \u001b[1;33m=\u001b[0m \u001b[1;32mNone\u001b[0m\u001b[1;33m\u001b[0m\u001b[1;33m\u001b[0m\u001b[0m\n\u001b[1;32m-> 1159\u001b[1;33m         \u001b[1;32mfor\u001b[0m \u001b[0mx\u001b[0m \u001b[1;32min\u001b[0m \u001b[0mread_data\u001b[0m\u001b[1;33m(\u001b[0m\u001b[0m_loadtxt_chunksize\u001b[0m\u001b[1;33m)\u001b[0m\u001b[1;33m:\u001b[0m\u001b[1;33m\u001b[0m\u001b[1;33m\u001b[0m\u001b[0m\n\u001b[0m\u001b[0;32m   1160\u001b[0m             \u001b[1;32mif\u001b[0m \u001b[0mX\u001b[0m \u001b[1;32mis\u001b[0m \u001b[1;32mNone\u001b[0m\u001b[1;33m:\u001b[0m\u001b[1;33m\u001b[0m\u001b[1;33m\u001b[0m\u001b[0m\n\u001b[0;32m   1161\u001b[0m                 \u001b[0mX\u001b[0m \u001b[1;33m=\u001b[0m \u001b[0mnp\u001b[0m\u001b[1;33m.\u001b[0m\u001b[0marray\u001b[0m\u001b[1;33m(\u001b[0m\u001b[0mx\u001b[0m\u001b[1;33m,\u001b[0m \u001b[0mdtype\u001b[0m\u001b[1;33m)\u001b[0m\u001b[1;33m\u001b[0m\u001b[1;33m\u001b[0m\u001b[0m\n",
      "\u001b[1;32mC:\\ProgramData\\Anaconda3\\lib\\site-packages\\numpy\\lib\\npyio.py\u001b[0m in \u001b[0;36mread_data\u001b[1;34m(chunk_size)\u001b[0m\n\u001b[0;32m   1085\u001b[0m \u001b[1;33m\u001b[0m\u001b[0m\n\u001b[0;32m   1086\u001b[0m             \u001b[1;31m# Convert each value according to its column and store\u001b[0m\u001b[1;33m\u001b[0m\u001b[1;33m\u001b[0m\u001b[1;33m\u001b[0m\u001b[0m\n\u001b[1;32m-> 1087\u001b[1;33m             \u001b[0mitems\u001b[0m \u001b[1;33m=\u001b[0m \u001b[1;33m[\u001b[0m\u001b[0mconv\u001b[0m\u001b[1;33m(\u001b[0m\u001b[0mval\u001b[0m\u001b[1;33m)\u001b[0m \u001b[1;32mfor\u001b[0m \u001b[1;33m(\u001b[0m\u001b[0mconv\u001b[0m\u001b[1;33m,\u001b[0m \u001b[0mval\u001b[0m\u001b[1;33m)\u001b[0m \u001b[1;32min\u001b[0m \u001b[0mzip\u001b[0m\u001b[1;33m(\u001b[0m\u001b[0mconverters\u001b[0m\u001b[1;33m,\u001b[0m \u001b[0mvals\u001b[0m\u001b[1;33m)\u001b[0m\u001b[1;33m]\u001b[0m\u001b[1;33m\u001b[0m\u001b[1;33m\u001b[0m\u001b[0m\n\u001b[0m\u001b[0;32m   1088\u001b[0m \u001b[1;33m\u001b[0m\u001b[0m\n\u001b[0;32m   1089\u001b[0m             \u001b[1;31m# Then pack it according to the dtype's nesting\u001b[0m\u001b[1;33m\u001b[0m\u001b[1;33m\u001b[0m\u001b[1;33m\u001b[0m\u001b[0m\n",
      "\u001b[1;32mC:\\ProgramData\\Anaconda3\\lib\\site-packages\\numpy\\lib\\npyio.py\u001b[0m in \u001b[0;36m<listcomp>\u001b[1;34m(.0)\u001b[0m\n\u001b[0;32m   1085\u001b[0m \u001b[1;33m\u001b[0m\u001b[0m\n\u001b[0;32m   1086\u001b[0m             \u001b[1;31m# Convert each value according to its column and store\u001b[0m\u001b[1;33m\u001b[0m\u001b[1;33m\u001b[0m\u001b[1;33m\u001b[0m\u001b[0m\n\u001b[1;32m-> 1087\u001b[1;33m             \u001b[0mitems\u001b[0m \u001b[1;33m=\u001b[0m \u001b[1;33m[\u001b[0m\u001b[0mconv\u001b[0m\u001b[1;33m(\u001b[0m\u001b[0mval\u001b[0m\u001b[1;33m)\u001b[0m \u001b[1;32mfor\u001b[0m \u001b[1;33m(\u001b[0m\u001b[0mconv\u001b[0m\u001b[1;33m,\u001b[0m \u001b[0mval\u001b[0m\u001b[1;33m)\u001b[0m \u001b[1;32min\u001b[0m \u001b[0mzip\u001b[0m\u001b[1;33m(\u001b[0m\u001b[0mconverters\u001b[0m\u001b[1;33m,\u001b[0m \u001b[0mvals\u001b[0m\u001b[1;33m)\u001b[0m\u001b[1;33m]\u001b[0m\u001b[1;33m\u001b[0m\u001b[1;33m\u001b[0m\u001b[0m\n\u001b[0m\u001b[0;32m   1088\u001b[0m \u001b[1;33m\u001b[0m\u001b[0m\n\u001b[0;32m   1089\u001b[0m             \u001b[1;31m# Then pack it according to the dtype's nesting\u001b[0m\u001b[1;33m\u001b[0m\u001b[1;33m\u001b[0m\u001b[1;33m\u001b[0m\u001b[0m\n",
      "\u001b[1;32mC:\\ProgramData\\Anaconda3\\lib\\site-packages\\numpy\\lib\\npyio.py\u001b[0m in \u001b[0;36mfloatconv\u001b[1;34m(x)\u001b[0m\n\u001b[0;32m    792\u001b[0m         \u001b[1;32mif\u001b[0m \u001b[1;34m'0x'\u001b[0m \u001b[1;32min\u001b[0m \u001b[0mx\u001b[0m\u001b[1;33m:\u001b[0m\u001b[1;33m\u001b[0m\u001b[1;33m\u001b[0m\u001b[0m\n\u001b[0;32m    793\u001b[0m             \u001b[1;32mreturn\u001b[0m \u001b[0mfloat\u001b[0m\u001b[1;33m.\u001b[0m\u001b[0mfromhex\u001b[0m\u001b[1;33m(\u001b[0m\u001b[0mx\u001b[0m\u001b[1;33m)\u001b[0m\u001b[1;33m\u001b[0m\u001b[1;33m\u001b[0m\u001b[0m\n\u001b[1;32m--> 794\u001b[1;33m         \u001b[1;32mreturn\u001b[0m \u001b[0mfloat\u001b[0m\u001b[1;33m(\u001b[0m\u001b[0mx\u001b[0m\u001b[1;33m)\u001b[0m\u001b[1;33m\u001b[0m\u001b[1;33m\u001b[0m\u001b[0m\n\u001b[0m\u001b[0;32m    795\u001b[0m \u001b[1;33m\u001b[0m\u001b[0m\n\u001b[0;32m    796\u001b[0m     \u001b[0mtyp\u001b[0m \u001b[1;33m=\u001b[0m \u001b[0mdtype\u001b[0m\u001b[1;33m.\u001b[0m\u001b[0mtype\u001b[0m\u001b[1;33m\u001b[0m\u001b[1;33m\u001b[0m\u001b[0m\n",
      "\u001b[1;31mValueError\u001b[0m: could not convert string to float: 'Date'"
     ]
    }
   ],
   "source": [
    "file_numpy_load=np.loadtxt(filename,delimiter=',') #NAN-Not a Number\n",
    "file_numpy_load"
   ]
  },
  {
   "cell_type": "code",
   "execution_count": 32,
   "metadata": {},
   "outputs": [
    {
     "data": {
      "text/plain": [
       "array([[      nan,       nan,       nan, 3.000e+04, 3.300e+01],\n",
       "       [      nan,       nan,       nan, 2.500e+03, 1.000e+01],\n",
       "       [      nan,       nan,       nan, 1.000e+00, 1.500e+01],\n",
       "       [      nan,       nan,       nan, 1.000e+04, 1.700e+01],\n",
       "       [      nan,       nan,       nan, 1.000e+02, 1.900e+01],\n",
       "       [      nan,       nan,       nan, 7.390e+02, 2.400e+01],\n",
       "       [      nan,       nan,       nan, 1.000e+03, 1.200e+01],\n",
       "       [      nan,       nan,       nan, 1.000e+03, 1.300e+01],\n",
       "       [      nan,       nan,       nan, 5.000e+03, 1.400e+01],\n",
       "       [      nan,       nan,       nan, 4.653e+03, 1.800e+01]])"
      ]
     },
     "execution_count": 32,
     "metadata": {},
     "output_type": "execute_result"
    }
   ],
   "source": [
    "file_numpy_load_partial=np.genfromtxt(filename,delimiter=',', skip_header=3)\n",
    "file_numpy_load_partial"
   ]
  },
  {
   "cell_type": "code",
   "execution_count": null,
   "metadata": {},
   "outputs": [],
   "source": [
    "file_numpy_load_partial=np.genfromtxt(filename,delimiter=',', skip_footer=3) #Removing Rows\n",
    "file_numpy_load_partial"
   ]
  },
  {
   "cell_type": "code",
   "execution_count": null,
   "metadata": {},
   "outputs": [],
   "source": [
    "file_numpy_load_partial=np.genfromtxt(filename,delimiter=',', usecols=(0,3)) #Removing Columns\n",
    "file_numpy_load_partial"
   ]
  },
  {
   "cell_type": "code",
   "execution_count": null,
   "metadata": {},
   "outputs": [],
   "source": [
    "file_numpy_load_partial=np.genfromtxt(filename,delimiter=',', skip_header=3,skip_footer=3, usecols=(0,3))\n",
    "file_numpy_load_partial"
   ]
  },
  {
   "cell_type": "code",
   "execution_count": null,
   "metadata": {},
   "outputs": [],
   "source": [
    "file_np_1,file_np_2=np.genfromtxt(filename,delimiter=',', skip_header=3,skip_footer=3, usecols=(0,3), unpack=True)\n",
    "\n",
    "print(file_np_1)\n",
    "print(file_np_2)"
   ]
  }
 ],
 "metadata": {
  "kernelspec": {
   "display_name": "Python 3",
   "language": "python",
   "name": "python3"
  },
  "language_info": {
   "codemirror_mode": {
    "name": "ipython",
    "version": 3
   },
   "file_extension": ".py",
   "mimetype": "text/x-python",
   "name": "python",
   "nbconvert_exporter": "python",
   "pygments_lexer": "ipython3",
   "version": "3.7.6"
  }
 },
 "nbformat": 4,
 "nbformat_minor": 4
}
