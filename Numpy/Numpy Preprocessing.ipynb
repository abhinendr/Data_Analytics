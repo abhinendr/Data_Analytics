{
 "cells": [
  {
   "cell_type": "markdown",
   "metadata": {},
   "source": [
    "<B>Clean and Preprocess Data using Numpy"
   ]
  },
  {
   "cell_type": "code",
   "execution_count": 1,
   "metadata": {},
   "outputs": [],
   "source": [
    "#How to discover missing values and fill them up\n",
    "#Ways to remove irrelevant data\n",
    "#Sort shuffle strip reshape stacka"
   ]
  },
  {
   "cell_type": "code",
   "execution_count": 2,
   "metadata": {},
   "outputs": [],
   "source": [
    "import numpy as np"
   ]
  },
  {
   "cell_type": "code",
   "execution_count": 3,
   "metadata": {},
   "outputs": [],
   "source": [
    "lead_co_file=np.loadtxt('Test_Creation.csv', delimiter=',')"
   ]
  },
  {
   "cell_type": "code",
   "execution_count": 4,
   "metadata": {},
   "outputs": [
    {
     "data": {
      "text/plain": [
       "array([[ 2.        , 21.        , 47.        , 20.05945799,  2.        ],\n",
       "       [ 0.        , 21.        , 62.        , 10.58624666,  6.        ],\n",
       "       [ 1.        , 13.        , 50.        , 12.25758194,  2.        ],\n",
       "       ...,\n",
       "       [ 1.        , 15.        , 54.        ,  9.17892527,  1.        ],\n",
       "       [ 1.        , 15.        , 57.        , 14.39721513,  4.        ],\n",
       "       [ 2.        , 20.        , 47.        ,  8.19234137,  6.        ]])"
      ]
     },
     "execution_count": 4,
     "metadata": {},
     "output_type": "execute_result"
    }
   ],
   "source": [
    "lead_co_file"
   ]
  },
  {
   "cell_type": "code",
   "execution_count": 37,
   "metadata": {},
   "outputs": [
    {
     "data": {
      "text/plain": [
       "array([[False, False, False, False, False],\n",
       "       [False, False, False, False, False],\n",
       "       [False, False, False, False, False],\n",
       "       ...,\n",
       "       [False, False, False, False, False],\n",
       "       [False, False, False, False, False],\n",
       "       [False, False, False, False, False]])"
      ]
     },
     "execution_count": 37,
     "metadata": {},
     "output_type": "execute_result"
    }
   ],
   "source": [
    "np.isnan(lead_co_file)"
   ]
  },
  {
   "cell_type": "code",
   "execution_count": 6,
   "metadata": {},
   "outputs": [
    {
     "data": {
      "text/plain": [
       "0"
      ]
     },
     "execution_count": 6,
     "metadata": {},
     "output_type": "execute_result"
    }
   ],
   "source": [
    "np.isnan(lead_co_file).sum() #It gives the count "
   ]
  },
  {
   "cell_type": "code",
   "execution_count": 7,
   "metadata": {},
   "outputs": [],
   "source": [
    "#fILE With missing params NAN\n",
    "lead_co_file=np.genfromtxt('Test_Creation1.csv', delimiter=',')"
   ]
  },
  {
   "cell_type": "code",
   "execution_count": 8,
   "metadata": {},
   "outputs": [
    {
     "data": {
      "text/plain": [
       "16"
      ]
     },
     "execution_count": 8,
     "metadata": {},
     "output_type": "execute_result"
    }
   ],
   "source": [
    "np.isnan(lead_co_file).sum()"
   ]
  },
  {
   "cell_type": "code",
   "execution_count": 9,
   "metadata": {},
   "outputs": [],
   "source": [
    "#Filling every NAN with zero\n",
    "lead_co_file=np.genfromtxt('Test_Creation1.csv', delimiter=',',filling_values=0)\n"
   ]
  },
  {
   "cell_type": "code",
   "execution_count": 10,
   "metadata": {},
   "outputs": [
    {
     "data": {
      "text/plain": [
       "0"
      ]
     },
     "execution_count": 10,
     "metadata": {},
     "output_type": "execute_result"
    }
   ],
   "source": [
    "np.isnan(lead_co_file).sum()"
   ]
  },
  {
   "cell_type": "code",
   "execution_count": 11,
   "metadata": {},
   "outputs": [],
   "source": [
    "#Filling with the maximum values\n",
    "temp_fill=np.nanmax(lead_co_file).round(2)+1"
   ]
  },
  {
   "cell_type": "code",
   "execution_count": 12,
   "metadata": {},
   "outputs": [
    {
     "data": {
      "text/plain": [
       "70.0"
      ]
     },
     "execution_count": 12,
     "metadata": {},
     "output_type": "execute_result"
    }
   ],
   "source": [
    "temp_fill"
   ]
  },
  {
   "cell_type": "code",
   "execution_count": 13,
   "metadata": {},
   "outputs": [],
   "source": [
    "lead_co_file=np.genfromtxt('Test_Creation1.csv', delimiter=',',filling_values=temp_fill)"
   ]
  },
  {
   "cell_type": "code",
   "execution_count": 14,
   "metadata": {},
   "outputs": [
    {
     "data": {
      "text/plain": [
       "array([[ 2.        , 21.        , 70.        , 20.05945799,  2.        ],\n",
       "       [ 0.        , 21.        , 62.        , 10.58624666,  6.        ],\n",
       "       [ 1.        , 13.        , 50.        , 12.25758194,  2.        ],\n",
       "       ...,\n",
       "       [ 1.        , 15.        , 54.        ,  9.17892527,  1.        ],\n",
       "       [ 1.        , 15.        , 57.        , 14.39721513,  4.        ],\n",
       "       [ 2.        , 20.        , 47.        ,  8.19234137,  6.        ]])"
      ]
     },
     "execution_count": 14,
     "metadata": {},
     "output_type": "execute_result"
    }
   ],
   "source": [
    "lead_co_file"
   ]
  },
  {
   "cell_type": "markdown",
   "metadata": {},
   "source": [
    "<b>Substituting missing values"
   ]
  },
  {
   "cell_type": "code",
   "execution_count": 15,
   "metadata": {},
   "outputs": [],
   "source": [
    "temp_mean=np.nanmean(lead_co_file,axis=0).round(2)"
   ]
  },
  {
   "cell_type": "code",
   "execution_count": 16,
   "metadata": {},
   "outputs": [
    {
     "data": {
      "text/plain": [
       "array([ 1.11, 15.24, 54.2 ,  9.12,  4.12])"
      ]
     },
     "execution_count": 16,
     "metadata": {},
     "output_type": "execute_result"
    }
   ],
   "source": [
    "temp_mean[0]\n",
    "temp_mean"
   ]
  },
  {
   "cell_type": "code",
   "execution_count": 17,
   "metadata": {
    "collapsed": true
   },
   "outputs": [
    {
     "data": {
      "text/plain": [
       "array([ 2.,  0.,  1.,  1.,  2.,  1.,  1.,  0.,  1.,  1.,  1.,  2.,  1.,\n",
       "        1.,  0.,  0.,  1.,  0.,  2.,  1.,  0.,  1.,  0.,  0.,  2.,  1.,\n",
       "        0.,  2.,  4.,  0.,  0.,  0.,  0.,  0.,  1.,  2.,  3.,  1.,  1.,\n",
       "        0.,  1.,  0.,  4.,  1.,  2.,  2.,  2.,  0.,  0.,  1.,  0.,  0.,\n",
       "        1.,  2.,  0.,  1.,  0.,  0.,  0.,  0.,  3.,  1.,  0.,  0.,  1.,\n",
       "        2.,  0.,  0.,  0.,  0.,  3.,  2.,  0.,  2.,  0.,  2.,  0.,  0.,\n",
       "        1.,  1.,  2.,  0.,  0.,  2.,  0.,  0.,  2.,  1.,  1.,  0.,  0.,\n",
       "        0.,  1.,  2.,  1.,  0.,  0.,  1.,  0.,  0.,  0.,  0.,  0.,  0.,\n",
       "        1.,  0.,  1.,  0.,  1.,  1.,  5.,  0.,  1.,  0.,  2.,  0.,  2.,\n",
       "        1.,  4.,  1.,  3.,  0.,  3.,  1.,  2.,  0.,  1.,  3.,  0.,  2.,\n",
       "        2.,  0.,  2.,  2.,  3.,  0.,  0.,  0.,  1.,  0.,  1.,  1.,  0.,\n",
       "        2.,  1.,  1.,  0.,  1.,  3.,  1.,  2.,  2.,  1.,  3.,  2.,  2.,\n",
       "        0.,  0.,  1.,  0.,  1.,  0.,  1.,  2.,  1.,  0.,  2.,  3.,  1.,\n",
       "        2.,  1.,  4.,  2.,  2.,  1.,  3.,  1.,  2.,  2.,  0.,  1.,  0.,\n",
       "        0.,  0.,  2.,  0.,  1.,  0.,  2.,  2.,  0.,  3.,  1.,  1.,  2.,\n",
       "        0.,  1.,  2.,  1.,  0.,  1.,  1.,  1.,  1.,  0.,  2.,  2.,  1.,\n",
       "        1.,  1.,  1.,  1.,  3.,  1.,  0.,  1.,  1.,  2.,  0.,  1.,  0.,\n",
       "        0.,  1.,  1.,  0.,  0.,  1.,  0.,  0.,  2.,  0.,  0.,  0.,  1.,\n",
       "        1.,  2.,  0.,  0.,  0.,  1.,  0.,  1.,  2.,  0.,  1.,  3.,  0.,\n",
       "        2.,  1.,  1.,  1.,  0.,  1.,  1.,  1.,  1.,  2.,  0.,  1.,  0.,\n",
       "        0.,  0.,  0.,  1.,  1.,  1.,  1.,  1.,  0.,  1.,  0.,  0.,  1.,\n",
       "        3.,  0.,  0.,  0.,  0.,  1.,  0.,  0.,  0.,  1.,  0.,  0.,  4.,\n",
       "        2.,  3.,  1.,  1.,  0.,  1.,  1.,  0.,  0.,  0.,  3.,  4.,  0.,\n",
       "        0.,  1.,  3.,  1.,  0.,  0.,  2.,  2.,  0.,  2.,  0.,  1.,  0.,\n",
       "        2.,  0.,  2.,  1.,  0.,  1.,  2.,  0.,  0.,  0.,  1.,  2.,  1.,\n",
       "        1.,  2.,  0.,  1.,  1.,  2.,  2.,  0.,  1.,  1.,  1.,  1.,  0.,\n",
       "        2.,  1.,  0.,  0.,  1.,  0.,  0.,  1.,  1.,  1.,  2.,  0.,  1.,\n",
       "        1.,  1.,  2.,  0.,  1.,  1.,  1.,  0.,  0.,  1.,  0.,  1.,  1.,\n",
       "        1.,  2.,  0.,  2.,  0.,  1.,  1.,  0.,  2.,  0.,  1.,  0.,  1.,\n",
       "        1.,  4.,  0.,  0.,  2.,  0.,  0.,  1.,  0.,  1.,  2.,  0.,  1.,\n",
       "        2.,  0.,  0.,  0.,  0.,  0.,  1.,  2.,  0.,  0.,  1.,  0.,  2.,\n",
       "        1.,  0.,  2.,  2.,  2.,  1.,  0.,  0.,  0.,  2.,  1.,  2.,  2.,\n",
       "        2.,  3.,  1.,  0.,  1.,  0.,  0.,  1.,  1.,  0.,  3.,  1.,  2.,\n",
       "        0.,  0.,  1.,  2.,  5.,  2.,  0.,  2.,  2.,  0.,  1.,  0.,  0.,\n",
       "        1.,  3.,  1.,  1.,  0.,  0.,  2.,  0.,  0.,  1.,  0.,  1.,  2.,\n",
       "        1.,  3.,  1.,  2.,  1.,  0.,  0.,  1.,  1.,  1.,  2.,  0.,  1.,\n",
       "        1.,  0.,  0.,  0.,  0.,  0.,  0.,  2.,  2.,  0.,  3.,  2.,  0.,\n",
       "        0.,  1.,  0.,  1.,  1.,  0.,  0.,  1.,  1.,  4.,  0.,  1., 70.,\n",
       "        1.,  2.,  2.,  2.,  1.,  0.,  0.,  1.,  0.,  3.,  1.,  1.,  0.,\n",
       "        1.,  3.,  5.,  2.,  1.,  1.,  2.,  1.,  1.,  0.,  0.,  0.,  0.,\n",
       "        1.,  1.,  1.,  2.,  0.,  2.,  1.,  0.,  2.,  1.,  0.,  0.,  0.,\n",
       "        0.,  0.,  0.,  0.,  1.,  1.,  2.,  2.,  1.,  0.,  2.,  1.,  0.,\n",
       "        0.,  0.,  0.,  2.,  1.,  0.,  0.,  0.,  1.,  2.,  4.,  0.,  1.,\n",
       "        0.,  2.,  0.,  1.,  1.,  1.,  3.,  2.,  0.,  2.,  1.,  1.,  1.,\n",
       "        1.,  2.,  2.,  0.,  2.,  3.,  1.,  0.,  0.,  1.,  0.,  1.,  0.,\n",
       "        0.,  1.,  1.,  3.,  0.,  1.,  2.,  3.,  1.,  2.,  1.,  1.,  2.,\n",
       "        0.,  0.,  0.,  2.,  0.,  0.,  0.,  2.,  1.,  2.,  1.,  1.,  1.,\n",
       "        0.,  1.,  1.,  0.,  1.,  0.,  2.,  2.,  1.,  2.,  1.,  3.,  4.,\n",
       "        2.,  1.,  1.,  1.,  0.,  1.,  0.,  0.,  2.,  0.,  0.,  1.,  2.,\n",
       "        0.,  0.,  3.,  1.,  2.,  0.,  1.,  2.,  2.,  1.,  1.,  0.,  2.,\n",
       "        1.,  0.,  1.,  2.,  1.,  3.,  1.,  0.,  0.,  1.,  2.,  0.,  1.,\n",
       "        1.,  0.,  1.,  1.,  2.,  2.,  1.,  0.,  1.,  0.,  3.,  2.,  4.,\n",
       "        2.,  2.,  1.,  0.,  2.,  2.,  0.,  1.,  1.,  0.,  1.,  2.,  1.,\n",
       "        0.,  0.,  4.,  0.,  1.,  0.,  1.,  1.,  1.,  0.,  0.,  0.,  0.,\n",
       "        0.,  0.,  0.,  1.,  3., 70.,  1.,  2.,  2.,  2.,  2.,  0.,  1.,\n",
       "        3.,  0.,  2.,  2.,  2.,  1.,  0.,  0.,  1.,  1.,  2.,  0.,  1.,\n",
       "        1.,  2.,  0.,  0.,  1.,  2.,  0.,  2.,  1.,  1.,  0.,  2.,  1.,\n",
       "        2.,  3.,  1.,  0.,  0.,  0.,  0.,  1.,  1.,  1.,  1.,  1.,  1.,\n",
       "        2.,  0.,  1.,  0.,  0.,  0.,  0.,  1.,  2.,  2.,  0.,  2.,  1.,\n",
       "        3.,  1.,  0.,  2.,  4.,  1.,  2.,  2.,  0.,  1.,  1.,  0.,  1.,\n",
       "        1.,  0.,  1.,  2.,  1.,  0.,  0.,  0.,  0.,  1.,  1.,  0.,  4.,\n",
       "        1.,  0.,  1.,  2.,  1.,  2.,  0.,  2.,  1.,  2.,  1.,  1.,  0.,\n",
       "        1.,  1.,  1.,  2.,  1.,  1.,  1.,  0.,  0.,  1.,  1.,  0.,  0.,\n",
       "        0.,  2.,  1.,  0.,  1.,  2.,  1.,  0.,  0.,  1.,  0.,  2.,  1.,\n",
       "        1.,  1.,  1.,  0.,  2.,  0.,  2.,  0.,  0.,  0.,  3.,  2.,  0.,\n",
       "        2.,  2.,  0.,  0.,  0.,  0.,  3.,  2.,  2.,  0.,  2.,  2.,  0.,\n",
       "        0.,  0.,  1.,  1.,  3.,  1.,  1.,  1.,  2.,  0.,  0.,  1.,  0.,\n",
       "        0.,  0.,  0.,  4.,  1.,  0.,  1.,  1.,  0.,  1.,  0.,  0.,  1.,\n",
       "        0.,  0.,  1.,  1.,  1.,  0.,  0.,  0.,  2.,  1.,  0.,  2.,  3.,\n",
       "        1.,  1.,  2.,  0.,  1.,  0.,  3.,  1.,  1.,  0.,  1.,  0.,  1.,\n",
       "        0.,  2.,  0.,  1.,  3.,  1.,  2.,  1.,  0.,  0.,  2.,  2.,  1.,\n",
       "        1.,  1.,  0.,  2.,  1.,  4.,  1.,  0.,  1.,  2.,  1.,  0.,  2.,\n",
       "        0.,  1.,  0.,  0.,  1.,  1.,  3.,  1.,  0.,  0.,  1.,  2.,  1.,\n",
       "        0.,  0.,  1.,  0.,  1.,  2.,  1.,  1.,  1.,  0.,  0.,  0.,  0.,\n",
       "        0.,  2.,  0.,  2.,  1.,  0.,  0.,  1.,  0.,  0.,  0.,  0.,  0.,\n",
       "        1.,  1.,  0.,  1.,  0.,  3.,  0.,  0.,  0.,  3.,  1.,  3.,  0.,\n",
       "        3.,  0.,  1.,  2.,  0.,  1.,  1.,  2.,  2.,  1.,  1.,  2.])"
      ]
     },
     "execution_count": 17,
     "metadata": {},
     "output_type": "execute_result"
    }
   ],
   "source": [
    "lead_co_file[:,0] #Column with index zero, Hence all rows but 1 column"
   ]
  },
  {
   "cell_type": "code",
   "execution_count": 18,
   "metadata": {},
   "outputs": [
    {
     "data": {
      "text/plain": [
       "1.11"
      ]
     },
     "execution_count": 18,
     "metadata": {},
     "output_type": "execute_result"
    }
   ],
   "source": [
    "np.mean(lead_co_file[:,0]).round(2)"
   ]
  },
  {
   "cell_type": "code",
   "execution_count": 19,
   "metadata": {},
   "outputs": [],
   "source": [
    "lead_co_file[:,0]=np.where(lead_co_file[:,0]==temp_fill, temp_mean[0],lead_co_file[:,0]) #Like ternary Operator (if:cond1:cond2)"
   ]
  },
  {
   "cell_type": "code",
   "execution_count": 20,
   "metadata": {},
   "outputs": [
    {
     "data": {
      "text/plain": [
       "0.97"
      ]
     },
     "execution_count": 20,
     "metadata": {},
     "output_type": "execute_result"
    }
   ],
   "source": [
    "np.mean(lead_co_file[:,0]).round(2)"
   ]
  },
  {
   "cell_type": "code",
   "execution_count": 21,
   "metadata": {},
   "outputs": [],
   "source": [
    "for i in range(lead_co_file.shape[1]):\n",
    "    lead_co_file[:,i]=np.where(lead_co_file[:,i]==temp_fill, temp_mean[i],lead_co_file[:,i])"
   ]
  },
  {
   "cell_type": "code",
   "execution_count": 22,
   "metadata": {},
   "outputs": [],
   "source": [
    "for i in range(lead_co_file.shape[1]):\n",
    "    lead_co_file[:,i]=np.where(lead_co_file[:,i]<0, temp_mean[i],lead_co_file[:,i])"
   ]
  },
  {
   "cell_type": "markdown",
   "metadata": {},
   "source": [
    "<b>Reshaping"
   ]
  },
  {
   "cell_type": "code",
   "execution_count": 23,
   "metadata": {},
   "outputs": [],
   "source": [
    "#numpy.reshape(array, shape, order = 'C')"
   ]
  },
  {
   "cell_type": "code",
   "execution_count": 24,
   "metadata": {},
   "outputs": [],
   "source": [
    "lead_dataset=np.loadtxt(\"Test_Creation.csv\",delimiter=',')"
   ]
  },
  {
   "cell_type": "code",
   "execution_count": 25,
   "metadata": {},
   "outputs": [
    {
     "data": {
      "text/plain": [
       "array([[ 2.        , 21.        , 47.        , 20.05945799,  2.        ],\n",
       "       [ 0.        , 21.        , 62.        , 10.58624666,  6.        ],\n",
       "       [ 1.        , 13.        , 50.        , 12.25758194,  2.        ],\n",
       "       ...,\n",
       "       [ 1.        , 15.        , 54.        ,  9.17892527,  1.        ],\n",
       "       [ 1.        , 15.        , 57.        , 14.39721513,  4.        ],\n",
       "       [ 2.        , 20.        , 47.        ,  8.19234137,  6.        ]])"
      ]
     },
     "execution_count": 25,
     "metadata": {},
     "output_type": "execute_result"
    }
   ],
   "source": [
    "lead_dataset"
   ]
  },
  {
   "cell_type": "code",
   "execution_count": 26,
   "metadata": {},
   "outputs": [
    {
     "data": {
      "text/plain": [
       "(1000, 5)"
      ]
     },
     "execution_count": 26,
     "metadata": {},
     "output_type": "execute_result"
    }
   ],
   "source": [
    "lead_dataset.shape"
   ]
  },
  {
   "cell_type": "code",
   "execution_count": 27,
   "metadata": {},
   "outputs": [
    {
     "data": {
      "text/plain": [
       "array([[ 2.        , 21.        , 47.        , ..., 52.        ,\n",
       "         7.26848267,  6.        ],\n",
       "       [ 1.        , 18.        , 51.        , ..., 59.        ,\n",
       "         3.13933438,  2.        ],\n",
       "       [ 1.        , 17.        , 51.        , ..., 51.        ,\n",
       "         4.43157288,  4.        ],\n",
       "       [ 0.        , 13.        , 50.        , ..., 43.        ,\n",
       "        10.76406889,  1.        ],\n",
       "       [ 2.        , 12.        , 59.        , ..., 47.        ,\n",
       "         8.19234137,  6.        ]])"
      ]
     },
     "execution_count": 27,
     "metadata": {},
     "output_type": "execute_result"
    }
   ],
   "source": [
    "np.reshape(lead_dataset,(5,1000))"
   ]
  },
  {
   "cell_type": "code",
   "execution_count": 28,
   "metadata": {},
   "outputs": [
    {
     "data": {
      "text/plain": [
       "array([[ 2.        ,  0.        ,  1.        , ...,  1.        ,\n",
       "         1.        ,  2.        ],\n",
       "       [21.        , 21.        , 13.        , ..., 15.        ,\n",
       "        15.        , 20.        ],\n",
       "       [47.        , 62.        , 50.        , ..., 54.        ,\n",
       "        57.        , 47.        ],\n",
       "       [20.05945799, 10.58624666, 12.25758194, ...,  9.17892527,\n",
       "        14.39721513,  8.19234137],\n",
       "       [ 2.        ,  6.        ,  2.        , ...,  1.        ,\n",
       "         4.        ,  6.        ]])"
      ]
     },
     "execution_count": 28,
     "metadata": {},
     "output_type": "execute_result"
    }
   ],
   "source": [
    "lead_dataset.transpose()"
   ]
  },
  {
   "cell_type": "code",
   "execution_count": 29,
   "metadata": {},
   "outputs": [
    {
     "data": {
      "text/plain": [
       "array([[[ 2.        , 21.        , 47.        , ..., 59.        ,\n",
       "          5.18309581,  6.        ],\n",
       "        [ 0.        , 14.        , 50.        , ..., 52.        ,\n",
       "          7.26848267,  6.        ],\n",
       "        [ 1.        , 18.        , 51.        , ..., 58.        ,\n",
       "         18.42475925,  6.        ],\n",
       "        [ 1.        , 10.        , 55.        , ..., 59.        ,\n",
       "          3.13933438,  2.        ],\n",
       "        [ 1.        , 17.        , 51.        , ..., 50.        ,\n",
       "         12.98184693,  1.        ]],\n",
       "\n",
       "       [[ 0.        , 13.        , 48.        , ..., 51.        ,\n",
       "          4.43157288,  4.        ],\n",
       "        [ 0.        , 13.        , 50.        , ..., 60.        ,\n",
       "          1.30464095,  6.        ],\n",
       "        [ 0.        , 12.        , 59.        , ..., 43.        ,\n",
       "         10.76406889,  1.        ],\n",
       "        [ 2.        , 12.        , 59.        , ..., 51.        ,\n",
       "          9.75111127,  1.        ],\n",
       "        [ 0.        , 15.        , 49.        , ..., 47.        ,\n",
       "          8.19234137,  6.        ]]])"
      ]
     },
     "execution_count": 29,
     "metadata": {},
     "output_type": "execute_result"
    }
   ],
   "source": [
    "np.reshape(lead_dataset,(2,5,500))"
   ]
  },
  {
   "cell_type": "code",
   "execution_count": 30,
   "metadata": {},
   "outputs": [],
   "source": [
    "lead_dataset=np.reshape(lead_dataset,(100,10,5))"
   ]
  },
  {
   "cell_type": "code",
   "execution_count": 31,
   "metadata": {
    "collapsed": true
   },
   "outputs": [
    {
     "data": {
      "text/plain": [
       "array([[[  2.        ,  21.        ,  47.        ,  20.05945799,\n",
       "           2.        ],\n",
       "        [  0.        ,  21.        ,  62.        ,  10.58624666,\n",
       "           6.        ],\n",
       "        [  1.        ,  13.        ,  50.        ,  12.25758194,\n",
       "           2.        ],\n",
       "        ...,\n",
       "        [  0.        ,  17.        ,  58.        ,   4.92609105,\n",
       "           5.        ],\n",
       "        [  1.        ,  12.        ,  57.        , -15.82393876,\n",
       "           5.        ],\n",
       "        [  1.        ,  16.        ,  56.        ,   8.61139411,\n",
       "           1.        ]],\n",
       "\n",
       "       [[  1.        ,  14.        ,  60.        ,   9.04272751,\n",
       "           6.        ],\n",
       "        [  2.        ,  18.        ,  45.        ,   2.69144317,\n",
       "           6.        ],\n",
       "        [  1.        ,  16.        ,  63.        ,  15.96309797,\n",
       "           4.        ],\n",
       "        ...,\n",
       "        [  0.        ,  12.        ,  54.        ,  12.44462352,\n",
       "           5.        ],\n",
       "        [  2.        ,  11.        ,  52.        ,   8.33834179,\n",
       "           5.        ],\n",
       "        [  1.        ,  14.        ,  55.        ,  12.36363135,\n",
       "           6.        ]],\n",
       "\n",
       "       [[  0.        ,  17.        ,  55.        ,  11.65920298,\n",
       "           5.        ],\n",
       "        [  1.        ,  23.        ,  52.        ,  17.69475555,\n",
       "           4.        ],\n",
       "        [  0.        ,  16.        ,  54.        ,  13.62800369,\n",
       "           1.        ],\n",
       "        ...,\n",
       "        [  2.        ,  17.        ,  56.        ,   2.66100722,\n",
       "           2.        ],\n",
       "        [  4.        ,  12.        ,  56.        ,   4.39500949,\n",
       "           4.        ],\n",
       "        [  0.        ,  14.        ,  64.        ,   9.80199648,\n",
       "           5.        ]],\n",
       "\n",
       "       ...,\n",
       "\n",
       "       [[  0.        ,  14.        ,  51.        ,   1.92002568,\n",
       "           5.        ],\n",
       "        [  0.        ,  14.        ,  57.        ,  11.41174824,\n",
       "           5.        ],\n",
       "        [  0.        ,  13.        ,  51.        ,   3.58237321,\n",
       "           5.        ],\n",
       "        ...,\n",
       "        [  0.        ,  16.        ,  49.        ,   7.37852241,\n",
       "           5.        ],\n",
       "        [  1.        ,  23.        ,  58.        ,  12.15846765,\n",
       "           6.        ],\n",
       "        [  0.        ,  19.        ,  55.        ,   5.87373349,\n",
       "           4.        ]],\n",
       "\n",
       "       [[  3.        ,  10.        ,  47.        ,  13.25903576,\n",
       "           4.        ],\n",
       "        [  0.        ,  15.        ,  53.        ,   8.16703044,\n",
       "           6.        ],\n",
       "        [  0.        ,  15.        ,  54.        ,   4.96405374,\n",
       "           4.        ],\n",
       "        ...,\n",
       "        [  0.        ,  14.        ,  56.        ,  17.59031314,\n",
       "           2.        ],\n",
       "        [  3.        ,  18.        ,  54.        ,   8.65020287,\n",
       "           6.        ],\n",
       "        [  0.        ,  13.        ,  52.        ,  13.00166508,\n",
       "           1.        ]],\n",
       "\n",
       "       [[  1.        ,  13.        ,  55.        ,  -6.72968154,\n",
       "           4.        ],\n",
       "        [  2.        ,  15.        ,  59.        ,  11.02410712,\n",
       "           4.        ],\n",
       "        [  0.        ,  12.        ,  50.        ,   9.98623754,\n",
       "           4.        ],\n",
       "        ...,\n",
       "        [  1.        ,  15.        ,  54.        ,   9.17892527,\n",
       "           1.        ],\n",
       "        [  1.        ,  15.        ,  57.        ,  14.39721513,\n",
       "           4.        ],\n",
       "        [  2.        ,  20.        ,  47.        ,   8.19234137,\n",
       "           6.        ]]])"
      ]
     },
     "execution_count": 31,
     "metadata": {},
     "output_type": "execute_result"
    }
   ],
   "source": [
    "lead_dataset"
   ]
  },
  {
   "cell_type": "markdown",
   "metadata": {},
   "source": [
    "<b>Removing values from ND Arrays"
   ]
  },
  {
   "cell_type": "code",
   "execution_count": 32,
   "metadata": {},
   "outputs": [],
   "source": [
    "#numpy.delete(array, object, axis = None)"
   ]
  },
  {
   "cell_type": "code",
   "execution_count": 41,
   "metadata": {},
   "outputs": [
    {
     "data": {
      "text/plain": [
       "(1000, 5)"
      ]
     },
     "execution_count": 41,
     "metadata": {},
     "output_type": "execute_result"
    }
   ],
   "source": [
    "lead_dataset=np.loadtxt(\"Test_Creation.csv\",delimiter=',')\n",
    "lead_dataset.shape"
   ]
  },
  {
   "cell_type": "code",
   "execution_count": 49,
   "metadata": {},
   "outputs": [
    {
     "data": {
      "text/plain": [
       "array([[ 2.        , 21.        , 47.        , 20.05945799,  2.        ],\n",
       "       [ 0.        , 21.        , 62.        , 10.58624666,  6.        ],\n",
       "       [ 1.        , 13.        , 50.        , 12.25758194,  2.        ],\n",
       "       ...,\n",
       "       [ 1.        , 15.        , 54.        ,  9.17892527,  1.        ],\n",
       "       [ 1.        , 15.        , 57.        , 14.39721513,  4.        ],\n",
       "       [ 2.        , 20.        , 47.        ,  8.19234137,  6.        ]])"
      ]
     },
     "execution_count": 49,
     "metadata": {},
     "output_type": "execute_result"
    }
   ],
   "source": [
    "lead_dataset"
   ]
  },
  {
   "cell_type": "code",
   "execution_count": 47,
   "metadata": {},
   "outputs": [
    {
     "data": {
      "text/plain": [
       "(4999,)"
      ]
     },
     "execution_count": 47,
     "metadata": {},
     "output_type": "execute_result"
    }
   ],
   "source": [
    "np.delete(lead_dataset, 1).shape #Delets and shows in Scalar Array"
   ]
  },
  {
   "cell_type": "code",
   "execution_count": 48,
   "metadata": {},
   "outputs": [
    {
     "data": {
      "text/plain": [
       "5000"
      ]
     },
     "execution_count": 48,
     "metadata": {},
     "output_type": "execute_result"
    }
   ],
   "source": [
    "lead_dataset.size"
   ]
  },
  {
   "cell_type": "code",
   "execution_count": 50,
   "metadata": {},
   "outputs": [
    {
     "data": {
      "text/plain": [
       "array([[ 0.        , 21.        , 62.        , 10.58624666,  6.        ],\n",
       "       [ 1.        , 13.        , 50.        , 12.25758194,  2.        ],\n",
       "       [ 1.        , 17.        , 53.        ,  7.8137595 ,  2.        ],\n",
       "       ...,\n",
       "       [ 1.        , 15.        , 54.        ,  9.17892527,  1.        ],\n",
       "       [ 1.        , 15.        , 57.        , 14.39721513,  4.        ],\n",
       "       [ 2.        , 20.        , 47.        ,  8.19234137,  6.        ]])"
      ]
     },
     "execution_count": 50,
     "metadata": {},
     "output_type": "execute_result"
    }
   ],
   "source": [
    " np.delete(lead_dataset,0,axis=0) #Deleted 1st Row"
   ]
  },
  {
   "cell_type": "code",
   "execution_count": 52,
   "metadata": {},
   "outputs": [
    {
     "data": {
      "text/plain": [
       "array([[21.        , 47.        , 20.05945799,  2.        ],\n",
       "       [21.        , 62.        , 10.58624666,  6.        ],\n",
       "       [13.        , 50.        , 12.25758194,  2.        ],\n",
       "       ...,\n",
       "       [15.        , 54.        ,  9.17892527,  1.        ],\n",
       "       [15.        , 57.        , 14.39721513,  4.        ],\n",
       "       [20.        , 47.        ,  8.19234137,  6.        ]])"
      ]
     },
     "execution_count": 52,
     "metadata": {},
     "output_type": "execute_result"
    }
   ],
   "source": [
    "np.delete(lead_dataset,0,axis=1) #Deleted 1st Column"
   ]
  },
  {
   "cell_type": "code",
   "execution_count": 55,
   "metadata": {},
   "outputs": [
    {
     "data": {
      "text/plain": [
       "array([[ 2.        , 21.        , 47.        , 20.05945799,  2.        ],\n",
       "       [ 0.        , 21.        , 62.        , 10.58624666,  6.        ],\n",
       "       [ 1.        , 17.        , 53.        ,  7.8137595 ,  2.        ],\n",
       "       ...,\n",
       "       [ 1.        , 15.        , 54.        ,  9.17892527,  1.        ],\n",
       "       [ 1.        , 15.        , 57.        , 14.39721513,  4.        ],\n",
       "       [ 2.        , 20.        , 47.        ,  8.19234137,  6.        ]])"
      ]
     },
     "execution_count": 55,
     "metadata": {},
     "output_type": "execute_result"
    }
   ],
   "source": [
    "np.delete(lead_dataset, [2,4,6], axis=0) #Deleted row 2,4,6"
   ]
  },
  {
   "cell_type": "code",
   "execution_count": 56,
   "metadata": {},
   "outputs": [
    {
     "data": {
      "text/plain": [
       "array([[21.        , 20.05945799,  2.        ],\n",
       "       [21.        , 10.58624666,  6.        ],\n",
       "       [17.        ,  7.8137595 ,  2.        ],\n",
       "       ...,\n",
       "       [15.        ,  9.17892527,  1.        ],\n",
       "       [15.        , 14.39721513,  4.        ],\n",
       "       [20.        ,  8.19234137,  6.        ]])"
      ]
     },
     "execution_count": 56,
     "metadata": {},
     "output_type": "execute_result"
    }
   ],
   "source": [
    "np.delete(np.delete(lead_dataset, (2,4,6), axis=0), [0,2], axis=1) #Double delete"
   ]
  },
  {
   "cell_type": "code",
   "execution_count": 35,
   "metadata": {},
   "outputs": [
    {
     "data": {
      "text/plain": [
       "(1000, 4)"
      ]
     },
     "execution_count": 35,
     "metadata": {},
     "output_type": "execute_result"
    }
   ],
   "source": [
    "lead_delete.shape"
   ]
  },
  {
   "cell_type": "markdown",
   "metadata": {},
   "source": [
    "<b>Sorting Arrays</b>"
   ]
  },
  {
   "cell_type": "code",
   "execution_count": 57,
   "metadata": {},
   "outputs": [
    {
     "data": {
      "text/plain": [
       "(1000, 5)"
      ]
     },
     "execution_count": 57,
     "metadata": {},
     "output_type": "execute_result"
    }
   ],
   "source": [
    "lead_dataset=np.loadtxt(\"Test_Creation.csv\",delimiter=',')\n",
    "lead_dataset.shape"
   ]
  },
  {
   "cell_type": "code",
   "execution_count": 58,
   "metadata": {},
   "outputs": [
    {
     "data": {
      "text/plain": [
       "array([[ 2.        ,  2.        , 20.05945799, 21.        , 47.        ],\n",
       "       [ 0.        ,  6.        , 10.58624666, 21.        , 62.        ],\n",
       "       [ 1.        ,  2.        , 12.25758194, 13.        , 50.        ],\n",
       "       ...,\n",
       "       [ 1.        ,  1.        ,  9.17892527, 15.        , 54.        ],\n",
       "       [ 1.        ,  4.        , 14.39721513, 15.        , 57.        ],\n",
       "       [ 2.        ,  6.        ,  8.19234137, 20.        , 47.        ]])"
      ]
     },
     "execution_count": 58,
     "metadata": {},
     "output_type": "execute_result"
    }
   ],
   "source": [
    "np.sort(lead_dataset) #Default rows in ascending order axis=-1"
   ]
  },
  {
   "cell_type": "code",
   "execution_count": 62,
   "metadata": {},
   "outputs": [
    {
     "data": {
      "text/plain": [
       "array([[  0.        ,   4.        ,  38.        , -19.68716184,\n",
       "          1.        ],\n",
       "       [  0.        ,   4.        ,  39.        , -15.82393876,\n",
       "          1.        ],\n",
       "       [  0.        ,   5.        ,  40.        , -13.53845836,\n",
       "          1.        ],\n",
       "       ...,\n",
       "       [  5.        ,  27.        ,  66.        ,  28.119642  ,\n",
       "          6.        ],\n",
       "       [  5.        ,  27.        ,  67.        ,  29.22529875,\n",
       "          6.        ],\n",
       "       [  5.        ,  30.        ,  69.        ,  30.90897045,\n",
       "          6.        ]])"
      ]
     },
     "execution_count": 62,
     "metadata": {},
     "output_type": "execute_result"
    }
   ],
   "source": [
    "np.sort(lead_dataset, axis=0) #Columns arranged also horizontally across columns (axis 1)."
   ]
  },
  {
   "cell_type": "code",
   "execution_count": 66,
   "metadata": {},
   "outputs": [
    {
     "data": {
      "text/plain": [
       "array([-19.68716184, -15.82393876, -13.53845836, ...,  66.        ,\n",
       "        67.        ,  69.        ])"
      ]
     },
     "execution_count": 66,
     "metadata": {},
     "output_type": "execute_result"
    }
   ],
   "source": [
    "np.sort(lead_dataset, axis=None) #1-D Array"
   ]
  },
  {
   "cell_type": "code",
   "execution_count": 63,
   "metadata": {},
   "outputs": [],
   "source": [
    "np.set_printoptions(suppress=True) #Removing the Scientifc Notations"
   ]
  },
  {
   "cell_type": "code",
   "execution_count": 68,
   "metadata": {},
   "outputs": [
    {
     "data": {
      "text/plain": [
       "array([[47.        , 21.        , 20.05945799,  2.        ,  2.        ],\n",
       "       [62.        , 21.        , 10.58624666,  6.        ,  0.        ],\n",
       "       [50.        , 13.        , 12.25758194,  2.        ,  1.        ],\n",
       "       ...,\n",
       "       [54.        , 15.        ,  9.17892527,  1.        ,  1.        ],\n",
       "       [57.        , 15.        , 14.39721513,  4.        ,  1.        ],\n",
       "       [47.        , 20.        ,  8.19234137,  6.        ,  2.        ]])"
      ]
     },
     "execution_count": 68,
     "metadata": {},
     "output_type": "execute_result"
    }
   ],
   "source": [
    "#Decreasing\n",
    "-np.sort(-lead_dataset) # The minus '-' sign changes to Decreasing"
   ]
  },
  {
   "cell_type": "code",
   "execution_count": 76,
   "metadata": {
    "collapsed": true
   },
   "outputs": [
    {
     "data": {
      "text/plain": [
       "array([0.        , 0.        , 0.        , 0.        , 0.        ,\n",
       "       0.        , 0.        , 0.        , 0.        , 0.        ,\n",
       "       0.        , 0.        , 0.        , 0.        , 0.        ,\n",
       "       0.        , 0.        , 0.        , 0.        , 0.        ,\n",
       "       0.        , 0.        , 0.        , 0.        , 0.        ,\n",
       "       0.04496207, 0.14746898, 0.54875454, 0.57910036, 0.67474388,\n",
       "       0.73724663, 1.        , 1.        , 1.        , 1.        ,\n",
       "       1.        , 1.        , 1.        , 1.        , 1.        ,\n",
       "       1.        , 1.        , 1.        , 1.        , 1.        ,\n",
       "       1.        , 1.        , 1.        , 1.        , 1.        ,\n",
       "       1.        , 1.        , 1.        , 1.        , 1.        ,\n",
       "       1.        , 1.        , 1.        , 1.        , 1.        ,\n",
       "       1.        , 1.        , 1.        , 1.        , 1.        ,\n",
       "       1.        , 1.        , 1.        , 1.        , 1.        ,\n",
       "       1.        , 1.        , 1.        , 1.        , 1.        ,\n",
       "       1.        , 1.        , 1.        , 1.        , 1.        ,\n",
       "       1.        , 1.        , 1.        , 1.        , 1.        ,\n",
       "       1.        , 1.        , 1.        , 1.        , 1.        ,\n",
       "       1.        , 1.        , 1.        , 1.        , 1.        ,\n",
       "       1.        , 1.        , 1.        , 1.        , 1.        ,\n",
       "       1.        , 1.        , 1.        , 1.        , 1.        ,\n",
       "       1.        , 1.        , 1.        , 1.        , 1.        ,\n",
       "       1.        , 1.        , 1.        , 1.        , 1.        ,\n",
       "       1.        , 1.        , 1.        , 1.        , 1.        ,\n",
       "       1.        , 1.        , 1.        , 1.        , 1.        ,\n",
       "       1.        , 1.        , 1.        , 1.        , 1.        ,\n",
       "       1.        , 1.        , 1.        , 1.        , 1.        ,\n",
       "       1.        , 1.        , 1.        , 1.        , 1.        ,\n",
       "       1.        , 1.        , 1.        , 1.        , 1.        ,\n",
       "       1.        , 1.        , 1.        , 1.        , 1.        ,\n",
       "       1.        , 1.        , 1.        , 1.        , 1.        ,\n",
       "       1.        , 1.        , 1.        , 1.        , 1.        ,\n",
       "       1.        , 1.        , 1.        , 1.        , 1.        ,\n",
       "       1.        , 1.        , 1.        , 1.        , 1.        ,\n",
       "       1.        , 1.        , 1.        , 1.        , 1.        ,\n",
       "       1.        , 1.        , 1.        , 1.        , 1.        ,\n",
       "       1.        , 1.        , 1.        , 1.        , 1.        ,\n",
       "       1.        , 1.        , 1.        , 1.        , 1.        ,\n",
       "       1.        , 1.        , 1.        , 1.        , 1.        ,\n",
       "       1.        , 1.        , 1.        , 1.        , 1.        ,\n",
       "       1.        , 1.        , 1.        , 1.        , 1.        ,\n",
       "       1.        , 1.        , 1.        , 1.        , 1.        ,\n",
       "       1.        , 1.        , 1.        , 1.        , 1.        ,\n",
       "       1.        , 1.        , 1.        , 1.        , 1.        ,\n",
       "       1.        , 1.        , 1.        , 1.05458806, 1.06807889,\n",
       "       1.12885125, 1.30464095, 1.31245787, 1.34601241, 1.38257381,\n",
       "       1.38551661, 1.42296666, 1.51810347, 1.67530134, 1.68176287,\n",
       "       1.70640441, 1.7625148 , 1.86574592, 1.89260192, 1.91084022,\n",
       "       1.92002568, 1.95119917, 1.96047593, 1.99989778, 2.        ,\n",
       "       2.        , 2.        , 2.        , 2.        , 2.        ,\n",
       "       2.        , 2.        , 2.        , 2.        , 2.        ,\n",
       "       2.        , 2.        , 2.        , 2.        , 2.        ,\n",
       "       2.        , 2.        , 2.        , 2.        , 2.        ,\n",
       "       2.        , 2.        , 2.        , 2.        , 2.        ,\n",
       "       2.        , 2.        , 2.        , 2.        , 2.        ,\n",
       "       2.        , 2.        , 2.        , 2.        , 2.        ,\n",
       "       2.        , 2.        , 2.        , 2.        , 2.        ,\n",
       "       2.        , 2.        , 2.        , 2.        , 2.        ,\n",
       "       2.        , 2.        , 2.        , 2.        , 2.        ,\n",
       "       2.        , 2.        , 2.        , 2.        , 2.        ,\n",
       "       2.        , 2.        , 2.        , 2.        , 2.        ,\n",
       "       2.        , 2.        , 2.        , 2.        , 2.        ,\n",
       "       2.        , 2.        , 2.        , 2.        , 2.        ,\n",
       "       2.        , 2.        , 2.        , 2.        , 2.        ,\n",
       "       2.        , 2.        , 2.        , 2.        , 2.        ,\n",
       "       2.        , 2.        , 2.        , 2.        , 2.        ,\n",
       "       2.        , 2.        , 2.        , 2.        , 2.        ,\n",
       "       2.        , 2.        , 2.        , 2.        , 2.        ,\n",
       "       2.        , 2.        , 2.        , 2.        , 2.        ,\n",
       "       2.        , 2.        , 2.        , 2.        , 2.        ,\n",
       "       2.        , 2.        , 2.        , 2.        , 2.        ,\n",
       "       2.        , 2.        , 2.        , 2.        , 2.        ,\n",
       "       2.        , 2.        , 2.        , 2.02853647, 2.12994392,\n",
       "       2.31141348, 2.32246288, 2.40069462, 2.41490879, 2.43818808,\n",
       "       2.47793026, 2.53506809, 2.55465489, 2.61427373, 2.63796736,\n",
       "       2.69144317, 2.98177464, 3.        , 3.        , 3.        ,\n",
       "       3.        , 3.        , 3.        , 3.        , 3.        ,\n",
       "       3.        , 3.        , 3.        , 3.        , 3.        ,\n",
       "       3.        , 3.048826  , 3.0704497 , 3.10260288, 3.24199098,\n",
       "       3.327746  , 3.4312304 , 3.48055781, 3.50306957, 3.50557033,\n",
       "       3.53842023, 3.58237321, 3.72165914, 3.72183559, 3.72449155,\n",
       "       3.78257598, 3.7899555 , 3.81095944, 3.81831364, 3.86350724,\n",
       "       3.93377704, 3.94797399, 3.9538022 , 4.        , 4.        ,\n",
       "       4.        , 4.        , 4.        , 4.        , 4.        ,\n",
       "       4.        , 4.        , 4.        , 4.        , 4.        ,\n",
       "       4.        , 4.        , 4.        , 4.        , 4.        ,\n",
       "       4.        , 4.        , 4.        , 4.        , 4.        ,\n",
       "       4.        , 4.        , 4.        , 4.        , 4.        ,\n",
       "       4.        , 4.        , 4.        , 4.        , 4.        ,\n",
       "       4.        , 4.        , 4.        , 4.        , 4.        ,\n",
       "       4.        , 4.        , 4.        , 4.        , 4.        ,\n",
       "       4.        , 4.        , 4.        , 4.        , 4.        ,\n",
       "       4.        , 4.        , 4.        , 4.        , 4.        ,\n",
       "       4.        , 4.        , 4.        , 4.        , 4.        ,\n",
       "       4.        , 4.        , 4.        , 4.        , 4.        ,\n",
       "       4.        , 4.        , 4.        , 4.        , 4.        ,\n",
       "       4.        , 4.        , 4.        , 4.        , 4.        ,\n",
       "       4.        , 4.        , 4.        , 4.        , 4.        ,\n",
       "       4.        , 4.        , 4.        , 4.        , 4.        ,\n",
       "       4.        , 4.        , 4.        , 4.        , 4.        ,\n",
       "       4.        , 4.        , 4.        , 4.        , 4.        ,\n",
       "       4.        , 4.        , 4.        , 4.        , 4.        ,\n",
       "       4.        , 4.        , 4.        , 4.        , 4.        ,\n",
       "       4.        , 4.        , 4.        , 4.        , 4.        ,\n",
       "       4.        , 4.        , 4.        , 4.        , 4.        ,\n",
       "       4.        , 4.        , 4.        , 4.        , 4.        ,\n",
       "       4.        , 4.        , 4.        , 4.        , 4.        ,\n",
       "       4.        , 4.        , 4.        , 4.        , 4.        ,\n",
       "       4.        , 4.        , 4.        , 4.        , 4.        ,\n",
       "       4.        , 4.        , 4.        , 4.        , 4.        ,\n",
       "       4.        , 4.        , 4.        , 4.        , 4.        ,\n",
       "       4.        , 4.        , 4.        , 4.        , 4.        ,\n",
       "       4.        , 4.        , 4.        , 4.        , 4.        ,\n",
       "       4.        , 4.        , 4.        , 4.        , 4.        ,\n",
       "       4.        , 4.        , 4.        , 4.        , 4.        ,\n",
       "       4.        , 4.        , 4.        , 4.        , 4.        ,\n",
       "       4.        , 4.        , 4.        , 4.        , 4.        ,\n",
       "       4.        , 4.        , 4.        , 4.        , 4.        ,\n",
       "       4.        , 4.        , 4.02466659, 4.03046427, 4.06244633,\n",
       "       4.16478541, 4.26452457, 4.31045325, 4.35133881, 4.36079947,\n",
       "       4.49670178, 4.51718247, 4.59703971, 4.64081485, 4.69026195,\n",
       "       4.80306145, 4.80702877, 4.92609105, 5.        , 5.        ,\n",
       "       5.        , 5.        , 5.        , 5.        , 5.        ,\n",
       "       5.        , 5.        , 5.        , 5.        , 5.        ,\n",
       "       5.        , 5.        , 5.        , 5.        , 5.        ,\n",
       "       5.        , 5.        , 5.        , 5.        , 5.        ,\n",
       "       5.        , 5.        , 5.        , 5.        , 5.        ,\n",
       "       5.        , 5.        , 5.        , 5.        , 5.        ,\n",
       "       5.        , 5.        , 5.        , 5.        , 5.        ,\n",
       "       5.        , 5.        , 5.        , 5.        , 5.        ,\n",
       "       5.        , 5.        , 5.        , 5.        , 5.        ,\n",
       "       5.        , 5.        , 5.        , 5.        , 5.        ,\n",
       "       5.        , 5.        , 5.        , 5.        , 5.        ,\n",
       "       5.        , 5.        , 5.        , 5.        , 5.        ,\n",
       "       5.        , 5.        , 5.        , 5.        , 5.        ,\n",
       "       5.        , 5.        , 5.        , 5.        , 5.        ,\n",
       "       5.        , 5.        , 5.        , 5.        , 5.        ,\n",
       "       5.        , 5.        , 5.        , 5.        , 5.        ,\n",
       "       5.        , 5.        , 5.        , 5.        , 5.        ,\n",
       "       5.        , 5.        , 5.        , 5.        , 5.        ,\n",
       "       5.        , 5.        , 5.        , 5.        , 5.        ,\n",
       "       5.        , 5.        , 5.        , 5.        , 5.        ,\n",
       "       5.        , 5.        , 5.        , 5.        , 5.        ,\n",
       "       5.        , 5.        , 5.        , 5.        , 5.        ,\n",
       "       5.        , 5.        , 5.        , 5.        , 5.        ,\n",
       "       5.        , 5.        , 5.        , 5.        , 5.        ,\n",
       "       5.        , 5.        , 5.        , 5.        , 5.        ,\n",
       "       5.        , 5.        , 5.        , 5.        , 5.        ,\n",
       "       5.        , 5.        , 5.        , 5.        , 5.        ,\n",
       "       5.        , 5.        , 5.        , 5.        , 5.        ,\n",
       "       5.        , 5.        , 5.        , 5.        , 5.        ,\n",
       "       5.        , 5.        , 5.        , 5.        , 5.05089375,\n",
       "       5.13634711, 5.18309581, 5.20747653, 5.27579679, 5.30790532,\n",
       "       5.34378611, 5.38362998, 5.39736376, 5.42755618, 5.69906831,\n",
       "       5.903774  , 5.9694975 , 5.99235147, 6.        , 6.        ,\n",
       "       6.        , 6.        , 6.        , 6.        , 6.        ,\n",
       "       6.        , 6.        , 6.        , 6.        , 6.        ,\n",
       "       6.        , 6.        , 6.        , 6.        , 6.        ,\n",
       "       6.        , 6.        , 6.        , 6.        , 6.        ,\n",
       "       6.        , 6.        , 6.        , 6.        , 6.        ,\n",
       "       6.        , 6.        , 6.        , 6.        , 6.        ,\n",
       "       6.        , 6.        , 6.        , 6.        , 6.        ,\n",
       "       6.        , 6.        , 6.        , 6.        , 6.        ,\n",
       "       6.        , 6.        , 6.        , 6.        , 6.        ,\n",
       "       6.        , 6.        , 6.        , 6.        , 6.        ,\n",
       "       6.        , 6.        , 6.        , 6.        , 6.        ,\n",
       "       6.        , 6.        , 6.        , 6.        , 6.        ,\n",
       "       6.        , 6.        , 6.        , 6.        , 6.        ,\n",
       "       6.        , 6.        , 6.        , 6.        , 6.        ,\n",
       "       6.        , 6.        , 6.        , 6.        , 6.        ,\n",
       "       6.        , 6.        , 6.        , 6.        , 6.        ,\n",
       "       6.        , 6.        , 6.        , 6.        , 6.        ,\n",
       "       6.        , 6.        , 6.        , 6.        , 6.        ,\n",
       "       6.        , 6.        , 6.        , 6.        , 6.        ,\n",
       "       6.        , 6.        , 6.        , 6.        , 6.        ,\n",
       "       6.        , 6.        , 6.        , 6.        , 6.        ,\n",
       "       6.        , 6.        , 6.        , 6.        , 6.        ,\n",
       "       6.        , 6.        , 6.        , 6.        , 6.        ,\n",
       "       6.        , 6.        , 6.        , 6.        , 6.        ,\n",
       "       6.        , 6.        , 6.        , 6.        , 6.        ,\n",
       "       6.        , 6.        , 6.        , 6.        , 6.        ,\n",
       "       6.        , 6.        , 6.        , 6.        , 6.        ,\n",
       "       6.        , 6.        , 6.        , 6.        , 6.        ,\n",
       "       6.        , 6.        , 6.        , 6.        , 6.        ,\n",
       "       6.        , 6.        , 6.        , 6.        , 6.        ,\n",
       "       6.        , 6.        , 6.        , 6.        , 6.        ,\n",
       "       6.        , 6.        , 6.        , 6.        , 6.        ,\n",
       "       6.        , 6.        , 6.        , 6.        , 6.        ,\n",
       "       6.        , 6.        , 6.        , 6.        , 6.        ,\n",
       "       6.        , 6.        , 6.        , 6.        , 6.        ,\n",
       "       6.        , 6.        , 6.        , 6.        , 6.        ,\n",
       "       6.        , 6.        , 6.        , 6.        , 6.        ,\n",
       "       6.        , 6.        , 6.        , 6.        , 6.        ,\n",
       "       6.        , 6.        , 6.        , 6.        , 6.        ,\n",
       "       6.        , 6.        , 6.        , 6.        , 6.        ,\n",
       "       6.        , 6.        , 6.        , 6.        , 6.        ,\n",
       "       6.        , 6.        , 6.        , 6.        , 6.        ,\n",
       "       6.        , 6.        , 6.        , 6.        , 6.        ,\n",
       "       6.        , 6.        , 6.        , 6.        , 6.        ,\n",
       "       6.        , 6.        , 6.        , 6.        , 6.        ])"
      ]
     },
     "execution_count": 76,
     "metadata": {},
     "output_type": "execute_result"
    }
   ],
   "source": [
    "np.sort(lead_dataset[:,1])"
   ]
  },
  {
   "cell_type": "code",
   "execution_count": 74,
   "metadata": {},
   "outputs": [],
   "source": [
    "lead_dataset.sort(axis=0)"
   ]
  },
  {
   "cell_type": "markdown",
   "metadata": {},
   "source": [
    "<b><h2>Argument Functions</h2></b>"
   ]
  },
  {
   "cell_type": "markdown",
   "metadata": {},
   "source": [
    "<b>ArgumentSort np.argsort</b>"
   ]
  },
  {
   "cell_type": "code",
   "execution_count": 81,
   "metadata": {},
   "outputs": [
    {
     "data": {
      "text/plain": [
       "array([[ 2.        , 21.        , 47.        , 20.05945799,  2.        ],\n",
       "       [ 0.        , 21.        , 62.        , 10.58624666,  6.        ],\n",
       "       [ 1.        , 13.        , 50.        , 12.25758194,  2.        ],\n",
       "       ...,\n",
       "       [ 1.        , 15.        , 54.        ,  9.17892527,  1.        ],\n",
       "       [ 1.        , 15.        , 57.        , 14.39721513,  4.        ],\n",
       "       [ 2.        , 20.        , 47.        ,  8.19234137,  6.        ]])"
      ]
     },
     "execution_count": 81,
     "metadata": {},
     "output_type": "execute_result"
    }
   ],
   "source": [
    "lead_dataset=np.loadtxt(\"Test_Creation.csv\",delimiter=',')\n",
    "lead_dataset"
   ]
  },
  {
   "cell_type": "code",
   "execution_count": 83,
   "metadata": {},
   "outputs": [
    {
     "data": {
      "text/plain": [
       "array([[0, 4, 3, 1, 2],\n",
       "       [0, 4, 3, 1, 2],\n",
       "       [0, 4, 3, 1, 2],\n",
       "       ...,\n",
       "       [0, 4, 3, 1, 2],\n",
       "       [0, 4, 3, 1, 2],\n",
       "       [0, 4, 3, 1, 2]], dtype=int64)"
      ]
     },
     "execution_count": 83,
     "metadata": {},
     "output_type": "execute_result"
    }
   ],
   "source": [
    "np.argsort(lead_dataset) #This is giving index after sorting"
   ]
  },
  {
   "cell_type": "code",
   "execution_count": 80,
   "metadata": {},
   "outputs": [
    {
     "data": {
      "text/plain": [
       "array([[ 2.        ,  2.        , 20.05945799, 21.        , 47.        ],\n",
       "       [ 0.        ,  6.        , 10.58624666, 21.        , 62.        ],\n",
       "       [ 1.        ,  2.        , 12.25758194, 13.        , 50.        ],\n",
       "       ...,\n",
       "       [ 1.        ,  1.        ,  9.17892527, 15.        , 54.        ],\n",
       "       [ 1.        ,  4.        , 14.39721513, 15.        , 57.        ],\n",
       "       [ 2.        ,  6.        ,  8.19234137, 20.        , 47.        ]])"
      ]
     },
     "execution_count": 80,
     "metadata": {},
     "output_type": "execute_result"
    }
   ],
   "source": [
    "np.sort(lead_dataset)"
   ]
  },
  {
   "cell_type": "code",
   "execution_count": 84,
   "metadata": {},
   "outputs": [
    {
     "data": {
      "text/plain": [
       "array([[499, 319, 939, 440, 499],\n",
       "       [435, 897, 261,   8, 524],\n",
       "       [879, 923, 708, 844, 165],\n",
       "       ...,\n",
       "       [110, 597, 412,   5, 605],\n",
       "       [433, 976, 346, 155, 628],\n",
       "       [509, 917, 606, 549, 999]], dtype=int64)"
      ]
     },
     "execution_count": 84,
     "metadata": {},
     "output_type": "execute_result"
    }
   ],
   "source": [
    "np.argsort(lead_dataset, axis=0) #Index after sorting in Vertically "
   ]
  },
  {
   "cell_type": "code",
   "execution_count": 86,
   "metadata": {},
   "outputs": [
    {
     "data": {
      "text/plain": [
       "1.0"
      ]
     },
     "execution_count": 86,
     "metadata": {},
     "output_type": "execute_result"
    }
   ],
   "source": [
    "#Verification we get it\n",
    "lead_dataset[499,4]"
   ]
  },
  {
   "cell_type": "code",
   "execution_count": 87,
   "metadata": {
    "collapsed": true
   },
   "outputs": [
    {
     "data": {
      "text/plain": [
       "array([939, 261, 708, 962, 157, 954, 913, 344, 609, 554, 815, 351, 629,\n",
       "       866, 656, 463, 387, 799, 698, 584, 271, 494, 101, 430, 335, 289,\n",
       "       305, 245, 142, 323, 610, 459, 326, 571, 895, 714, 958,  11, 870,\n",
       "       771, 776, 864, 255, 947,  59, 316, 227, 207, 340, 349, 827, 818,\n",
       "       177, 728, 107, 720, 608, 134, 253, 961, 196, 980, 209, 155, 145,\n",
       "       985, 239, 689, 936, 639, 877, 338, 791, 476, 732, 556, 568, 579,\n",
       "       697, 248,   0, 999,  57, 514, 937, 331, 333, 153, 722, 543, 228,\n",
       "       225, 535, 533, 695, 746, 905, 348, 516, 181, 809, 817, 500, 171,\n",
       "       878,  14,  13, 524, 945, 398, 567, 616, 296, 409, 594, 593, 314,\n",
       "       647, 427, 653, 650, 481, 570, 439,  56, 613, 855, 696, 247, 814,\n",
       "       179, 710, 587, 805, 503, 790, 318, 667, 768, 583,  32, 342, 672,\n",
       "       740, 279, 337, 744, 265, 758, 694, 763,  39, 767, 745, 283, 604,\n",
       "       431,  88, 474,  83, 900, 150, 384, 977, 951, 393, 148, 499, 912,\n",
       "       104, 217, 267, 470, 127, 471, 901, 671, 582, 754, 677, 460, 124,\n",
       "       709, 442, 252, 930, 237,  42, 447,  65, 727,  79, 395, 960, 682,\n",
       "       578, 100, 681, 350, 968, 938, 889, 592, 170, 640, 992, 600,   2,\n",
       "       996, 281, 301, 802, 475, 151, 355, 607, 352, 786, 303, 174, 304,\n",
       "       311, 950, 619, 298, 401, 599, 310, 565, 259, 970, 278, 972, 967,\n",
       "       435, 975, 983, 673, 675, 676, 284,  91,  90, 320,   4, 288, 875,\n",
       "       702, 784, 899, 306, 414, 510, 188, 798, 803, 896, 807, 200, 362,\n",
       "       365, 496, 850, 493, 858, 491, 161, 868, 375, 871, 144, 523, 729,\n",
       "       773,  25, 716,  81, 916, 731, 400, 873, 469, 214, 705, 759, 760,\n",
       "        70, 132, 934, 780, 391, 557, 369,  43, 497, 415, 498, 478, 477,\n",
       "       339, 379, 380, 466,  49, 530, 356, 367, 319, 413, 295, 118, 230,\n",
       "       730, 853, 735, 737, 925, 123, 201, 199, 126, 194,  21, 908, 139,\n",
       "       189, 182, 894,  18, 822, 890, 721, 718, 120, 242, 668, 630, 268,\n",
       "       262, 969, 628, 258, 685, 989, 112,  95,  31,  66, 632, 274, 898,\n",
       "        48, 892, 882, 872, 869, 981, 902, 909,   3,   6, 445, 910, 944,\n",
       "        46, 454, 927, 449, 928, 931, 446, 907, 485, 505, 863, 541,  24,\n",
       "       552, 724, 713, 690, 572, 660, 652, 645, 637, 591, 636, 634, 625,\n",
       "       734, 534, 743, 753, 844, 843, 842, 837, 819, 502, 624, 490, 508,\n",
       "       797, 792, 789, 788, 518, 772, 762, 509, 701, 540, 313, 332, 293,\n",
       "       402, 167, 285, 211, 116,  80,  53, 341, 219, 297,  62, 204,  52,\n",
       "       173, 240,  84, 354, 321,  86, 397, 110,  69, 382, 114, 824, 576,\n",
       "       569,  17, 573, 585, 176, 411, 558, 511, 515, 517,  50, 884, 520,\n",
       "       883, 522, 149, 527, 537, 860, 812, 849, 841, 834, 546, 795, 808,\n",
       "       651, 657, 741, 670, 270, 738, 223, 684, 231, 688, 250, 249,  30,\n",
       "       715, 704, 215, 644, 210, 766, 183, 184, 185, 187, 143, 785,  22,\n",
       "       312, 775, 294, 626, 627,  23, 633, 205,  33, 623, 138, 838, 241,\n",
       "       437, 956, 106, 128, 504,  93, 461, 982, 492, 464, 130,  44, 465,\n",
       "       943,  78, 904, 997, 988, 419, 906, 580, 581, 109, 392, 620, 300,\n",
       "        38, 787, 586, 941, 801, 605, 307, 942, 105, 389, 590, 388, 794,\n",
       "       638, 748, 765, 990, 246, 238, 719,  26, 254, 423, 686, 986, 733,\n",
       "       260, 679,  63, 263, 736, 979, 976,  94, 663,  96, 273, 324, 749,\n",
       "        97, 213, 441,  19,  20, 361, 887, 487,  54, 559, 840, 861,  55,\n",
       "       347, 164, 563, 929, 137, 152, 484, 133,  75, 532, 538,  15, 377,\n",
       "       154, 328, 935, 987,   9, 291,  61, 208, 885, 422, 919, 903, 854,\n",
       "       725, 440, 280, 649, 852, 751, 125, 216, 275, 658, 224, 539, 661,\n",
       "       664, 665, 742, 526, 965, 920, 691, 953, 835, 309, 598, 806, 893,\n",
       "       315, 141, 364, 479, 416, 317, 115, 244, 178, 381, 712,  27, 602,\n",
       "       363, 891, 952, 451, 949, 336, 622, 948,  28, 779, 456, 198, 457,\n",
       "       458, 111, 418, 674, 234, 723, 235, 876, 897, 874, 229, 113,  92,\n",
       "       169, 793, 924, 121, 119, 804, 202, 833, 180, 811, 825,   8, 820,\n",
       "       175, 828, 222, 777, 203, 158, 739, 911, 867, 218, 971, 845, 915,\n",
       "       102, 859, 103, 206, 769, 959, 964, 140, 706, 687, 683, 322, 325,\n",
       "       555, 404,  41, 266, 269,  34, 292, 631, 424, 525, 531, 438, 617,\n",
       "       386, 635, 611, 506,  64, 286, 998, 366,  58, 564, 359,  60, 462,\n",
       "       561, 488, 703, 486, 836, 839, 816, 821, 966, 813, 589, 186, 433,\n",
       "        37, 796,  36, 329, 846, 468, 452, 918, 489, 914, 372, 371, 131,\n",
       "       368, 136, 507,  77, 376, 512,  76, 550, 480, 378, 932, 880,  51,\n",
       "       385, 160, 343,  16, 162, 467,   7, 453, 165, 513, 974, 922, 662,\n",
       "       750, 256, 232, 978, 648, 782, 420, 747,  85, 426, 251, 783, 614,\n",
       "       764, 993, 755, 272, 299, 408, 212, 236, 417, 159, 345, 455, 984,\n",
       "        47, 243, 756, 757, 536, 542, 886, 528, 410, 994,  68, 717, 700,\n",
       "       495, 501, 360, 726, 991, 358, 257, 221, 933, 666, 383, 847,  82,\n",
       "       603,  40, 566, 436, 601, 810, 800, 832,  99, 641, 770, 403, 963,\n",
       "       615, 560, 334, 778,  72,  35, 399, 428, 197, 774, 926,  98, 595,\n",
       "       226, 597, 521, 135, 693, 680, 370, 429, 699, 373,  10, 406, 917,\n",
       "       405, 308, 146, 191, 287, 193, 544, 330, 851, 277, 831, 264, 421,\n",
       "       290, 659,  89, 473,  87, 220, 448, 574, 575, 577, 643, 669, 117,\n",
       "        73, 642, 432, 108, 483, 425, 434, 407,  45, 396, 122, 955, 711,\n",
       "       156, 168, 166, 549, 548, 856, 857, 596, 862, 195, 551,  71, 761,\n",
       "       848, 879, 881, 707, 692, 282, 519, 655, 646, 654, 276, 327, 829,\n",
       "       588,   1, 612, 781, 752, 923, 547, 357, 374, 940, 529, 147, 946,\n",
       "       482,  74, 163, 390, 621, 865, 192, 472, 553,  12, 233, 129, 957,\n",
       "       618, 678,  29, 995, 353, 302, 562, 190, 444, 826, 394,   5,  67,\n",
       "       921, 172, 443, 823, 545, 973, 830, 888, 450, 412, 346, 606],\n",
       "      dtype=int64)"
      ]
     },
     "execution_count": 87,
     "metadata": {},
     "output_type": "execute_result"
    }
   ],
   "source": [
    "#We can get it more simpler\n",
    "np.argsort(lead_dataset[:,2]) #Sorting in one column only"
   ]
  },
  {
   "cell_type": "code",
   "execution_count": 89,
   "metadata": {},
   "outputs": [
    {
     "data": {
      "text/plain": [
       "array([[499, 319, 939, 440, 499],\n",
       "       [435, 897, 261,   8, 524],\n",
       "       [879, 923, 708, 844, 165],\n",
       "       ...,\n",
       "       [110, 597, 412,   5, 605],\n",
       "       [433, 976, 346, 155, 628],\n",
       "       [509, 917, 606, 549, 999]], dtype=int64)"
      ]
     },
     "execution_count": 89,
     "metadata": {},
     "output_type": "execute_result"
    }
   ],
   "source": [
    "lead_dataset.argsort(axis=0)"
   ]
  },
  {
   "cell_type": "code",
   "execution_count": null,
   "metadata": {},
   "outputs": [],
   "source": [
    "#It does not overwrite the original array only for testing"
   ]
  },
  {
   "cell_type": "markdown",
   "metadata": {},
   "source": [
    "<b>np.argwhere()</b>"
   ]
  },
  {
   "cell_type": "code",
   "execution_count": null,
   "metadata": {},
   "outputs": [],
   "source": [
    "#To check element we need, helping in getting coordinates [i,j]"
   ]
  },
  {
   "cell_type": "code",
   "execution_count": 90,
   "metadata": {},
   "outputs": [
    {
     "data": {
      "text/plain": [
       "array([[ 2.        , 21.        , 47.        , 20.05945799,  2.        ],\n",
       "       [ 0.        , 21.        , 62.        , 10.58624666,  6.        ],\n",
       "       [ 1.        , 13.        , 50.        , 12.25758194,  2.        ],\n",
       "       ...,\n",
       "       [ 1.        , 15.        , 54.        ,  9.17892527,  1.        ],\n",
       "       [ 1.        , 15.        , 57.        , 14.39721513,  4.        ],\n",
       "       [ 2.        , 20.        , 47.        ,  8.19234137,  6.        ]])"
      ]
     },
     "execution_count": 90,
     "metadata": {},
     "output_type": "execute_result"
    }
   ],
   "source": [
    "lead_dataset=np.loadtxt(\"Test_Creation.csv\",delimiter=',')\n",
    "lead_dataset"
   ]
  },
  {
   "cell_type": "code",
   "execution_count": 91,
   "metadata": {},
   "outputs": [
    {
     "data": {
      "text/plain": [
       "array([[  0,   0],\n",
       "       [  0,   1],\n",
       "       [  0,   2],\n",
       "       ...,\n",
       "       [999,   2],\n",
       "       [999,   3],\n",
       "       [999,   4]], dtype=int64)"
      ]
     },
     "execution_count": 91,
     "metadata": {},
     "output_type": "execute_result"
    }
   ],
   "source": [
    "np.argwhere(lead_dataset) #Checks individual element satisfy condition | (i,j) Location given here\n",
    "#The default condition is to check values different from zero"
   ]
  },
  {
   "cell_type": "code",
   "execution_count": 92,
   "metadata": {
    "collapsed": true
   },
   "outputs": [
    {
     "data": {
      "text/plain": [
       "array([[  1,   0],\n",
       "       [  7,   0],\n",
       "       [ 14,   0],\n",
       "       [ 15,   0],\n",
       "       [ 17,   0],\n",
       "       [ 20,   0],\n",
       "       [ 22,   0],\n",
       "       [ 23,   0],\n",
       "       [ 26,   0],\n",
       "       [ 29,   0],\n",
       "       [ 30,   0],\n",
       "       [ 31,   0],\n",
       "       [ 32,   0],\n",
       "       [ 33,   0],\n",
       "       [ 39,   0],\n",
       "       [ 41,   0],\n",
       "       [ 47,   0],\n",
       "       [ 48,   0],\n",
       "       [ 50,   0],\n",
       "       [ 51,   0],\n",
       "       [ 54,   0],\n",
       "       [ 56,   0],\n",
       "       [ 57,   0],\n",
       "       [ 58,   0],\n",
       "       [ 59,   0],\n",
       "       [ 62,   0],\n",
       "       [ 63,   0],\n",
       "       [ 66,   0],\n",
       "       [ 67,   0],\n",
       "       [ 68,   0],\n",
       "       [ 69,   0],\n",
       "       [ 72,   0],\n",
       "       [ 74,   0],\n",
       "       [ 76,   0],\n",
       "       [ 77,   0],\n",
       "       [ 81,   0],\n",
       "       [ 82,   0],\n",
       "       [ 84,   0],\n",
       "       [ 85,   0],\n",
       "       [ 89,   0],\n",
       "       [ 90,   0],\n",
       "       [ 91,   0],\n",
       "       [ 95,   0],\n",
       "       [ 96,   0],\n",
       "       [ 98,   0],\n",
       "       [ 99,   0],\n",
       "       [100,   0],\n",
       "       [101,   0],\n",
       "       [102,   0],\n",
       "       [103,   0],\n",
       "       [105,   0],\n",
       "       [107,   0],\n",
       "       [111,   0],\n",
       "       [113,   0],\n",
       "       [115,   0],\n",
       "       [121,   0],\n",
       "       [125,   0],\n",
       "       [128,   0],\n",
       "       [131,   0],\n",
       "       [135,   0],\n",
       "       [136,   0],\n",
       "       [137,   0],\n",
       "       [139,   0],\n",
       "       [142,   0],\n",
       "       [146,   0],\n",
       "       [156,   0],\n",
       "       [157,   0],\n",
       "       [159,   0],\n",
       "       [161,   0],\n",
       "       [165,   0],\n",
       "       [179,   0],\n",
       "       [181,   0],\n",
       "       [182,   0],\n",
       "       [183,   0],\n",
       "       [185,   0],\n",
       "       [187,   0],\n",
       "       [190,   0],\n",
       "       [195,   0],\n",
       "       [199,   0],\n",
       "       [204,   0],\n",
       "       [214,   0],\n",
       "       [218,   0],\n",
       "       [220,   0],\n",
       "       [221,   0],\n",
       "       [224,   0],\n",
       "       [225,   0],\n",
       "       [227,   0],\n",
       "       [228,   0],\n",
       "       [230,   0],\n",
       "       [231,   0],\n",
       "       [232,   0],\n",
       "       [236,   0],\n",
       "       [237,   0],\n",
       "       [238,   0],\n",
       "       [240,   0],\n",
       "       [243,   0],\n",
       "       [246,   0],\n",
       "       [251,   0],\n",
       "       [257,   0],\n",
       "       [259,   0],\n",
       "       [260,   0],\n",
       "       [261,   0],\n",
       "       [262,   0],\n",
       "       [268,   0],\n",
       "       [270,   0],\n",
       "       [271,   0],\n",
       "       [274,   0],\n",
       "       [275,   0],\n",
       "       [276,   0],\n",
       "       [277,   0],\n",
       "       [279,   0],\n",
       "       [280,   0],\n",
       "       [281,   0],\n",
       "       [283,   0],\n",
       "       [284,   0],\n",
       "       [290,   0],\n",
       "       [293,   0],\n",
       "       [294,   0],\n",
       "       [295,   0],\n",
       "       [298,   0],\n",
       "       [299,   0],\n",
       "       [303,   0],\n",
       "       [304,   0],\n",
       "       [307,   0],\n",
       "       [309,   0],\n",
       "       [311,   0],\n",
       "       [313,   0],\n",
       "       [316,   0],\n",
       "       [319,   0],\n",
       "       [320,   0],\n",
       "       [321,   0],\n",
       "       [327,   0],\n",
       "       [332,   0],\n",
       "       [337,   0],\n",
       "       [340,   0],\n",
       "       [341,   0],\n",
       "       [343,   0],\n",
       "       [344,   0],\n",
       "       [349,   0],\n",
       "       [354,   0],\n",
       "       [358,   0],\n",
       "       [359,   0],\n",
       "       [361,   0],\n",
       "       [366,   0],\n",
       "       [368,   0],\n",
       "       [371,   0],\n",
       "       [373,   0],\n",
       "       [375,   0],\n",
       "       [379,   0],\n",
       "       [380,   0],\n",
       "       [382,   0],\n",
       "       [383,   0],\n",
       "       [385,   0],\n",
       "       [388,   0],\n",
       "       [391,   0],\n",
       "       [392,   0],\n",
       "       [393,   0],\n",
       "       [394,   0],\n",
       "       [395,   0],\n",
       "       [398,   0],\n",
       "       [399,   0],\n",
       "       [401,   0],\n",
       "       [404,   0],\n",
       "       [409,   0],\n",
       "       [410,   0],\n",
       "       [411,   0],\n",
       "       [419,   0],\n",
       "       [421,   0],\n",
       "       [422,   0],\n",
       "       [425,   0],\n",
       "       [429,   0],\n",
       "       [430,   0],\n",
       "       [435,   0],\n",
       "       [438,   0],\n",
       "       [440,   0],\n",
       "       [441,   0],\n",
       "       [446,   0],\n",
       "       [447,   0],\n",
       "       [449,   0],\n",
       "       [450,   0],\n",
       "       [452,   0],\n",
       "       [460,   0],\n",
       "       [461,   0],\n",
       "       [466,   0],\n",
       "       [469,   0],\n",
       "       [470,   0],\n",
       "       [471,   0],\n",
       "       [472,   0],\n",
       "       [473,   0],\n",
       "       [474,   0],\n",
       "       [477,   0],\n",
       "       [480,   0],\n",
       "       [481,   0],\n",
       "       [483,   0],\n",
       "       [486,   0],\n",
       "       [487,   0],\n",
       "       [491,   0],\n",
       "       [499,   0],\n",
       "       [500,   0],\n",
       "       [502,   0],\n",
       "       [506,   0],\n",
       "       [516,   0],\n",
       "       [517,   0],\n",
       "       [518,   0],\n",
       "       [519,   0],\n",
       "       [524,   0],\n",
       "       [527,   0],\n",
       "       [530,   0],\n",
       "       [531,   0],\n",
       "       [532,   0],\n",
       "       [533,   0],\n",
       "       [534,   0],\n",
       "       [535,   0],\n",
       "       [536,   0],\n",
       "       [542,   0],\n",
       "       [545,   0],\n",
       "       [546,   0],\n",
       "       [547,   0],\n",
       "       [548,   0],\n",
       "       [551,   0],\n",
       "       [552,   0],\n",
       "       [553,   0],\n",
       "       [557,   0],\n",
       "       [559,   0],\n",
       "       [561,   0],\n",
       "       [567,   0],\n",
       "       [575,   0],\n",
       "       [579,   0],\n",
       "       [580,   0],\n",
       "       [582,   0],\n",
       "       [584,   0],\n",
       "       [585,   0],\n",
       "       [589,   0],\n",
       "       [598,   0],\n",
       "       [599,   0],\n",
       "       [600,   0],\n",
       "       [602,   0],\n",
       "       [603,   0],\n",
       "       [604,   0],\n",
       "       [611,   0],\n",
       "       [614,   0],\n",
       "       [616,   0],\n",
       "       [628,   0],\n",
       "       [630,   0],\n",
       "       [631,   0],\n",
       "       [633,   0],\n",
       "       [634,   0],\n",
       "       [637,   0],\n",
       "       [638,   0],\n",
       "       [642,   0],\n",
       "       [648,   0],\n",
       "       [651,   0],\n",
       "       [657,   0],\n",
       "       [658,   0],\n",
       "       [661,   0],\n",
       "       [664,   0],\n",
       "       [670,   0],\n",
       "       [672,   0],\n",
       "       [679,   0],\n",
       "       [682,   0],\n",
       "       [685,   0],\n",
       "       [689,   0],\n",
       "       [690,   0],\n",
       "       [692,   0],\n",
       "       [694,   0],\n",
       "       [698,   0],\n",
       "       [699,   0],\n",
       "       [700,   0],\n",
       "       [701,   0],\n",
       "       [702,   0],\n",
       "       [703,   0],\n",
       "       [704,   0],\n",
       "       [707,   0],\n",
       "       [713,   0],\n",
       "       [716,   0],\n",
       "       [721,   0],\n",
       "       [722,   0],\n",
       "       [726,   0],\n",
       "       [730,   0],\n",
       "       [731,   0],\n",
       "       [734,   0],\n",
       "       [738,   0],\n",
       "       [744,   0],\n",
       "       [745,   0],\n",
       "       [746,   0],\n",
       "       [747,   0],\n",
       "       [755,   0],\n",
       "       [757,   0],\n",
       "       [758,   0],\n",
       "       [759,   0],\n",
       "       [760,   0],\n",
       "       [764,   0],\n",
       "       [769,   0],\n",
       "       [775,   0],\n",
       "       [778,   0],\n",
       "       [781,   0],\n",
       "       [785,   0],\n",
       "       [786,   0],\n",
       "       [787,   0],\n",
       "       [788,   0],\n",
       "       [791,   0],\n",
       "       [794,   0],\n",
       "       [799,   0],\n",
       "       [805,   0],\n",
       "       [813,   0],\n",
       "       [814,   0],\n",
       "       [817,   0],\n",
       "       [818,   0],\n",
       "       [819,   0],\n",
       "       [822,   0],\n",
       "       [826,   0],\n",
       "       [827,   0],\n",
       "       [829,   0],\n",
       "       [835,   0],\n",
       "       [837,   0],\n",
       "       [839,   0],\n",
       "       [840,   0],\n",
       "       [841,   0],\n",
       "       [844,   0],\n",
       "       [847,   0],\n",
       "       [848,   0],\n",
       "       [849,   0],\n",
       "       [850,   0],\n",
       "       [854,   0],\n",
       "       [857,   0],\n",
       "       [858,   0],\n",
       "       [859,   0],\n",
       "       [867,   0],\n",
       "       [868,   0],\n",
       "       [870,   0],\n",
       "       [871,   0],\n",
       "       [872,   0],\n",
       "       [873,   0],\n",
       "       [876,   0],\n",
       "       [879,   0],\n",
       "       [881,   0],\n",
       "       [882,   0],\n",
       "       [884,   0],\n",
       "       [885,   0],\n",
       "       [889,   0],\n",
       "       [890,   0],\n",
       "       [891,   0],\n",
       "       [894,   0],\n",
       "       [900,   0],\n",
       "       [902,   0],\n",
       "       [906,   0],\n",
       "       [908,   0],\n",
       "       [910,   0],\n",
       "       [912,   0],\n",
       "       [918,   0],\n",
       "       [919,   0],\n",
       "       [925,   0],\n",
       "       [930,   0],\n",
       "       [934,   0],\n",
       "       [936,   0],\n",
       "       [938,   0],\n",
       "       [939,   0],\n",
       "       [944,   0],\n",
       "       [945,   0],\n",
       "       [949,   0],\n",
       "       [950,   0],\n",
       "       [952,   0],\n",
       "       [958,   0],\n",
       "       [959,   0],\n",
       "       [960,   0],\n",
       "       [961,   0],\n",
       "       [962,   0],\n",
       "       [964,   0],\n",
       "       [967,   0],\n",
       "       [968,   0],\n",
       "       [970,   0],\n",
       "       [971,   0],\n",
       "       [972,   0],\n",
       "       [973,   0],\n",
       "       [974,   0],\n",
       "       [977,   0],\n",
       "       [979,   0],\n",
       "       [981,   0],\n",
       "       [982,   0],\n",
       "       [983,   0],\n",
       "       [987,   0],\n",
       "       [989,   0],\n",
       "       [992,   0]], dtype=int64)"
      ]
     },
     "execution_count": 92,
     "metadata": {},
     "output_type": "execute_result"
    }
   ],
   "source": [
    "np.argwhere(lead_dataset==False) #Checking only for zeros Important"
   ]
  },
  {
   "cell_type": "code",
   "execution_count": 93,
   "metadata": {},
   "outputs": [
    {
     "data": {
      "text/plain": [
       "0.0"
      ]
     },
     "execution_count": 93,
     "metadata": {},
     "output_type": "execute_result"
    }
   ],
   "source": [
    "lead_dataset[31,0]"
   ]
  },
  {
   "cell_type": "code",
   "execution_count": 94,
   "metadata": {},
   "outputs": [
    {
     "data": {
      "text/plain": [
       "array([[  0,   0],\n",
       "       [  0,   4],\n",
       "       [  1,   0],\n",
       "       ...,\n",
       "       [999,   0],\n",
       "       [999,   1],\n",
       "       [999,   4]], dtype=int64)"
      ]
     },
     "execution_count": 94,
     "metadata": {},
     "output_type": "execute_result"
    }
   ],
   "source": [
    "np.argwhere(lead_dataset %2==0) #Check for even"
   ]
  },
  {
   "cell_type": "code",
   "execution_count": 95,
   "metadata": {
    "collapsed": true
   },
   "outputs": [
    {
     "ename": "AttributeError",
     "evalue": "'numpy.ndarray' object has no attribute 'argwhere'",
     "output_type": "error",
     "traceback": [
      "\u001b[1;31m---------------------------------------------------------------------------\u001b[0m",
      "\u001b[1;31mAttributeError\u001b[0m                            Traceback (most recent call last)",
      "\u001b[1;32m<ipython-input-95-e1f796950e90>\u001b[0m in \u001b[0;36m<module>\u001b[1;34m\u001b[0m\n\u001b[1;32m----> 1\u001b[1;33m \u001b[0mlead_dataset\u001b[0m\u001b[1;33m.\u001b[0m\u001b[0margwhere\u001b[0m\u001b[1;33m(\u001b[0m\u001b[1;33m)\u001b[0m\u001b[1;33m\u001b[0m\u001b[1;33m\u001b[0m\u001b[0m\n\u001b[0m",
      "\u001b[1;31mAttributeError\u001b[0m: 'numpy.ndarray' object has no attribute 'argwhere'"
     ]
    }
   ],
   "source": [
    "lead_dataset.argwhere() #Not applicable"
   ]
  },
  {
   "cell_type": "code",
   "execution_count": 98,
   "metadata": {},
   "outputs": [],
   "source": [
    "#Compare with isNan and argwhere\n",
    "lead_dataset_Nan=np.genfromtxt('Test_Creation1.csv', delimiter=',')"
   ]
  },
  {
   "cell_type": "code",
   "execution_count": 112,
   "metadata": {},
   "outputs": [
    {
     "data": {
      "text/plain": [
       "array([[False, False,  True, False, False],\n",
       "       [False, False, False, False, False],\n",
       "       [False, False, False, False, False],\n",
       "       ...,\n",
       "       [False, False, False, False, False],\n",
       "       [False, False, False, False, False],\n",
       "       [False, False, False, False, False]])"
      ]
     },
     "execution_count": 112,
     "metadata": {},
     "output_type": "execute_result"
    }
   ],
   "source": [
    "np.isnan(lead_dataset_Nan)"
   ]
  },
  {
   "cell_type": "code",
   "execution_count": 113,
   "metadata": {},
   "outputs": [
    {
     "data": {
      "text/plain": [
       "array([[  0,   2],\n",
       "       [ 14,   1],\n",
       "       [ 16,   3],\n",
       "       [ 89,   3],\n",
       "       [143,   3],\n",
       "       [302,   1],\n",
       "       [396,   1],\n",
       "       [424,   4],\n",
       "       [468,   4],\n",
       "       [493,   0],\n",
       "       [497,   3],\n",
       "       [556,   2],\n",
       "       [616,   1],\n",
       "       [705,   3],\n",
       "       [707,   0],\n",
       "       [776,   3]], dtype=int64)"
      ]
     },
     "execution_count": 113,
     "metadata": {},
     "output_type": "execute_result"
    }
   ],
   "source": [
    "np.argwhere(np.isnan(lead_dataset_Nan)) #Checking for values where are Nan"
   ]
  },
  {
   "cell_type": "code",
   "execution_count": 114,
   "metadata": {},
   "outputs": [
    {
     "ename": "IndexError",
     "evalue": "index 14 is out of bounds for axis 1 with size 5",
     "output_type": "error",
     "traceback": [
      "\u001b[1;31m---------------------------------------------------------------------------\u001b[0m",
      "\u001b[1;31mIndexError\u001b[0m                                Traceback (most recent call last)",
      "\u001b[1;32m<ipython-input-114-2a18e27a174a>\u001b[0m in \u001b[0;36m<module>\u001b[1;34m\u001b[0m\n\u001b[0;32m      1\u001b[0m \u001b[1;31m#Removing all the values of Nan\u001b[0m\u001b[1;33m\u001b[0m\u001b[1;33m\u001b[0m\u001b[1;33m\u001b[0m\u001b[0m\n\u001b[0;32m      2\u001b[0m \u001b[1;32mfor\u001b[0m \u001b[0marray_index\u001b[0m \u001b[1;32min\u001b[0m \u001b[0mnp\u001b[0m\u001b[1;33m.\u001b[0m\u001b[0margwhere\u001b[0m\u001b[1;33m(\u001b[0m\u001b[0mnp\u001b[0m\u001b[1;33m.\u001b[0m\u001b[0misnan\u001b[0m\u001b[1;33m(\u001b[0m\u001b[0mlead_dataset_Nan\u001b[0m\u001b[1;33m)\u001b[0m\u001b[1;33m)\u001b[0m\u001b[1;33m:\u001b[0m\u001b[1;33m\u001b[0m\u001b[1;33m\u001b[0m\u001b[0m\n\u001b[1;32m----> 3\u001b[1;33m     \u001b[0mlead_dataset_Nan\u001b[0m\u001b[1;33m[\u001b[0m\u001b[0marray_index\u001b[0m\u001b[1;33m[\u001b[0m\u001b[1;36m0\u001b[0m\u001b[1;33m]\u001b[0m\u001b[1;33m,\u001b[0m \u001b[0marray_index\u001b[0m\u001b[1;33m[\u001b[0m\u001b[1;36m0\u001b[0m\u001b[1;33m]\u001b[0m\u001b[1;33m]\u001b[0m \u001b[1;33m=\u001b[0m \u001b[1;36m0\u001b[0m\u001b[1;33m\u001b[0m\u001b[1;33m\u001b[0m\u001b[0m\n\u001b[0m",
      "\u001b[1;31mIndexError\u001b[0m: index 14 is out of bounds for axis 1 with size 5"
     ]
    }
   ],
   "source": [
    "#Removing all the values of Nan\n",
    "for array_index in np.argwhere(np.isnan(lead_dataset_Nan)):\n",
    "    lead_dataset_Nan[array_index[0], array_index[0]] = 0"
   ]
  },
  {
   "cell_type": "code",
   "execution_count": 115,
   "metadata": {},
   "outputs": [
    {
     "data": {
      "text/plain": [
       "nan"
      ]
     },
     "execution_count": 115,
     "metadata": {},
     "output_type": "execute_result"
    }
   ],
   "source": [
    "lead_dataset_Nan[14,1]"
   ]
  },
  {
   "cell_type": "code",
   "execution_count": 108,
   "metadata": {},
   "outputs": [
    {
     "data": {
      "text/plain": [
       "16"
      ]
     },
     "execution_count": 108,
     "metadata": {},
     "output_type": "execute_result"
    }
   ],
   "source": [
    "np.isnan(lead_dataset_Nan).sum()"
   ]
  },
  {
   "cell_type": "markdown",
   "metadata": {},
   "source": [
    "<B>Shuffling</B>"
   ]
  },
  {
   "cell_type": "code",
   "execution_count": null,
   "metadata": {},
   "outputs": [],
   "source": [
    "\n",
    "#Rearranging the parts of dataset"
   ]
  },
  {
   "cell_type": "code",
   "execution_count": 117,
   "metadata": {},
   "outputs": [
    {
     "data": {
      "text/plain": [
       "array([[ 2.        , 21.        , 47.        , 20.05945799,  2.        ],\n",
       "       [ 0.        , 21.        , 62.        , 10.58624666,  6.        ],\n",
       "       [ 1.        , 13.        , 50.        , 12.25758194,  2.        ],\n",
       "       [ 1.        , 17.        , 53.        ,  7.8137595 ,  2.        ],\n",
       "       [ 2.        ,  9.        , 51.        ,  9.18823262,  5.        ],\n",
       "       [ 1.        , 19.        , 65.        , 28.119642  ,  5.        ],\n",
       "       [ 1.        , 12.        , 53.        ,  7.92970684,  1.        ],\n",
       "       [ 0.        , 17.        , 58.        ,  4.92609105,  5.        ]])"
      ]
     },
     "execution_count": 117,
     "metadata": {},
     "output_type": "execute_result"
    }
   ],
   "source": [
    "lead_dataset=np.loadtxt(\"Test_Creation.csv\",delimiter=',')[:8]\n",
    "lead_dataset"
   ]
  },
  {
   "cell_type": "code",
   "execution_count": 123,
   "metadata": {},
   "outputs": [],
   "source": [
    "np.random.shuffle(lead_dataset) #Shuffled but in proper columns"
   ]
  },
  {
   "cell_type": "code",
   "execution_count": 124,
   "metadata": {},
   "outputs": [
    {
     "data": {
      "text/plain": [
       "array([[ 1.        , 19.        , 65.        , 28.119642  ,  5.        ],\n",
       "       [ 1.        , 17.        , 53.        ,  7.8137595 ,  2.        ],\n",
       "       [ 1.        , 12.        , 53.        ,  7.92970684,  1.        ],\n",
       "       [ 2.        ,  9.        , 51.        ,  9.18823262,  5.        ],\n",
       "       [ 0.        , 21.        , 62.        , 10.58624666,  6.        ],\n",
       "       [ 2.        , 21.        , 47.        , 20.05945799,  2.        ],\n",
       "       [ 0.        , 17.        , 58.        ,  4.92609105,  5.        ],\n",
       "       [ 1.        , 13.        , 50.        , 12.25758194,  2.        ]])"
      ]
     },
     "execution_count": 124,
     "metadata": {},
     "output_type": "execute_result"
    }
   ],
   "source": [
    "lead_dataset"
   ]
  },
  {
   "cell_type": "code",
   "execution_count": 125,
   "metadata": {},
   "outputs": [],
   "source": [
    "lead_dataset_shuffle=np.loadtxt(\"Test_Creation.csv\",delimiter=',')"
   ]
  },
  {
   "cell_type": "code",
   "execution_count": 126,
   "metadata": {},
   "outputs": [],
   "source": [
    "from numpy.random import shuffle # whenevr using function more than once, try to import"
   ]
  },
  {
   "cell_type": "code",
   "execution_count": 130,
   "metadata": {},
   "outputs": [
    {
     "data": {
      "text/plain": [
       "array([[ 2.        , 19.        , 57.        , 15.59769097,  4.        ],\n",
       "       [ 0.        , 16.        , 49.        ,  7.0114726 ,  1.        ],\n",
       "       [ 2.        , 16.        , 64.        ,  5.59270379,  2.        ],\n",
       "       ...,\n",
       "       [ 1.        , 14.        , 46.        , -1.07800288,  2.        ],\n",
       "       [ 0.        , 16.        , 62.        ,  4.61305948,  1.        ],\n",
       "       [ 1.        , 11.        , 54.        , 13.3314535 ,  4.        ]])"
      ]
     },
     "execution_count": 130,
     "metadata": {},
     "output_type": "execute_result"
    }
   ],
   "source": [
    "shuffle(lead_dataset_shuffle)\n",
    "lead_dataset_shuffle"
   ]
  },
  {
   "cell_type": "code",
   "execution_count": 134,
   "metadata": {},
   "outputs": [],
   "source": [
    "#Random Generators - Generate Data and Shuffle Data\n",
    "from numpy.random import Generator as gen\n",
    "from numpy.random import PCG64 as pcg"
   ]
  },
  {
   "cell_type": "code",
   "execution_count": 162,
   "metadata": {},
   "outputs": [
    {
     "data": {
      "text/plain": [
       "array([[ 1.        , 11.        , 61.        , 14.65256522,  4.        ],\n",
       "       [ 1.        , 16.        , 55.        , -1.83167415,  6.        ],\n",
       "       [ 0.        , 11.        , 53.        , 11.67879361,  6.        ],\n",
       "       ...,\n",
       "       [ 1.        , 14.        , 55.        , 12.25938184,  5.        ],\n",
       "       [ 2.        , 24.        , 58.        ,  7.89270271,  5.        ],\n",
       "       [ 1.        , 14.        , 63.        ,  7.45603258,  1.        ]])"
      ]
     },
     "execution_count": 162,
     "metadata": {},
     "output_type": "execute_result"
    }
   ],
   "source": [
    "array_rg=gen(pcg(seed= 362))\n",
    "array_rg.shuffle(lead_dataset_shuffle) #Array_RG is generator variable\n",
    "lead_dataset_shuffle"
   ]
  },
  {
   "cell_type": "markdown",
   "metadata": {},
   "source": [
    "<b>Casting</b>"
   ]
  },
  {
   "cell_type": "code",
   "execution_count": 167,
   "metadata": {},
   "outputs": [
    {
     "data": {
      "text/plain": [
       "array([[ 2.        , 21.        , 47.        , 20.05945799,  2.        ],\n",
       "       [ 0.        , 21.        , 62.        , 10.58624666,  6.        ],\n",
       "       [ 1.        , 13.        , 50.        , 12.25758194,  2.        ],\n",
       "       ...,\n",
       "       [ 1.        , 15.        , 54.        ,  9.17892527,  1.        ],\n",
       "       [ 1.        , 15.        , 57.        , 14.39721513,  4.        ],\n",
       "       [ 2.        , 20.        , 47.        ,  8.19234137,  6.        ]])"
      ]
     },
     "execution_count": 167,
     "metadata": {},
     "output_type": "execute_result"
    }
   ],
   "source": [
    "lead_dataset=np.loadtxt(\"Test_Creation.csv\",delimiter=',')\n",
    "lead_dataset"
   ]
  },
  {
   "cell_type": "code",
   "execution_count": 164,
   "metadata": {},
   "outputs": [],
   "source": [
    "#Creating a new array with Converted Data Type Like-Decimals to Int"
   ]
  },
  {
   "cell_type": "code",
   "execution_count": 166,
   "metadata": {},
   "outputs": [
    {
     "data": {
      "text/plain": [
       "array([[ 2, 21, 47, 20,  2],\n",
       "       [ 0, 21, 62, 10,  6],\n",
       "       [ 1, 13, 50, 12,  2],\n",
       "       ...,\n",
       "       [ 1, 15, 54,  9,  1],\n",
       "       [ 1, 15, 57, 14,  4],\n",
       "       [ 2, 20, 47,  8,  6]])"
      ]
     },
     "execution_count": 166,
     "metadata": {},
     "output_type": "execute_result"
    }
   ],
   "source": [
    "lead_dataset.astype(dtype= np.int32)"
   ]
  },
  {
   "cell_type": "code",
   "execution_count": 169,
   "metadata": {},
   "outputs": [],
   "source": [
    "lead_dataset_caststr=lead_dataset.astype(dtype= np.str)"
   ]
  },
  {
   "cell_type": "code",
   "execution_count": 170,
   "metadata": {},
   "outputs": [
    {
     "data": {
      "text/plain": [
       "array([['2.0', '21.0', '47.0', '20.059457987167505', '2.0'],\n",
       "       ['0.0', '21.0', '62.0', '10.586246657566498', '6.0'],\n",
       "       ['1.0', '13.0', '50.0', '12.257581935890457', '2.0'],\n",
       "       ...,\n",
       "       ['1.0', '15.0', '54.0', '9.178925268915227', '1.0'],\n",
       "       ['1.0', '15.0', '57.0', '14.397215125442711', '4.0'],\n",
       "       ['2.0', '20.0', '47.0', '8.192341369607929', '6.0']], dtype='<U32')"
      ]
     },
     "execution_count": 170,
     "metadata": {},
     "output_type": "execute_result"
    }
   ],
   "source": [
    "lead_dataset_caststr"
   ]
  },
  {
   "cell_type": "code",
   "execution_count": 171,
   "metadata": {},
   "outputs": [
    {
     "data": {
      "text/plain": [
       "numpy.ndarray"
      ]
     },
     "execution_count": 171,
     "metadata": {},
     "output_type": "execute_result"
    }
   ],
   "source": [
    "type(lead_dataset_caststr)"
   ]
  },
  {
   "cell_type": "code",
   "execution_count": 173,
   "metadata": {},
   "outputs": [
    {
     "ename": "ValueError",
     "evalue": "invalid literal for int() with base 10: '2.0'",
     "output_type": "error",
     "traceback": [
      "\u001b[1;31m---------------------------------------------------------------------------\u001b[0m",
      "\u001b[1;31mValueError\u001b[0m                                Traceback (most recent call last)",
      "\u001b[1;32m<ipython-input-173-5362119c6687>\u001b[0m in \u001b[0;36m<module>\u001b[1;34m\u001b[0m\n\u001b[1;32m----> 1\u001b[1;33m \u001b[0mlead_dataset_caststr\u001b[0m\u001b[1;33m.\u001b[0m\u001b[0mastype\u001b[0m\u001b[1;33m(\u001b[0m\u001b[0mdtype\u001b[0m\u001b[1;33m=\u001b[0m \u001b[0mnp\u001b[0m\u001b[1;33m.\u001b[0m\u001b[0mint32\u001b[0m\u001b[1;33m)\u001b[0m \u001b[1;31m#We cant directly cast STR to INT\u001b[0m\u001b[1;33m\u001b[0m\u001b[1;33m\u001b[0m\u001b[0m\n\u001b[0m",
      "\u001b[1;31mValueError\u001b[0m: invalid literal for int() with base 10: '2.0'"
     ]
    }
   ],
   "source": [
    "lead_dataset_caststr.astype(dtype= np.int32) #We cant directly cast STR to INT"
   ]
  },
  {
   "cell_type": "code",
   "execution_count": 176,
   "metadata": {},
   "outputs": [
    {
     "data": {
      "text/plain": [
       "array([[ 2, 21, 47, 20,  2],\n",
       "       [ 0, 21, 62, 10,  6],\n",
       "       [ 1, 13, 50, 12,  2],\n",
       "       ...,\n",
       "       [ 1, 15, 54,  9,  1],\n",
       "       [ 1, 15, 57, 14,  4],\n",
       "       [ 2, 20, 47,  8,  6]])"
      ]
     },
     "execution_count": 176,
     "metadata": {},
     "output_type": "execute_result"
    }
   ],
   "source": [
    "#Converting into Strings\n",
    "lead_dataset_castfloat= lead_dataset_caststr.astype(dtype= np.float32)\n",
    "lead_dataset_castfloat.astype(dtype= np.int32)\n",
    "#Issue with the decimal placing"
   ]
  },
  {
   "cell_type": "code",
   "execution_count": 178,
   "metadata": {},
   "outputs": [],
   "source": [
    "lead_dataset_castint=lead_dataset_caststr.astype(dtype=np.float32).astype(dtype= np.int32) #Combine Transformation\n",
    "#Python runs code, left to right"
   ]
  },
  {
   "cell_type": "code",
   "execution_count": 179,
   "metadata": {},
   "outputs": [
    {
     "data": {
      "text/plain": [
       "array([[ 2, 21, 47, 20,  2],\n",
       "       [ 0, 21, 62, 10,  6],\n",
       "       [ 1, 13, 50, 12,  2],\n",
       "       ...,\n",
       "       [ 1, 15, 54,  9,  1],\n",
       "       [ 1, 15, 57, 14,  4],\n",
       "       [ 2, 20, 47,  8,  6]])"
      ]
     },
     "execution_count": 179,
     "metadata": {},
     "output_type": "execute_result"
    }
   ],
   "source": [
    "lead_dataset_castint"
   ]
  },
  {
   "cell_type": "markdown",
   "metadata": {},
   "source": [
    "<b>Stripping</b><br><i>np.chararray.strip</i><br>Transform Text into int by Stripping"
   ]
  },
  {
   "cell_type": "code",
   "execution_count": 235,
   "metadata": {},
   "outputs": [],
   "source": [
    "#Only for Non-Numeric Columns Removing specific parts of strings\n",
    "lead_dataset_strip=np.genfromtxt('Test_Creationstr.csv', delimiter=',', dtype= np.str, skip_header=1, usecols=[1,2,5])"
   ]
  },
  {
   "cell_type": "code",
   "execution_count": 236,
   "metadata": {},
   "outputs": [
    {
     "data": {
      "text/plain": [
       "array([['21', '62', '4.0.3 and up'],\n",
       "       ['13', '50', '4.0.3 and up'],\n",
       "       ['17', '53', '4.2 and up'],\n",
       "       ...,\n",
       "       ['15', '54', '4.0 and up'],\n",
       "       ['15', '57', '2.3.3 and up'],\n",
       "       ['20', '47', '']], dtype='<U18')"
      ]
     },
     "execution_count": 236,
     "metadata": {},
     "output_type": "execute_result"
    }
   ],
   "source": [
    "lead_dataset_strip"
   ]
  },
  {
   "cell_type": "code",
   "execution_count": 237,
   "metadata": {},
   "outputs": [
    {
     "data": {
      "text/plain": [
       "chararray(['4.0.3 and up', '4.0.3 and up', '4.2 and up', '4.4 and up',\n",
       "           '2.3 and up', '4.0.3 and up', '4.2 and up', '3.0 and up',\n",
       "           '4.0.3 and up', '4.1 and up', '4.0 and up', '4.1 and up',\n",
       "           '4.4 and up', '2.3 and up', '4.2 and up', '4.1 and up',\n",
       "           '2.3 and up', '4.0.3 and up', '4.1 and up', '4.1 and up',\n",
       "           '4.0.3 and up', '4.0.3 and up', '4.1 and up', '4.1 and up',\n",
       "           '3.0 and up', '4.0.3 and up', '4.0.3 and up', '2.3 and up',\n",
       "           '2.3 and up', '4.0.3 and up', '2.3 and up', '4.0 and up',\n",
       "           '4.1 and up', '4.1 and up', '4.1 and up', '4.4 and up',\n",
       "           '2.3.3 and up', '4.0.3 and up', '4.0 and up', '4.0.3 and up',\n",
       "           '4.0.3 and up', 'Varies with device', '4.1 and up',\n",
       "           '4.1 and up', '4.1 and up', '4.1 and up', '4.1 and up',\n",
       "           '2.3 and up', '4.0.3 and up', '4.1 and up', '4.1 and up',\n",
       "           'Varies with device', '4.1 and up', '4.1 and up', '4.0 and up',\n",
       "           '4.4 and up', '4.1 and up', '2.2 and up', '4.4 and up',\n",
       "           '4.0.3 and up', '4.2 and up', '4.1 and up', '4.0 and up',\n",
       "           '4.2 and up', '4.4 and up', '2.3 and up', 'Varies with device',\n",
       "           'Varies with device', '4.0.3 and up', '4.0.3 and up',\n",
       "           '4.2 and up', '5.0 and up', '2.3.3 and up', '4.0 and up',\n",
       "           '4.0 and up', '4.1 and up', '4.0 and up', '4.1 and up',\n",
       "           '4.1 and up', '6.0 and up', '4.2 and up', '5.0 and up',\n",
       "           '4.0.3 and up', '4.4 and up', 'Varies with device',\n",
       "           '2.3 and up', '4.0.3 and up', 'Varies with device',\n",
       "           'Varies with device', '4.1 and up', '4.0.3 and up',\n",
       "           '4.0.3 and up', '4.0.3 and up', '4.0.3 and up', '4.0 and up',\n",
       "           '4.0.3 and up', '4.0 and up', '5.0 and up', '4.1 and up',\n",
       "           '4.1 and up', '4.0.3 and up', 'Varies with device',\n",
       "           '4.1 and up', '4.0.3 and up', '4.0 and up', '4.2 and up',\n",
       "           '5.0 and up', '4.0.3 and up', 'Varies with device',\n",
       "           '4.0 and up', '4.0 and up', '4.0.3 and up', '3.0 and up',\n",
       "           '4.0.3 and up', '4.0.3 and up', '4.0.3 and up',\n",
       "           'Varies with device', '4.0 and up', '4.0 and up',\n",
       "           '4.0.3 and up', '4.0 and up', '5.0 and up', '4.1 and up',\n",
       "           '4.0.3 and up', '4.0 and up', '4.1 and up', '4.1 and up',\n",
       "           '4.0 and up', '2.3 and up', '3.0 and up', '4.0.3 and up',\n",
       "           '4.0.3 and up', '1.6 and up', '3.0 and up', '4.0.3 and up',\n",
       "           '4.0 and up', '4.0.3 and up', '4.0.3 and up',\n",
       "           'Varies with device', '4.4 and up', '4.0 and up',\n",
       "           'Varies with device', 'Varies with device', '1.5 and up',\n",
       "           'Varies with device', 'Varies with device', '4.1 and up',\n",
       "           '4.0 and up', 'Varies with device', '4.0 and up',\n",
       "           '4.0.3 and up', 'Varies with device', '2.3 and up',\n",
       "           '4.0.3 and up', '4.1 and up', '4.0.3 and up',\n",
       "           'Varies with device', '4.1 and up', '4.1 and up', '2.3 and up',\n",
       "           '4.1 and up', 'Varies with device', '2.3 and up', '4.0 and up',\n",
       "           '4.0 and up', '4.1 and up', '4.0.3 and up', '3.0 and up',\n",
       "           '4.0.3 and up', '2.1 and up', '4.4 and up',\n",
       "           'Varies with device', '7.0 and up', '4.0 and up',\n",
       "           '4.0.3 and up', '4.0.3 and up', '3.0 and up', '3.0 and up',\n",
       "           'Varies with device', '6.0 and up', '4.0 and up', '4.2 and up',\n",
       "           '4.0.3 and up', '2.2 and up', '5.1 and up', '4.2 and up',\n",
       "           'Varies with device', 'Varies with device',\n",
       "           'Varies with device', '5.0 and up', 'Varies with device',\n",
       "           'Varies with device', '4.4 and up', '4.1 and up',\n",
       "           '4.0.3 and up', '5.0 and up', '4.1 and up', '4.1 and up',\n",
       "           '4.0.3 and up', '1.5 and up', 'Varies with device',\n",
       "           'Varies with device', '4.3 and up', 'Varies with device',\n",
       "           '4.1 and up', '4.0 and up', 'Varies with device',\n",
       "           'Varies with device', '2.2 and up', '4.1 and up',\n",
       "           'Varies with device', '4.1 and up', '4.0 and up',\n",
       "           'Varies with device', '4.1 and up', '4.0 and up', '4.1 and up',\n",
       "           '4.2 and up', '4.0 and up', '4.0 and up', '4.0.3 and up',\n",
       "           '4.0.3 and up', '2.2 and up', '4.0.3 and up', '7.0 and up',\n",
       "           'Varies with device', '6.0 and up', 'Varies with device',\n",
       "           '4.0.3 and up', 'Varies with device', '3.0 and up',\n",
       "           '4.1 and up', '4.1 and up', '4.0 and up', '3.0 and up',\n",
       "           'Varies with device', '4.1 and up', '4.0.3 and up',\n",
       "           '4.4 and up', 'Varies with device', '4.2 and up', '5.0 and up',\n",
       "           '4.1 and up', '4.1 and up', 'Varies with device', '5.0 and up',\n",
       "           '4.0.3 and up', '5.0 and up', '4.4 and up', '4.0 and up',\n",
       "           '4.1 and up', '4.1 and up', '4.4 and up', '4.1 and up',\n",
       "           '4.3 and up', '4.0 and up', '5.0 and up', '4.4 and up',\n",
       "           'Varies with device', '4.0.3 and up', '4.4 and up',\n",
       "           '4.0 and up', '5.0 and up', 'Varies with device',\n",
       "           'Varies with device', '4.1 and up', '4.0.3 and up',\n",
       "           '4.4 and up', 'Varies with device', '4.2 and up', '5.0 and up',\n",
       "           '4.1 and up', '4.1 and up', 'Varies with device', '5.0 and up',\n",
       "           '4.0.3 and up', '5.0 and up', '4.4 and up', '4.0 and up',\n",
       "           '4.1 and up', '4.1 and up', '4.4 and up', '4.1 and up',\n",
       "           'Varies with device', '4.0.3 and up', 'Varies with device',\n",
       "           '3.0 and up', '4.1 and up', '4.1 and up', '4.0 and up',\n",
       "           '3.0 and up', 'Varies with device', '4.1 and up',\n",
       "           'Varies with device', '5.0 and up', '4.1 and up',\n",
       "           'Varies with device', '4.1 and up', '4.1 and up',\n",
       "           '4.0.3 and up', '4.4 and up', '4.1 and up', '4.1 and up',\n",
       "           '5.0 and up', '4.0 and up', '2.3 and up', '4.0.3 and up',\n",
       "           '4.2 and up', '4.0.3 and up', '4.0.3 and up', '4.0.3 and up',\n",
       "           '4.0.3 and up', '4.0.3 and up', '4.1 and up',\n",
       "           'Varies with device', '4.2 and up', '4.4 and up', '4.4 and up',\n",
       "           '4.0 and up', 'Varies with device', '4.2 and up', '4.1 and up',\n",
       "           '4.1 and up', '5.0 and up', '4.0.3 and up', '4.1 and up',\n",
       "           'Varies with device', '4.0 and up', '4.0.3 and up',\n",
       "           '2.3 and up', '4.0.3 and up', '4.0.3 and up', '4.0 and up',\n",
       "           '4.4 and up', 'Varies with device', 'Varies with device',\n",
       "           '4.1 and up', 'Varies with device', '2.3 and up',\n",
       "           'Varies with device', 'Varies with device',\n",
       "           'Varies with device', '4.4 and up', 'Varies with device',\n",
       "           '4.4 and up', '4.0 and up', '4.0 and up', '5.0 and up',\n",
       "           '4.1 and up', '4.0.3 - 7.1.1', 'Varies with device',\n",
       "           '4.0.3 - 7.1.1', 'Varies with device', 'Varies with device',\n",
       "           '4.1 and up', 'Varies with device', '4.1 and up', '5.0 and up',\n",
       "           'Varies with device', 'Varies with device',\n",
       "           'Varies with device', '4.0.3 and up', 'Varies with device',\n",
       "           '4.0.3 and up', 'Varies with device', '4.0 and up',\n",
       "           '4.0.3 and up', '5.0 and up', 'Varies with device',\n",
       "           'Varies with device', '4.4 and up', '4.1 and up',\n",
       "           'Varies with device', '4.1 and up', 'Varies with device',\n",
       "           'Varies with device', '4.0.3 and up', '4.0 and up',\n",
       "           '4.3 and up', '4.4 and up', 'Varies with device',\n",
       "           'Varies with device', '4.0 and up', '4.0.3 and up',\n",
       "           'Varies with device', 'Varies with device', '4.2 and up',\n",
       "           '4.0 and up', '4.4 and up', 'Varies with device',\n",
       "           'Varies with device', 'Varies with device',\n",
       "           'Varies with device', 'Varies with device', '4.0 and up',\n",
       "           'Varies with device', '2.3 and up', '2.3 and up',\n",
       "           'Varies with device', '4.0.3 and up', '4.1 and up',\n",
       "           'Varies with device', 'Varies with device',\n",
       "           'Varies with device', '4.0.3 and up', '4.0.3 and up',\n",
       "           'Varies with device', '5.0 and up', '4.0 and up', '4.1 and up',\n",
       "           'Varies with device', 'Varies with device', '4.0 and up',\n",
       "           '4.1 and up', 'Varies with device', '2.3 and up',\n",
       "           'Varies with device', 'Varies with device', '4.0 and up',\n",
       "           '4.0 and up', '4.0.3 and up', 'Varies with device',\n",
       "           '4.0 and up', '4.0 and up', '4.0 and up', '3.0 and up',\n",
       "           '4.1 and up', '4.0.3 and up', '2.1 and up', '4.0 and up',\n",
       "           'Varies with device', '4.0 and up', '4.0 and up',\n",
       "           '4.0.3 and up', '5.0 and up', '4.0.3 and up', '5.0 and up',\n",
       "           '4.0 and up', '2.1 and up', '4.1 and up', '4.1 and up',\n",
       "           'Varies with device', 'Varies with device', '4.1 and up',\n",
       "           'Varies with device', '4.0.3 and up', '4.1 and up',\n",
       "           'Varies with device', 'Varies with device', '2.3 and up',\n",
       "           'Varies with device', '4.4 and up', '4.0.3 and up',\n",
       "           'Varies with device', '4.1 and up', '4.1 and up', '5.0 and up',\n",
       "           '2.0 and up', 'Varies with device', '2.2 and up', '4.0 and up',\n",
       "           'Varies with device', 'Varies with device',\n",
       "           'Varies with device', '4.0 and up', '4.4 and up',\n",
       "           'Varies with device', 'Varies with device',\n",
       "           'Varies with device', '2.3.3 and up', '4.0.3 and up',\n",
       "           'Varies with device', 'Varies with device',\n",
       "           'Varies with device', 'Varies with device', '4.1 and up',\n",
       "           '4.0 and up', '4.0 and up', '4.0 and up', '4.0.3 and up',\n",
       "           '4.0 and up', 'Varies with device', '4.1 and up',\n",
       "           'Varies with device', '4.1 and up', '5.0 and up', '4.1 and up',\n",
       "           '4.1 and up', '4.1 and up', '4.4 and up', 'Varies with device',\n",
       "           '4.1 and up', '4.0 and up', '4.4 and up', '4.1 and up',\n",
       "           '4.4 and up', '4.1 and up', '4.1 and up', '4.1 and up',\n",
       "           'Varies with device', '4.2 and up', '4.1 and up', '4.1 and up',\n",
       "           '4.4 and up', '4.1 and up', '4.4 and up', '4.1 and up',\n",
       "           'Varies with device', '4.0.3 and up', '4.2 and up',\n",
       "           '4.0.3 and up', '4.0.3 and up', '4.4 and up', '4.0 and up',\n",
       "           '4.1 and up', '4.0.3 and up', '4.1 and up', '5.0 and up',\n",
       "           '4.4 and up', '4.0.3 and up', '4.1 and up', '5.0 and up',\n",
       "           '4.1 and up', '4.0 and up', '4.0.3 and up', '4.0 and up',\n",
       "           '4.1 and up', '4.0.3 and up', '4.0 and up', '4.0.3 and up',\n",
       "           '4.2 and up', 'Varies with device', '4.1 and up',\n",
       "           '4.0.3 and up', '4.0.3 and up', '5.0 and up', '4.0 and up',\n",
       "           '4.1 and up', '4.1 and up', '4.1 and up', '4.1 and up',\n",
       "           '4.1 and up', '4.4 and up', '4.1 and up', '5.0 and up',\n",
       "           '4.4 and up', '4.1 and up', '4.1 and up', '4.0.3 and up',\n",
       "           '4.1 and up', '4.1 and up', '4.1 and up', 'Varies with device',\n",
       "           '5.0 and up', '5.0 and up', '4.1 and up', '4.0.3 and up',\n",
       "           '4.0.3 and up', '4.2 and up', '4.4 and up',\n",
       "           'Varies with device', '4.1 and up', '4.2 and up', '4.1 and up',\n",
       "           '4.1 and up', '4.1 and up', '4.3 and up', '4.1 and up',\n",
       "           '4.0.3 and up', '4.1 and up', '4.1 and up', '4.0.3 and up',\n",
       "           '4.1 and up', 'Varies with device', '4.0.3 and up',\n",
       "           '4.1 and up', '4.1 and up', '4.2 and up', '4.0.3 and up',\n",
       "           '4.1 and up', '4.0.3 and up', '4.1 and up', '4.2 and up',\n",
       "           '4.1 and up', '4.1 and up', '4.0.3 and up', '4.1 and up',\n",
       "           '4.0.3 and up', '4.1 and up', '4.0 and up', '4.1 and up',\n",
       "           '4.0.3 and up', '4.1 and up', '4.1 and up', '4.0.3 and up',\n",
       "           '4.0.3 and up', '4.0.3 and up', '4.2 and up', '4.0 and up',\n",
       "           '4.1 and up', '4.0 and up', '4.4 and up', '4.3 and up',\n",
       "           '4.0.3 and up', '4.0.3 and up', '4.0.3 and up', '4.0.3 and up',\n",
       "           '4.0.3 and up', '4.0.3 and up', '4.0.3 and up', '4.4 and up',\n",
       "           '4.0.3 and up', '4.0 and up', '4.0.3 and up', '4.4 and up',\n",
       "           '4.0.3 and up', '4.0 and up', '4.0.3 and up', '4.0.3 and up',\n",
       "           '4.0.3 and up', '4.0 and up', '4.1 and up', '4.1 and up',\n",
       "           '4.0.3 and up', '4.0.3 and up', '4.0.3 and up', '4.0.3 and up',\n",
       "           '3.0 and up', '4.0 and up', '4.1 and up', '4.4 and up',\n",
       "           '4.1 and up', '4.0.3 and up', '4.0.3 and up', '4.4 and up',\n",
       "           '4.0.3 and up', '4.0.3 and up', '4.0.3 and up', '4.0.3 and up',\n",
       "           '4.0.3 and up', '4.1 and up', '4.1 and up', '4.0 and up',\n",
       "           '4.0.3 and up', '4.0.3 and up', '4.0 and up', '3.0 and up',\n",
       "           '4.0.3 and up', '4.0.3 and up', '4.2 and up', '4.1 and up',\n",
       "           '4.2 and up', '4.1 and up', '4.1 and up', '4.1 and up',\n",
       "           '5.0 and up', '4.0.3 and up', '4.0.3 and up', '4.0 and up',\n",
       "           '4.0.3 and up', '4.0.3 and up', '4.2 and up', '5.0 and up',\n",
       "           '4.1 and up', '4.3 and up', '4.0.3 and up', '4.4 and up',\n",
       "           '4.4 and up', '4.0.3 and up', 'Varies with device',\n",
       "           '4.0.3 and up', '4.0.3 and up', '4.0.3 and up', '4.1 and up',\n",
       "           '4.0.3 and up', '4.4 and up', '4.1 and up', '4.4 and up',\n",
       "           '4.1 and up', '4.0.3 and up', '4.0.3 and up', '4.0.3 and up',\n",
       "           '4.0 and up', '4.1 and up', '4.0.3 and up', '4.0.3 and up',\n",
       "           '4.0.3 and up', '4.0.3 and up', '4.0.3 and up', '4.0 and up',\n",
       "           '4.4 and up', '4.0.3 and up', '4.0 and up', '4.1 and up',\n",
       "           '4.1 and up', '4.2 and up', '4.0.3 and up', '4.0.3 and up',\n",
       "           'Varies with device', '4.1 and up', '4.0 and up', '4.1 and up',\n",
       "           '4.0 and up', '4.0 and up', '4.0 and up', '4.0 and up',\n",
       "           '4.0.3 and up', '4.0 and up', '4.0 and up', '4.1 and up',\n",
       "           '4.1 and up', '4.2 and up', 'Varies with device',\n",
       "           'Varies with device', '4.0 and up', '4.0 and up', '4.4 and up',\n",
       "           '4.0 and up', '2.3 and up', '4.1 and up', '5.0 and up',\n",
       "           '1.6 and up', '4.4 and up', 'Varies with device',\n",
       "           '4.0.3 and up', '2.3 and up', '4.2 and up', '4.4 and up',\n",
       "           '2.3 and up', '4.1 and up', '4.1 and up', '2.3 and up',\n",
       "           '4.1 and up', 'Varies with device', '4.0.3 and up',\n",
       "           '4.1 and up', 'Varies with device', '4.1 and up', '4.1 and up',\n",
       "           'Varies with device', '5.0 and up', 'Varies with device',\n",
       "           '4.1 and up', 'Varies with device', '4.0.3 and up',\n",
       "           'Varies with device', '5.0 and up', '4.1 and up', '4.1 and up',\n",
       "           'Varies with device', 'Varies with device', '4.0 and up',\n",
       "           '2.3 and up', '2.3 and up', '2.3 and up', '5.0 and up',\n",
       "           '5.0 and up', '4.0 and up', 'Varies with device', '4.0 and up',\n",
       "           '4.0 and up', '4.0 and up', '4.1 and up', '4.0 and up',\n",
       "           '4.4 and up', '4.1 and up', '4.4 and up', '2.2 and up',\n",
       "           '2.3.3 and up', '2.1 and up', 'Varies with device',\n",
       "           '2.3.3 and up', '4.0 and up', 'Varies with device',\n",
       "           '2.1 and up', '4.1 and up', 'Varies with device', '4.0 and up',\n",
       "           'Varies with device', 'Varies with device',\n",
       "           'Varies with device', '4.1 and up', '4.1 and up',\n",
       "           'Varies with device', 'Varies with device',\n",
       "           'Varies with device', '5.0 and up', '5.0 and up', '4.1 and up',\n",
       "           '5.0 and up', 'Varies with device', '4.1 and up',\n",
       "           'Varies with device', 'Varies with device', '4.4 and up',\n",
       "           '4.4 and up', 'Varies with device', '4.1 and up',\n",
       "           'Varies with device', '4.0 and up', '5.0 and up', '4.4 and up',\n",
       "           '4.2 and up', '4.1 and up', '4.0 and up', 'Varies with device',\n",
       "           '4.0 and up', '5.0 and up', 'Varies with device', '2.3 and up',\n",
       "           '4.0.3 and up', '4.0 and up', '2.3 and up',\n",
       "           'Varies with device', '4.0.3 and up', '2.3 and up',\n",
       "           '4.0 and up', 'Varies with device', 'Varies with device',\n",
       "           '4.0.3 and up', '3.2 and up', '4.4 and up',\n",
       "           'Varies with device', 'Varies with device', '4.1 and up',\n",
       "           'Varies with device', '3.0 and up', '4.0 and up', '4.1 and up',\n",
       "           '4.2 and up', '5.0 and up', 'Varies with device', '4.4 and up',\n",
       "           '3.0 and up', '5.0 and up', 'Varies with device', '4.4 and up',\n",
       "           'Varies with device', 'Varies with device', '4.1 and up',\n",
       "           '4.0 and up', 'Varies with device', '4.1 and up', '4.1 and up',\n",
       "           'Varies with device', '5.0 and up', '5.0 and up',\n",
       "           '4.0.3 and up', '4.1 and up', '4.1 and up', '4.0.3 and up',\n",
       "           '4.1 and up', '4.4 and up', '4.4 and up', 'Varies with device',\n",
       "           '4.0.3 and up', 'Varies with device', '4.1 and up',\n",
       "           '4.1 and up', '5.0 and up', 'Varies with device', '6.0 and up',\n",
       "           '4.2 and up', '4.0.3 and up', 'Varies with device',\n",
       "           'Varies with device', 'Varies with device', '4.0 and up',\n",
       "           'Varies with device', '2.3.3 and up', '4.0.3 and up',\n",
       "           '4.1 and up', 'Varies with device', '4.1 and up',\n",
       "           'Varies with device', '4.2 and up', '4.2 and up',\n",
       "           'Varies with device', '4.1 and up', '4.1 and up', '4.1 and up',\n",
       "           '4.0.3 and up', '4.4 and up', '4.1 and up',\n",
       "           'Varies with device', '4.1 and up', '4.4 and up',\n",
       "           'Varies with device', 'Varies with device', '4.3 and up',\n",
       "           '4.1 and up', '4.1 and up', '4.1 and up', 'Varies with device',\n",
       "           '4.2 and up', '5.0 and up', 'Varies with device', '4.4 and up',\n",
       "           'Varies with device', '6.0 and up', '4.1 and up', '5.0 and up',\n",
       "           'Varies with device', 'Varies with device',\n",
       "           'Varies with device', 'Varies with device', '4.1 and up',\n",
       "           'Varies with device', '4.4 and up', 'Varies with device',\n",
       "           '4.1 and up', 'Varies with device', '4.1 and up',\n",
       "           'Varies with device', '4.4 and up', '4.4 and up', '4.4 and up',\n",
       "           '4.4 and up', '4.4 and up', '4.4 and up', '4.4 and up',\n",
       "           '4.4 and up', '5.0 and up', 'Varies with device',\n",
       "           'Varies with device', 'Varies with device', '4.4 and up',\n",
       "           '4.0.3 and up', '4.4 and up', 'Varies with device',\n",
       "           'Varies with device', '4.1 and up', 'Varies with device',\n",
       "           'Varies with device', 'Varies with device', '4.1 and up',\n",
       "           '4.4 and up', '5.0 and up', '4.4 and up', '4.4 and up',\n",
       "           '4.4 and up', '4.1 and up', '4.4 and up', 'Varies with device',\n",
       "           '4.1 and up', '4.4 and up', '4.4 and up', '4.4 and up',\n",
       "           '4.4 and up', '4.4 and up', '4.4 and up', '5.0 and up',\n",
       "           '4.1 and up', 'Varies with device', 'Varies with device',\n",
       "           '4.4 and up', '4.4 and up', 'Varies with device', '4.1 and up',\n",
       "           'Varies with device', 'Varies with device',\n",
       "           'Varies with device', '4.4 and up', 'Varies with device',\n",
       "           '5.0 and up', 'Varies with device', '4.4 and up', '4.4 and up',\n",
       "           'Varies with device', '4.4 and up', 'Varies with device',\n",
       "           '4.4 and up', '5.0 and up', 'Varies with device',\n",
       "           'Varies with device', '4.3 and up', '4.4 and up', '4.4 and up',\n",
       "           'Varies with device', '4.4 and up', '4.4 and up', '4.4 and up',\n",
       "           '4.4 and up', '4.4 and up', '4.4 and up', '4.4 and up',\n",
       "           '4.2 and up', 'Varies with device', 'Varies with device',\n",
       "           '6.0 and up', '4.0.3 and up', '4.4 and up',\n",
       "           'Varies with device', '5.0 and up', 'Varies with device',\n",
       "           'Varies with device', '4.0 and up', '2.3.3 and up', ''],\n",
       "          dtype='<U18')"
      ]
     },
     "execution_count": 237,
     "metadata": {},
     "output_type": "execute_result"
    }
   ],
   "source": [
    "np.chararray.strip(lead_dataset_strip[:,2], \" and\") #Here 2 in the index of col fetched"
   ]
  },
  {
   "cell_type": "code",
   "execution_count": 238,
   "metadata": {},
   "outputs": [],
   "source": [
    "lead_dataset_strip[:,2]=np.chararray.strip(lead_dataset_strip[:,2], \" and up\")"
   ]
  },
  {
   "cell_type": "code",
   "execution_count": 239,
   "metadata": {},
   "outputs": [
    {
     "data": {
      "text/plain": [
       "array([['21', '62', '4.0.3'],\n",
       "       ['13', '50', '4.0.3'],\n",
       "       ['17', '53', '4.2'],\n",
       "       ...,\n",
       "       ['15', '54', '4.0'],\n",
       "       ['15', '57', '2.3.3'],\n",
       "       ['20', '47', '']], dtype='<U18')"
      ]
     },
     "execution_count": 239,
     "metadata": {},
     "output_type": "execute_result"
    }
   ],
   "source": [
    "lead_dataset_strip"
   ]
  },
  {
   "cell_type": "code",
   "execution_count": 240,
   "metadata": {},
   "outputs": [],
   "source": [
    "#Using Np.where() Transformation \n",
    "lead_dataset_strip[:,2] = np.where(lead_dataset_strip[:,2] == '4.0.3', '_', lead_dataset_strip[:,2])"
   ]
  },
  {
   "cell_type": "code",
   "execution_count": 241,
   "metadata": {},
   "outputs": [
    {
     "data": {
      "text/plain": [
       "array([['21', '62', '_'],\n",
       "       ['13', '50', '_'],\n",
       "       ['17', '53', '4.2'],\n",
       "       ...,\n",
       "       ['15', '54', '4.0'],\n",
       "       ['15', '57', '2.3.3'],\n",
       "       ['20', '47', '']], dtype='<U18')"
      ]
     },
     "execution_count": 241,
     "metadata": {},
     "output_type": "execute_result"
    }
   ],
   "source": [
    "lead_dataset_strip"
   ]
  },
  {
   "cell_type": "markdown",
   "metadata": {},
   "source": [
    "<b>Stacking Data</b><br><i>np.stack np.vstack np.hstack np.dstack</i>"
   ]
  },
  {
   "cell_type": "code",
   "execution_count": 244,
   "metadata": {},
   "outputs": [
    {
     "data": {
      "text/plain": [
       "array([[ 2.        , 21.        , 47.        , 20.05945799,  2.        ],\n",
       "       [ 0.        , 21.        , 62.        , 10.58624666,  6.        ],\n",
       "       [ 1.        , 13.        , 50.        , 12.25758194,  2.        ],\n",
       "       ...,\n",
       "       [ 1.        , 15.        , 54.        ,  9.17892527,  1.        ],\n",
       "       [ 1.        , 15.        , 57.        , 14.39721513,  4.        ],\n",
       "       [ 2.        , 20.        , 47.        ,  8.19234137,  6.        ]])"
      ]
     },
     "execution_count": 244,
     "metadata": {},
     "output_type": "execute_result"
    }
   ],
   "source": [
    "lead_data_stack=np.loadtxt(\"Test_Creation.csv\", delimiter=',')\n",
    "lead_data_stack"
   ]
  },
  {
   "cell_type": "code",
   "execution_count": 246,
   "metadata": {},
   "outputs": [],
   "source": [
    "#Recall\n",
    "lead_data_stack_Nan=np.genfromtxt(\"Test_Creation1.csv\",delimiter=',')\n",
    "\n",
    "temp_fill=np.nanmax(lead_data_stack_Nan).round(2)+1\n",
    "temp_mean=np.nanmean(lead_data_stack_Nan, axis=0).round(2)\n",
    "\n",
    "lead_data_stack_Nan=np.genfromtxt(\"Test_Creation1.csv\", delimiter=',', filling_values=temp_fill)\n",
    "\n",
    "for i in range(lead_data_stack_Nan.shape[1]):\n",
    "    lead_data_stack_Nan[:,i] = np.where(lead_data_stack_Nan[:,i]==temp_fill, temp_mean[i], lead_data_stack_Nan[:,i])"
   ]
  },
  {
   "cell_type": "code",
   "execution_count": 251,
   "metadata": {},
   "outputs": [
    {
     "data": {
      "text/plain": [
       "0"
      ]
     },
     "execution_count": 251,
     "metadata": {},
     "output_type": "execute_result"
    }
   ],
   "source": [
    "np.isnan(lead_data_stack_Nan).sum()"
   ]
  },
  {
   "cell_type": "code",
   "execution_count": 252,
   "metadata": {},
   "outputs": [],
   "source": [
    "#We can stack array of matching shapes to create a larger array\n",
    "#D- Depth Stack"
   ]
  },
  {
   "cell_type": "code",
   "execution_count": 257,
   "metadata": {},
   "outputs": [
    {
     "data": {
      "text/plain": [
       "array([[21., 21., 13., ..., 15., 15., 20.],\n",
       "       [ 2.,  0.,  1., ...,  1.,  1.,  2.]])"
      ]
     },
     "execution_count": 257,
     "metadata": {},
     "output_type": "execute_result"
    }
   ],
   "source": [
    " np.stack((lead_data_stack[:,1],lead_data_stack[:,0])) #Using it as a tuple hence 2()"
   ]
  },
  {
   "cell_type": "code",
   "execution_count": 256,
   "metadata": {},
   "outputs": [
    {
     "data": {
      "text/plain": [
       "array([[ 2.,  0.,  1., ...,  1.,  1.,  2.],\n",
       "       [21., 21., 13., ..., 15., 15., 20.]])"
      ]
     },
     "execution_count": 256,
     "metadata": {},
     "output_type": "execute_result"
    }
   ],
   "source": [
    "np.transpose(lead_data_stack[:,:2]) #Similar to stack"
   ]
  },
  {
   "cell_type": "code",
   "execution_count": 258,
   "metadata": {},
   "outputs": [
    {
     "data": {
      "text/plain": [
       "array([[21.,  2.],\n",
       "       [21.,  0.],\n",
       "       [13.,  1.],\n",
       "       ...,\n",
       "       [15.,  1.],\n",
       "       [15.,  1.],\n",
       "       [20.,  2.]])"
      ]
     },
     "execution_count": 258,
     "metadata": {},
     "output_type": "execute_result"
    }
   ],
   "source": [
    " np.stack((lead_data_stack[:,1],lead_data_stack[:,0]), axis=1) #From Row to Column"
   ]
  },
  {
   "cell_type": "code",
   "execution_count": 268,
   "metadata": {},
   "outputs": [
    {
     "data": {
      "text/plain": [
       "(1000, 5)"
      ]
     },
     "execution_count": 268,
     "metadata": {},
     "output_type": "execute_result"
    }
   ],
   "source": [
    "lead_data_stack_Nan.shape"
   ]
  },
  {
   "cell_type": "code",
   "execution_count": 273,
   "metadata": {},
   "outputs": [
    {
     "data": {
      "text/plain": [
       "(2000, 5)"
      ]
     },
     "execution_count": 273,
     "metadata": {},
     "output_type": "execute_result"
    }
   ],
   "source": [
    "np.vstack((lead_data_stack, lead_data_stack_Nan)).shape #Vertical Append"
   ]
  },
  {
   "cell_type": "code",
   "execution_count": 283,
   "metadata": {},
   "outputs": [
    {
     "data": {
      "text/plain": [
       "array([[21., 21., 13., ..., 15., 15., 20.],\n",
       "       [21., 21., 13., ..., 15., 15., 20.]])"
      ]
     },
     "execution_count": 283,
     "metadata": {},
     "output_type": "execute_result"
    }
   ],
   "source": [
    "np.vstack((lead_data_stack[:,1], lead_data_stack_Nan[:,1]))"
   ]
  },
  {
   "cell_type": "code",
   "execution_count": 281,
   "metadata": {},
   "outputs": [
    {
     "data": {
      "text/plain": [
       "(1000, 10)"
      ]
     },
     "execution_count": 281,
     "metadata": {},
     "output_type": "execute_result"
    }
   ],
   "source": [
    "np.hstack((lead_data_stack,lead_data_stack_Nan)).shape #Horizontal Append"
   ]
  },
  {
   "cell_type": "code",
   "execution_count": 284,
   "metadata": {
    "collapsed": true
   },
   "outputs": [
    {
     "data": {
      "text/plain": [
       "array([[[ 2.        ,  2.        ],\n",
       "        [21.        , 21.        ],\n",
       "        [47.        , 54.17      ],\n",
       "        [20.05945799, 20.05945799],\n",
       "        [ 2.        ,  2.        ]],\n",
       "\n",
       "       [[ 0.        ,  0.        ],\n",
       "        [21.        , 21.        ],\n",
       "        [62.        , 62.        ],\n",
       "        [10.58624666, 10.58624666],\n",
       "        [ 6.        ,  6.        ]],\n",
       "\n",
       "       [[ 1.        ,  1.        ],\n",
       "        [13.        , 13.        ],\n",
       "        [50.        , 50.        ],\n",
       "        [12.25758194, 12.25758194],\n",
       "        [ 2.        ,  2.        ]],\n",
       "\n",
       "       ...,\n",
       "\n",
       "       [[ 1.        ,  1.        ],\n",
       "        [15.        , 15.        ],\n",
       "        [54.        , 54.        ],\n",
       "        [ 9.17892527,  9.17892527],\n",
       "        [ 1.        ,  1.        ]],\n",
       "\n",
       "       [[ 1.        ,  1.        ],\n",
       "        [15.        , 15.        ],\n",
       "        [57.        , 57.        ],\n",
       "        [14.39721513, 14.39721513],\n",
       "        [ 4.        ,  4.        ]],\n",
       "\n",
       "       [[ 2.        ,  2.        ],\n",
       "        [20.        , 20.        ],\n",
       "        [47.        , 47.        ],\n",
       "        [ 8.19234137,  8.19234137],\n",
       "        [ 6.        ,  6.        ]]])"
      ]
     },
     "execution_count": 284,
     "metadata": {},
     "output_type": "execute_result"
    }
   ],
   "source": [
    "np.dstack((lead_data_stack,lead_data_stack_Nan))"
   ]
  },
  {
   "cell_type": "code",
   "execution_count": 287,
   "metadata": {},
   "outputs": [
    {
     "data": {
      "text/plain": [
       "(1000, 5, 2)"
      ]
     },
     "execution_count": 287,
     "metadata": {},
     "output_type": "execute_result"
    }
   ],
   "source": [
    "np.dstack((lead_data_stack,lead_data_stack_Nan)).shape #(Row,Col,Depth)"
   ]
  },
  {
   "cell_type": "code",
   "execution_count": 288,
   "metadata": {},
   "outputs": [
    {
     "data": {
      "text/plain": [
       "array([[ 2.        ,  2.        ],\n",
       "       [21.        , 21.        ],\n",
       "       [47.        , 54.17      ],\n",
       "       [20.05945799, 20.05945799],\n",
       "       [ 2.        ,  2.        ]])"
      ]
     },
     "execution_count": 288,
     "metadata": {},
     "output_type": "execute_result"
    }
   ],
   "source": [
    "np.dstack((lead_data_stack,lead_data_stack_Nan))[0] #This is first row of both Sheets"
   ]
  },
  {
   "cell_type": "code",
   "execution_count": 289,
   "metadata": {},
   "outputs": [
    {
     "data": {
      "text/plain": [
       "array([ 2.        , 21.        , 47.        , 20.05945799,  2.        ])"
      ]
     },
     "execution_count": 289,
     "metadata": {},
     "output_type": "execute_result"
    }
   ],
   "source": [
    "np.dstack((lead_data_stack,lead_data_stack_Nan))[0,:,0]"
   ]
  },
  {
   "cell_type": "code",
   "execution_count": 290,
   "metadata": {
    "collapsed": true
   },
   "outputs": [
    {
     "data": {
      "text/plain": [
       "array([[[ 2.        ,  2.        ],\n",
       "        [21.        , 21.        ],\n",
       "        [47.        , 54.17      ],\n",
       "        [20.05945799, 20.05945799],\n",
       "        [ 2.        ,  2.        ]],\n",
       "\n",
       "       [[ 0.        ,  0.        ],\n",
       "        [21.        , 21.        ],\n",
       "        [62.        , 62.        ],\n",
       "        [10.58624666, 10.58624666],\n",
       "        [ 6.        ,  6.        ]],\n",
       "\n",
       "       [[ 1.        ,  1.        ],\n",
       "        [13.        , 13.        ],\n",
       "        [50.        , 50.        ],\n",
       "        [12.25758194, 12.25758194],\n",
       "        [ 2.        ,  2.        ]],\n",
       "\n",
       "       ...,\n",
       "\n",
       "       [[ 1.        ,  1.        ],\n",
       "        [15.        , 15.        ],\n",
       "        [54.        , 54.        ],\n",
       "        [ 9.17892527,  9.17892527],\n",
       "        [ 1.        ,  1.        ]],\n",
       "\n",
       "       [[ 1.        ,  1.        ],\n",
       "        [15.        , 15.        ],\n",
       "        [57.        , 57.        ],\n",
       "        [14.39721513, 14.39721513],\n",
       "        [ 4.        ,  4.        ]],\n",
       "\n",
       "       [[ 2.        ,  2.        ],\n",
       "        [20.        , 20.        ],\n",
       "        [47.        , 47.        ],\n",
       "        [ 8.19234137,  8.19234137],\n",
       "        [ 6.        ,  6.        ]]])"
      ]
     },
     "execution_count": 290,
     "metadata": {},
     "output_type": "execute_result"
    }
   ],
   "source": [
    "np.stack((lead_data_stack,lead_data_stack_Nan), axis=-1) #Equals to dStack"
   ]
  },
  {
   "cell_type": "markdown",
   "metadata": {},
   "source": [
    "<b>Concatenate</b><br>Linking together objects in a chain in a <i>existing axis</i>"
   ]
  },
  {
   "cell_type": "code",
   "execution_count": 292,
   "metadata": {},
   "outputs": [
    {
     "data": {
      "text/plain": [
       "array([[ 2.        , 21.        , 47.        , 20.05945799,  2.        ],\n",
       "       [ 0.        , 21.        , 62.        , 10.58624666,  6.        ],\n",
       "       [ 1.        , 13.        , 50.        , 12.25758194,  2.        ],\n",
       "       ...,\n",
       "       [ 1.        , 15.        , 54.        ,  9.17892527,  1.        ],\n",
       "       [ 1.        , 15.        , 57.        , 14.39721513,  4.        ],\n",
       "       [ 2.        , 20.        , 47.        ,  8.19234137,  6.        ]])"
      ]
     },
     "execution_count": 292,
     "metadata": {},
     "output_type": "execute_result"
    }
   ],
   "source": [
    "lead_data_concat=np.loadtxt(\"Test_Creation.csv\", delimiter=',')\n",
    "lead_data_concat"
   ]
  },
  {
   "cell_type": "code",
   "execution_count": 295,
   "metadata": {},
   "outputs": [
    {
     "data": {
      "text/plain": [
       "array([ 2.        , 21.        , 47.        , 20.05945799,  2.        ,\n",
       "        0.        , 21.        , 62.        , 10.58624666,  6.        ])"
      ]
     },
     "execution_count": 295,
     "metadata": {},
     "output_type": "execute_result"
    }
   ],
   "source": [
    "#Concate 1st two rows\n",
    "np.concatenate((lead_data_concat[0,:],lead_data_concat[1,:]))"
   ]
  },
  {
   "cell_type": "code",
   "execution_count": 297,
   "metadata": {},
   "outputs": [
    {
     "data": {
      "text/plain": [
       "array([[ 2.        , 21.        , 54.17      , 20.05945799,  2.        ],\n",
       "       [ 0.        , 21.        , 62.        , 10.58624666,  6.        ],\n",
       "       [ 1.        , 13.        , 50.        , 12.25758194,  2.        ],\n",
       "       ...,\n",
       "       [ 1.        , 15.        , 54.        ,  9.17892527,  1.        ],\n",
       "       [ 1.        , 15.        , 57.        , 14.39721513,  4.        ],\n",
       "       [ 2.        , 20.        , 47.        ,  8.19234137,  6.        ]])"
      ]
     },
     "execution_count": 297,
     "metadata": {},
     "output_type": "execute_result"
    }
   ],
   "source": [
    "#For 2D Array\n",
    "#Recall Nan\n",
    "lead_data_concat_Nan= np.genfromtxt(\"Test_Creation1.csv\",delimiter=',')\n",
    "\n",
    "temp_fill=np.nanmax(lead_data_concat_Nan).round(2)+1\n",
    "temp_mean=np.nanmean(lead_data_concat_Nan, axis=0).round(2)\n",
    "\n",
    "lead_data_concat_Nan=np.genfromtxt(\"Test_Creation1.csv\", delimiter=',', filling_values=temp_fill)\n",
    "\n",
    "for i in range (lead_data_concat_Nan.shape[1]):\n",
    "    lead_data_concat_Nan[:,i]=np.where(lead_data_concat_Nan[:,i]== temp_fill,temp_mean[i], lead_data_concat_Nan[:,i])\n",
    "\n",
    "lead_data_concat_Nan"
   ]
  },
  {
   "cell_type": "code",
   "execution_count": 298,
   "metadata": {},
   "outputs": [
    {
     "data": {
      "text/plain": [
       "array([[ 2.        , 21.        , 47.        , 20.05945799,  2.        ],\n",
       "       [ 0.        , 21.        , 62.        , 10.58624666,  6.        ],\n",
       "       [ 1.        , 13.        , 50.        , 12.25758194,  2.        ],\n",
       "       ...,\n",
       "       [ 1.        , 15.        , 54.        ,  9.17892527,  1.        ],\n",
       "       [ 1.        , 15.        , 57.        , 14.39721513,  4.        ],\n",
       "       [ 2.        , 20.        , 47.        ,  8.19234137,  6.        ]])"
      ]
     },
     "execution_count": 298,
     "metadata": {},
     "output_type": "execute_result"
    }
   ],
   "source": [
    "np.concatenate((lead_data_concat,lead_data_concat_Nan))"
   ]
  },
  {
   "cell_type": "code",
   "execution_count": 300,
   "metadata": {},
   "outputs": [
    {
     "data": {
      "text/plain": [
       "(2000, 5)"
      ]
     },
     "execution_count": 300,
     "metadata": {},
     "output_type": "execute_result"
    }
   ],
   "source": [
    "np.concatenate((lead_data_concat,lead_data_concat_Nan)).shape"
   ]
  },
  {
   "cell_type": "code",
   "execution_count": 301,
   "metadata": {},
   "outputs": [
    {
     "data": {
      "text/plain": [
       "array([[ 2.        , 21.        , 47.        , ..., 54.17      ,\n",
       "        20.05945799,  2.        ],\n",
       "       [ 0.        , 21.        , 62.        , ..., 62.        ,\n",
       "        10.58624666,  6.        ],\n",
       "       [ 1.        , 13.        , 50.        , ..., 50.        ,\n",
       "        12.25758194,  2.        ],\n",
       "       ...,\n",
       "       [ 1.        , 15.        , 54.        , ..., 54.        ,\n",
       "         9.17892527,  1.        ],\n",
       "       [ 1.        , 15.        , 57.        , ..., 57.        ,\n",
       "        14.39721513,  4.        ],\n",
       "       [ 2.        , 20.        , 47.        , ..., 47.        ,\n",
       "         8.19234137,  6.        ]])"
      ]
     },
     "execution_count": 301,
     "metadata": {},
     "output_type": "execute_result"
    }
   ],
   "source": [
    "np.concatenate((lead_data_concat,lead_data_concat_Nan), axis=1)"
   ]
  },
  {
   "cell_type": "code",
   "execution_count": 302,
   "metadata": {},
   "outputs": [
    {
     "data": {
      "text/plain": [
       "(1000, 10)"
      ]
     },
     "execution_count": 302,
     "metadata": {},
     "output_type": "execute_result"
    }
   ],
   "source": [
    "np.concatenate((lead_data_concat,lead_data_concat_Nan),axis=1).shape"
   ]
  },
  {
   "cell_type": "code",
   "execution_count": 307,
   "metadata": {},
   "outputs": [],
   "source": [
    "array_1=np.array([[[1,2,3],[4,5,6],[7,8,9]],[[10,11,12],[13,14,15],[16,17,18]]])\n",
    "array_2=array_1*2"
   ]
  },
  {
   "cell_type": "code",
   "execution_count": 311,
   "metadata": {},
   "outputs": [
    {
     "data": {
      "text/plain": [
       "array([[[ 1,  2,  3],\n",
       "        [ 4,  5,  6],\n",
       "        [ 7,  8,  9]],\n",
       "\n",
       "       [[10, 11, 12],\n",
       "        [13, 14, 15],\n",
       "        [16, 17, 18]],\n",
       "\n",
       "       [[ 2,  4,  6],\n",
       "        [ 8, 10, 12],\n",
       "        [14, 16, 18]],\n",
       "\n",
       "       [[20, 22, 24],\n",
       "        [26, 28, 30],\n",
       "        [32, 34, 36]]])"
      ]
     },
     "execution_count": 311,
     "metadata": {},
     "output_type": "execute_result"
    }
   ],
   "source": [
    "np.concatenate((array_1,array_2))"
   ]
  },
  {
   "cell_type": "code",
   "execution_count": 313,
   "metadata": {},
   "outputs": [
    {
     "data": {
      "text/plain": [
       "array([[[ 1,  2,  3],\n",
       "        [ 4,  5,  6],\n",
       "        [ 7,  8,  9],\n",
       "        [ 2,  4,  6],\n",
       "        [ 8, 10, 12],\n",
       "        [14, 16, 18]],\n",
       "\n",
       "       [[10, 11, 12],\n",
       "        [13, 14, 15],\n",
       "        [16, 17, 18],\n",
       "        [20, 22, 24],\n",
       "        [26, 28, 30],\n",
       "        [32, 34, 36]]])"
      ]
     },
     "execution_count": 313,
     "metadata": {},
     "output_type": "execute_result"
    }
   ],
   "source": [
    "np.concatenate((array_1,array_2), axis=1)"
   ]
  },
  {
   "cell_type": "code",
   "execution_count": 314,
   "metadata": {},
   "outputs": [],
   "source": [
    "#Np.concatenate works exactly like hstack(axis=0), vstack(axis=1), dstack(axis=2) "
   ]
  },
  {
   "cell_type": "markdown",
   "metadata": {},
   "source": [
    "<b>Unique Values</b>"
   ]
  },
  {
   "cell_type": "code",
   "execution_count": 316,
   "metadata": {},
   "outputs": [
    {
     "data": {
      "text/plain": [
       "array([[ 2.        , 21.        , 47.        , 20.05945799,  2.        ],\n",
       "       [ 0.        , 21.        , 62.        , 10.58624666,  6.        ],\n",
       "       [ 1.        , 13.        , 50.        , 12.25758194,  2.        ],\n",
       "       ...,\n",
       "       [ 1.        , 15.        , 54.        ,  9.17892527,  1.        ],\n",
       "       [ 1.        , 15.        , 57.        , 14.39721513,  4.        ],\n",
       "       [ 2.        , 20.        , 47.        ,  8.19234137,  6.        ]])"
      ]
     },
     "execution_count": 316,
     "metadata": {},
     "output_type": "execute_result"
    }
   ],
   "source": [
    "lead_dataset_unique=np.loadtxt(\"Test_Creation.csv\",delimiter=',')\n",
    "lead_dataset_unique"
   ]
  },
  {
   "cell_type": "code",
   "execution_count": 317,
   "metadata": {},
   "outputs": [
    {
     "data": {
      "text/plain": [
       "array([-19.68716184, -15.82393876, -13.53845836, ...,  66.        ,\n",
       "        67.        ,  69.        ])"
      ]
     },
     "execution_count": 317,
     "metadata": {},
     "output_type": "execute_result"
    }
   ],
   "source": [
    "np.unique(lead_dataset_unique)"
   ]
  },
  {
   "cell_type": "code",
   "execution_count": 318,
   "metadata": {},
   "outputs": [
    {
     "data": {
      "text/plain": [
       "array([0., 1., 2., 3., 4., 5.])"
      ]
     },
     "execution_count": 318,
     "metadata": {},
     "output_type": "execute_result"
    }
   ],
   "source": [
    "np.unique(lead_dataset_unique[:,0])"
   ]
  },
  {
   "cell_type": "code",
   "execution_count": 322,
   "metadata": {},
   "outputs": [
    {
     "data": {
      "text/plain": [
       "array([[  0., 383.],\n",
       "       [  1., 355.],\n",
       "       [  2., 194.],\n",
       "       [  3.,  49.],\n",
       "       [  4.,  16.],\n",
       "       [  5.,   3.]])"
      ]
     },
     "execution_count": 322,
     "metadata": {},
     "output_type": "execute_result"
    }
   ],
   "source": [
    "#How many times each one appers\n",
    "np.transpose(np.unique(lead_dataset_unique[:,0], return_counts=True))"
   ]
  },
  {
   "cell_type": "code",
   "execution_count": 323,
   "metadata": {},
   "outputs": [
    {
     "data": {
      "text/plain": [
       "(array([0., 1., 2., 3., 4., 5.]),\n",
       " array([  1,   2,   0,  36,  28, 110], dtype=int64),\n",
       " array([383, 355, 194,  49,  16,   3], dtype=int64))"
      ]
     },
     "execution_count": 323,
     "metadata": {},
     "output_type": "execute_result"
    }
   ],
   "source": [
    "np.unique(lead_dataset_unique[:,0], return_counts=True, return_index=True)\n",
    "#Middle array is Index telling where did they appear for the first time"
   ]
  },
  {
   "cell_type": "code",
   "execution_count": null,
   "metadata": {},
   "outputs": [],
   "source": []
  }
 ],
 "metadata": {
  "kernelspec": {
   "display_name": "Python 3",
   "language": "python",
   "name": "python3"
  },
  "language_info": {
   "codemirror_mode": {
    "name": "ipython",
    "version": 3
   },
   "file_extension": ".py",
   "mimetype": "text/x-python",
   "name": "python",
   "nbconvert_exporter": "python",
   "pygments_lexer": "ipython3",
   "version": "3.7.6"
  }
 },
 "nbformat": 4,
 "nbformat_minor": 4
}
